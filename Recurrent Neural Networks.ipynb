{
  "cells": [
    {
      "cell_type": "markdown",
      "metadata": {
        "id": "jqVj_MwtQVUM"
      },
      "source": [
        "# Recurrent Neural Networks\n",
        "---"
      ]
    },
    {
      "cell_type": "code",
      "execution_count": 1,
      "metadata": {
        "id": "SK-CR7y1qQGE"
      },
      "outputs": [],
      "source": [
        "import numpy as np\n",
        "import matplotlib.pyplot as plt"
      ]
    },
    {
      "cell_type": "markdown",
      "metadata": {
        "id": "fDCSeKZcQJs2"
      },
      "source": [
        "---\n",
        "### Implement Tanh and Softmax"
      ]
    },
    {
      "cell_type": "markdown",
      "metadata": {
        "id": "ELBSbul6TKDM"
      },
      "source": [
        "**Exercise 1 [0.5/0.5]**:\n",
        "1. Implement class `Tanh`."
      ]
    },
    {
      "cell_type": "code",
      "execution_count": 2,
      "metadata": {
        "id": "CzqPYQLR8Xhb"
      },
      "outputs": [],
      "source": [
        "class Tanh:\n",
        "\n",
        "    def __init__(self):\n",
        "        pass\n",
        "\n",
        "    def forward(self, x):\n",
        "        return np.tanh(x)\n",
        "\n",
        "    def derivative(self, x):\n",
        "        return 1 - np.tanh(x) ** 2\n",
        "\n",
        "    def __call__(self, x):\n",
        "        return self.forward(x)"
      ]
    },
    {
      "cell_type": "code",
      "execution_count": 3,
      "metadata": {
        "id": "I6NOZI2XqQGI"
      },
      "outputs": [],
      "source": [
        "act = Tanh()\n",
        "np.random.seed(1)\n",
        "x = np.random.randn(2,3)"
      ]
    },
    {
      "cell_type": "code",
      "execution_count": 4,
      "metadata": {
        "colab": {
          "base_uri": "https://localhost:8080/"
        },
        "id": "ztARRX9vVFRF",
        "outputId": "8e2442f9-55fd-41e3-d7c9-bf15aa3fda27"
      },
      "outputs": [
        {
          "name": "stdout",
          "output_type": "stream",
          "text": [
            "act(x) =\n",
            " [[ 0.92525207 -0.5453623  -0.48398233]\n",
            " [-0.79057703  0.69903334 -0.98015695]]\n",
            "act.derivative(x) =\n",
            " [[0.1439086  0.70257996 0.76576111]\n",
            " [0.37498795 0.51135239 0.03929236]]\n"
          ]
        }
      ],
      "source": [
        "print(f\"act(x) =\\n {act(x)}\")\n",
        "print(f\"act.derivative(x) =\\n {act.derivative(x)}\")"
      ]
    },
    {
      "cell_type": "markdown",
      "metadata": {
        "id": "_dDpsfG1TsJ3"
      },
      "source": [
        "**Exercise 2 [0.5/0.5]**:\n",
        "1. Implement softmax."
      ]
    },
    {
      "cell_type": "code",
      "execution_count": 5,
      "metadata": {
        "id": "rjxVXLXXTvfD"
      },
      "outputs": [],
      "source": [
        "def softmax(x):\n",
        "\n",
        "    exp_x = np.exp(x - np.max(x, axis = 1, keepdims = True))\n",
        "    softmax = exp_x / np.sum(exp_x, axis = 1, keepdims = True)\n",
        "\n",
        "    return softmax"
      ]
    },
    {
      "cell_type": "code",
      "execution_count": 6,
      "metadata": {
        "id": "9xQcmMXCqQGL"
      },
      "outputs": [],
      "source": [
        "np.random.seed(1)\n",
        "x = np.random.randn(4,5)\n",
        "y = softmax(x)"
      ]
    },
    {
      "cell_type": "code",
      "execution_count": 7,
      "metadata": {
        "colab": {
          "base_uri": "https://localhost:8080/"
        },
        "id": "57lH_uHIU6Wo",
        "outputId": "deb4e645-80cb-42fe-d0e7-bd3f3a9b2dcb"
      },
      "outputs": [
        {
          "name": "stdout",
          "output_type": "stream",
          "text": [
            "softmax(x) =\n",
            " [[0.56862917 0.06077185 0.06606977 0.0383178  0.26621141]\n",
            " [0.01185074 0.67772435 0.05529718 0.16287255 0.09225519]\n",
            " [0.48184163 0.01423021 0.08089001 0.07605473 0.34698342]\n",
            " [0.07524367 0.19022258 0.09395018 0.2357653  0.40481828]]\n",
            "sum of y for each sample =\n",
            " [[1.]\n",
            " [1.]\n",
            " [1.]\n",
            " [1.]]\n"
          ]
        }
      ],
      "source": [
        "print(f\"softmax(x) =\\n {y}\")\n",
        "print(f\"sum of y for each sample =\\n {np.sum(y, axis = 1, keepdims = True)}\")"
      ]
    },
    {
      "cell_type": "markdown",
      "metadata": {
        "id": "DulWZP4dqkTE"
      },
      "source": [
        "---\n",
        "### Implement Recurrent Neural Network"
      ]
    },
    {
      "cell_type": "markdown",
      "metadata": {
        "id": "IFWUaHn1-eU6"
      },
      "source": [
        "**Exercise 3 [2/2]**:\n",
        "1. Implement `initialize_rnn_parameters` to randomly initilaize weights `Wx`, `Wy`, `Wh`, and biases `bh` and `by`.\n",
        "2. Return a dictionary `parameters` that contains all parameters."
      ]
    },
    {
      "cell_type": "code",
      "execution_count": 8,
      "metadata": {
        "id": "mLRR4B57-gKo"
      },
      "outputs": [],
      "source": [
        "def initialize_rnn_parameters(n_x, n_h, n_y):\n",
        "\n",
        "    parameters = {}\n",
        "\n",
        "    Wx = np.random.randn(n_h, n_x) * np.sqrt(2 / (n_x + n_h))\n",
        "    Wh = np.random.randn(n_h, n_h) * np.sqrt(2 / (n_h + n_h))\n",
        "    Wy = np.random.randn(n_y, n_h) * np.sqrt(2 / (n_y + n_h))\n",
        "    bh = np.zeros((n_h, 1))\n",
        "    by = np.zeros((n_y, 1))\n",
        "\n",
        "    parameters['Wx'] = Wx\n",
        "    parameters['Wh'] = Wh\n",
        "    parameters['Wy'] = Wy\n",
        "    parameters['bh'] = bh\n",
        "    parameters['by'] = by\n",
        "\n",
        "    return parameters"
      ]
    },
    {
      "cell_type": "code",
      "execution_count": 9,
      "metadata": {
        "id": "KtKBTFAzqQGO"
      },
      "outputs": [],
      "source": [
        "n_x = 3\n",
        "n_h = 9\n",
        "n_y = 5\n",
        "np.random.seed(1)\n",
        "parameters = initialize_rnn_parameters(n_x, n_h, n_y)"
      ]
    },
    {
      "cell_type": "code",
      "execution_count": 10,
      "metadata": {
        "colab": {
          "base_uri": "https://localhost:8080/"
        },
        "id": "vGbdkf-k_qXc",
        "outputId": "e6f0001c-e9ae-4b62-b4f5-ff05fccb45eb"
      },
      "outputs": [
        {
          "name": "stdout",
          "output_type": "stream",
          "text": [
            "Wx: [[ 0.66313622 -0.24974851 -0.21562521]\n",
            " [-0.43803761  0.35330119 -0.93959924]\n",
            " [ 0.71231642 -0.31076142  0.13024717]\n",
            " [-0.10180503  0.59690307 -0.84104892]\n",
            " [-0.13162627 -0.15678953  0.46285944]\n",
            " [-0.44902873 -0.07039352 -0.3583842 ]\n",
            " [ 0.01723369  0.23793331 -0.4493259 ]\n",
            " [ 0.4673315   0.36807287  0.20514245]\n",
            " [ 0.3677729  -0.27913073 -0.05016972]]\n",
            "Wh: [[-0.31192314 -0.08929603  0.17678516 -0.23055358 -0.13225118 -0.22905757\n",
            "  -0.28173521 -0.22374871 -0.00422153]\n",
            " [-0.37243678  0.07813857  0.55326739  0.24734805 -0.06394518 -0.29587632\n",
            "  -0.24905276  0.56415153  0.01693592]\n",
            " [-0.21233188  0.06363849  0.70008505  0.04005298  0.20573437  0.10005677\n",
            "  -0.11741662 -0.3808394  -0.11644757]\n",
            " [-0.06963141  0.19554106  0.27966114  0.31036736  0.09519578  0.29504705\n",
            "  -0.25146598  0.41762272  0.17097661]\n",
            " [-0.09936428  0.16283938 -0.02519057  0.3772098   0.50660561  0.72852514\n",
            "  -0.46549878 -0.48137127 -0.16815529]\n",
            " [ 0.05334569  0.29205631  0.10521165 -0.67406707 -0.102068    0.27599155\n",
            "   0.07669825  0.25400373 -0.07410938]\n",
            " [-0.06691936  0.06218713  0.13668388  0.06609991  0.03966955 -0.2235541\n",
            "   0.1258546   0.04060709  0.37649464]\n",
            " [ 0.39963929  0.06171881 -0.12509498 -0.21291014  0.14116478  0.02578002\n",
            "  -0.11461789  0.01453229 -0.20666695]\n",
            " [ 0.23267734 -0.14904285  0.40816923  0.13449721  0.19785951 -0.36497062\n",
            "   0.05646081  0.24685215 -0.3179002 ]]\n",
            "Wy: [[-0.10062114  0.01232714 -0.51898956  0.11911905  0.31981866 -0.32486649\n",
            "   0.13249393 -0.49599651 -0.01462553]\n",
            " [-0.61070455  0.42385605  0.15454988 -0.00930433 -0.29298355  0.48143449\n",
            "   0.74349458 -0.70225114  0.46722609]\n",
            " [ 0.61519416  0.12775641 -0.45328071  0.32631386 -0.06838145 -0.22826054\n",
            "  -0.46491828  0.20808361  0.29965283]\n",
            " [-0.23567246  0.19675936 -0.43252039  0.30307498  0.01760078 -0.07051675\n",
            "  -0.03845633  0.3284081   0.28362894]\n",
            " [ 0.20011908  0.05204617  0.02941362  0.23372577  0.08787468  0.25798018\n",
            "  -0.11721312 -0.92028217  0.39263879]]\n"
          ]
        }
      ],
      "source": [
        "print(\"Wx:\", parameters['Wx'])\n",
        "print(\"Wh:\", parameters['Wh'])\n",
        "print(\"Wy:\", parameters['Wy'])"
      ]
    },
    {
      "cell_type": "markdown",
      "metadata": {
        "id": "WIMG07hsqQGQ"
      },
      "source": [
        "---\n",
        "### RNN Layer"
      ]
    },
    {
      "cell_type": "markdown",
      "metadata": {
        "id": "aTIOPPqE_3k3"
      },
      "source": [
        "**Exercise 4 [2/2]**:\n",
        "1. Implement one layer RNN `rnn_layer` with input `x_t` and `h_prev`, and `parameters`.\n",
        "2. Return the `yhat_t`, `h_t`, and `z_t`."
      ]
    },
    {
      "cell_type": "code",
      "execution_count": 11,
      "metadata": {
        "id": "fukEn0qFqtp7"
      },
      "outputs": [],
      "source": [
        "def rnn_layer(x_t, h_prev, parameters, act = Tanh()):\n",
        "\n",
        "    Wh = parameters['Wh']\n",
        "    Wx = parameters['Wx']\n",
        "    Wy = parameters['Wy']\n",
        "    bh = parameters['bh']\n",
        "    by = parameters['by']\n",
        "\n",
        "    z_t = np.dot(Wh, h_prev.T).T + np.dot(Wx, x_t.T).T + bh.T\n",
        "    h_t = act(z_t)\n",
        "    u_t = np.dot(Wy, h_t.T).T + by.T\n",
        "    yhat_t = softmax(u_t)\n",
        "\n",
        "    return yhat_t, h_t, z_t"
      ]
    },
    {
      "cell_type": "code",
      "execution_count": 12,
      "metadata": {
        "id": "fOJnno3RqQGR"
      },
      "outputs": [],
      "source": [
        "batch_size = 2\n",
        "np.random.seed(1)\n",
        "x = np.random.randn(batch_size, n_x)\n",
        "pre_h = np.random.randn(batch_size, n_h)\n",
        "y_t, h_t, z_t = rnn_layer(x, pre_h, parameters)"
      ]
    },
    {
      "cell_type": "code",
      "execution_count": 13,
      "metadata": {
        "colab": {
          "base_uri": "https://localhost:8080/"
        },
        "id": "h0V6ZFvht-Uk",
        "outputId": "d014e796-0119-4025-cc2d-b25a1fc449b3"
      },
      "outputs": [
        {
          "name": "stdout",
          "output_type": "stream",
          "text": [
            "y_t.shape: (2, 5)\n",
            "y_t: [[0.11065074 0.18737187 0.36453136 0.19970539 0.13774064]\n",
            " [0.11864454 0.60720197 0.04573351 0.10366995 0.12475003]]\n"
          ]
        }
      ],
      "source": [
        "print(\"y_t.shape:\", y_t.shape)\n",
        "print(\"y_t:\", y_t)"
      ]
    },
    {
      "cell_type": "markdown",
      "metadata": {
        "id": "o0HX9DRSqQGS"
      },
      "source": [
        "---\n",
        "### RNN Forward Pass"
      ]
    },
    {
      "cell_type": "markdown",
      "metadata": {
        "id": "P1WZbQQZBUNL"
      },
      "source": [
        "**Exercise 5 [2/2]**:\n",
        "1. Implement `forward()` by stackin the `rnn_layer`.\n",
        "2. Return the outputs `yhats` and `cache` that stores `hs`, `zs`, `yhats`, and `inputs`."
      ]
    },
    {
      "cell_type": "code",
      "execution_count": 14,
      "metadata": {
        "id": "I-6Ks_fsF8wS"
      },
      "outputs": [],
      "source": [
        "def forward(inputs, parameters, act = Tanh()):\n",
        "\n",
        "    batch_size, sequence_length, input_size = inputs.shape\n",
        "    hidden_size = parameters['Wh'].shape[0]\n",
        "    output_size = parameters['Wy'].shape[0]\n",
        "\n",
        "    yhats = np.zeros((batch_size, sequence_length, output_size))\n",
        "    hs = np.zeros((batch_size, sequence_length, hidden_size))\n",
        "    zs = np.zeros((batch_size, sequence_length, hidden_size))\n",
        "\n",
        "    h_prev = np.zeros((batch_size, hidden_size))\n",
        "\n",
        "    for t in range(sequence_length):\n",
        "\n",
        "        x_t = inputs[:, t, :]\n",
        "        yhat_t, h_t, z_t = rnn_layer(x_t, h_prev, parameters, act)\n",
        "\n",
        "        yhats[:, t, :] = yhat_t\n",
        "        hs[:, t, :] = h_t\n",
        "        zs[:, t, :] = z_t\n",
        "        h_prev = h_t\n",
        "\n",
        "    cache = {'inputs': inputs, 'hs': hs, 'zs': zs, 'yhats': yhats}\n",
        "\n",
        "    return yhats, cache"
      ]
    },
    {
      "cell_type": "code",
      "execution_count": 15,
      "metadata": {
        "id": "H0RGiZJtqQGT"
      },
      "outputs": [],
      "source": [
        "batch_size = 7\n",
        "sequence_length = 2\n",
        "n_x = 3\n",
        "n_h = 9\n",
        "n_y = 5\n",
        "np.random.seed(1)\n",
        "x = np.random.randn(batch_size, sequence_length, n_x)\n",
        "parameters = initialize_rnn_parameters(n_x, n_h, n_y)\n",
        "outputs, cache = forward(x, parameters)"
      ]
    },
    {
      "cell_type": "code",
      "execution_count": 16,
      "metadata": {
        "colab": {
          "base_uri": "https://localhost:8080/"
        },
        "id": "E_3iELCSF8y7",
        "outputId": "bf863cb1-438f-4014-cca2-601c2977b26e"
      },
      "outputs": [
        {
          "name": "stdout",
          "output_type": "stream",
          "text": [
            "y_pred.shape: (7, 2, 5)\n",
            "y_pred: [[[0.39260451 0.31788106 0.11125198 0.11496241 0.06330004]\n",
            "  [0.39098764 0.13642694 0.27785873 0.10241868 0.09230802]]\n",
            "\n",
            " [[0.28393407 0.33833283 0.13566298 0.14268575 0.09938437]\n",
            "  [0.3175509  0.169947   0.27020246 0.14134367 0.10095597]]\n",
            "\n",
            " [[0.10801688 0.18018109 0.17736419 0.23857554 0.2958623 ]\n",
            "  [0.33312266 0.24848178 0.17355368 0.13952846 0.10531342]]\n",
            "\n",
            " [[0.28793629 0.16850319 0.23487229 0.15892815 0.14976008]\n",
            "  [0.08063801 0.09994124 0.22107313 0.22526857 0.37307905]]\n",
            "\n",
            " [[0.33716084 0.30794184 0.12382322 0.14271757 0.08835654]\n",
            "  [0.17844986 0.14700902 0.27146238 0.1989327  0.20414604]]\n",
            "\n",
            " [[0.35335687 0.22156155 0.15889795 0.15396434 0.11221929]\n",
            "  [0.27123241 0.15917378 0.16922405 0.20133283 0.19903693]]\n",
            "\n",
            " [[0.049228   0.07990321 0.22708698 0.20573746 0.43804435]\n",
            "  [0.29412728 0.37569866 0.10101371 0.14087987 0.08828048]]]\n"
          ]
        }
      ],
      "source": [
        "print(\"y_pred.shape:\", outputs.shape)\n",
        "print(\"y_pred:\", outputs)"
      ]
    },
    {
      "cell_type": "markdown",
      "metadata": {
        "id": "FM-c0rAxqQGU"
      },
      "source": [
        "---\n",
        "### Compute Cost"
      ]
    },
    {
      "cell_type": "markdown",
      "metadata": {
        "id": "JWVA5kXoK26S"
      },
      "source": [
        "**Exercise 6 [1/1]**:\n",
        "1. Implement the `compute_cost()`"
      ]
    },
    {
      "cell_type": "code",
      "execution_count": 17,
      "metadata": {
        "id": "YzHG_S5yK4Y0"
      },
      "outputs": [],
      "source": [
        "def compute_cost(targets, outputs):\n",
        "\n",
        "    batch_size, sequence_length, output_size = targets.shape\n",
        "    loss = -np.sum(targets * np.log(outputs + 1e-9)) / (batch_size * sequence_length)\n",
        "\n",
        "    return loss"
      ]
    },
    {
      "cell_type": "code",
      "execution_count": 18,
      "metadata": {
        "id": "rNRS3xPPqQGV"
      },
      "outputs": [],
      "source": [
        "def generate_one_hot_targets(batch_size, sequence_length, n_y):\n",
        "\n",
        "    random_class_indices = np.random.randint(0, n_y, size=(batch_size, sequence_length))\n",
        "    one_hot_targets = np.zeros((batch_size, sequence_length, n_y))\n",
        "    one_hot_targets[np.arange(batch_size)[:, None], np.arange(sequence_length), random_class_indices] = 1\n",
        "\n",
        "    return one_hot_targets"
      ]
    },
    {
      "cell_type": "code",
      "execution_count": 19,
      "metadata": {
        "id": "L5z2FYvSqQGW"
      },
      "outputs": [],
      "source": [
        "np.random.seed(1)\n",
        "targets = generate_one_hot_targets(batch_size, sequence_length, n_y)\n",
        "loss = compute_cost(targets, outputs)"
      ]
    },
    {
      "cell_type": "code",
      "execution_count": 20,
      "metadata": {
        "colab": {
          "base_uri": "https://localhost:8080/"
        },
        "id": "XL6N2R06UDw0",
        "outputId": "92413358-d082-41c0-9b0d-d3732c1abbe8"
      },
      "outputs": [
        {
          "name": "stdout",
          "output_type": "stream",
          "text": [
            "loss: 1.7195981586537232\n"
          ]
        }
      ],
      "source": [
        "print(\"loss:\", loss)"
      ]
    },
    {
      "cell_type": "markdown",
      "metadata": {
        "id": "AXbaEOYnefFJ"
      },
      "source": [
        "---\n",
        "### Backpropogation"
      ]
    },
    {
      "cell_type": "markdown",
      "metadata": {
        "id": "lCqDQHhRmOLO"
      },
      "source": [
        "**Exercise 7 [3/3]**:\n",
        "1. Implement `backward()` method and return `grads`."
      ]
    },
    {
      "cell_type": "code",
      "execution_count": 21,
      "metadata": {
        "id": "3r8fw45imNxD"
      },
      "outputs": [],
      "source": [
        "def backward(y, parameters, caches, act_derivative = Tanh().derivative):\n",
        "\n",
        "    batch_size, sequence_length, output_size = y.shape\n",
        "    hidden_size = parameters['Wh'].shape[0]\n",
        "    input_size = parameters['Wx'].shape[1]\n",
        "\n",
        "    Wy = parameters['Wy']\n",
        "    Wh = parameters['Wh']\n",
        "    Wx = parameters['Wx']\n",
        "    bh = parameters['bh']\n",
        "    by = parameters['by']\n",
        "\n",
        "    dWh = np.zeros_like(parameters['Wh'])\n",
        "    dWx = np.zeros_like(parameters['Wx'])\n",
        "    dWy = np.zeros_like(parameters['Wy'])\n",
        "    dbh = np.zeros_like(parameters['bh'])\n",
        "    dby = np.zeros_like(parameters['by'])\n",
        "\n",
        "    grads ={}\n",
        "\n",
        "    dz_t_next = np.zeros((batch_size, hidden_size))\n",
        "\n",
        "    for t in reversed(range(sequence_length)):\n",
        "\n",
        "        yhat_t = caches['yhats'][:, t, :]\n",
        "        h_t = caches['hs'][:, t, :]\n",
        "        z_t = caches['zs'][:, t, :]\n",
        "        x_t = caches['inputs'][:, t, :]\n",
        "\n",
        "        if t == 0:\n",
        "            h_prev = np.zeros_like(h_t)\n",
        "        else:\n",
        "            h_prev = caches['hs'][:, t - 1, :]\n",
        "\n",
        "        du_t = (yhat_t - y[:, t, :])\n",
        "        dWy += np.dot(du_t.T, h_t)\n",
        "        dby += np.sum(du_t, axis = 0, keepdims = True).T\n",
        "        dh_t = np.dot(du_t, Wy) + np.dot(dz_t_next, Wh)\n",
        "        dz_t = act_derivative(z_t) * dh_t\n",
        "        dWh += np.dot(dz_t.T, h_prev)\n",
        "        dWx += np.dot(dz_t.T, x_t)\n",
        "        dbh += np.sum(dz_t, axis = 0, keepdims = True).T\n",
        "        dz_t_next = dz_t\n",
        "\n",
        "    grads['dWh'] = dWh\n",
        "    grads['dWx'] = dWx\n",
        "    grads['dWy'] = dWy\n",
        "    grads['dbh'] = dbh\n",
        "    grads['dby'] = dby\n",
        "\n",
        "    return grads"
      ]
    },
    {
      "cell_type": "code",
      "execution_count": 22,
      "metadata": {
        "id": "i0f8N5GxqQGY"
      },
      "outputs": [],
      "source": [
        "grads = backward(targets, parameters, cache)"
      ]
    },
    {
      "cell_type": "code",
      "execution_count": 23,
      "metadata": {
        "colab": {
          "base_uri": "https://localhost:8080/"
        },
        "id": "CNdG4885p2p_",
        "outputId": "ecc6f9d8-5f4b-4b1f-8b3e-04ae3e4c9015"
      },
      "outputs": [
        {
          "name": "stdout",
          "output_type": "stream",
          "text": [
            "grads['dWx'].shape: (9, 3)\n",
            "grads['dWx']: [[-0.1117084   1.03991698  0.20894596]\n",
            " [ 0.16740112 -0.24441044 -0.59931328]\n",
            " [-1.62187741  0.89455464  0.00774216]\n",
            " [ 0.57186727 -0.0082445  -0.72599377]\n",
            " [-0.5189895   1.5087214   0.39941107]\n",
            " [ 1.09137358 -0.72816065 -0.13620931]\n",
            " [-0.14729011 -0.00652853  0.50799089]\n",
            " [ 1.80332232 -1.10675443  0.23229909]\n",
            " [ 0.11993147  0.09749754  0.3566304 ]]\n"
          ]
        }
      ],
      "source": [
        "print(\"grads['dWx'].shape:\", grads['dWx'].shape)\n",
        "print(\"grads['dWx']:\", grads['dWx'])"
      ]
    },
    {
      "cell_type": "markdown",
      "metadata": {
        "id": "QY5ACQ6-qQGa"
      },
      "source": [
        "---\n",
        "### Build RNN"
      ]
    },
    {
      "cell_type": "markdown",
      "metadata": {
        "id": "UGoLe6YPXCuY"
      },
      "source": [
        "**Exercise 8 [3/3]**:\n",
        "1. Implement the `RecurrentNeuralNetwork` class."
      ]
    },
    {
      "cell_type": "code",
      "execution_count": 24,
      "metadata": {
        "id": "C7G1_zA6xaVi"
      },
      "outputs": [],
      "source": [
        "class RecurrentNeuralNetwork:\n",
        "\n",
        "    def __init__(self, input_size, output_size, hidden_size, act = Tanh()):\n",
        "\n",
        "        self.input_size = input_size\n",
        "        self.output_size = output_size\n",
        "        self.hidden_size = hidden_size\n",
        "        self.act = act\n",
        "        self.initialize_parameters()\n",
        "\n",
        "    def initialize_parameters(self):\n",
        "\n",
        "        self.parameters = {}\n",
        "\n",
        "        self.parameters = {'Wx': np.random.randn(self.hidden_size, self.input_size) * 0.01,\n",
        "                           'Wh': np.random.randn(self.hidden_size, self.hidden_size) * 0.01,\n",
        "                           'Wy': np.random.randn(self.output_size, self.hidden_size) * 0.01,\n",
        "                           'bh': np.zeros((self.hidden_size, 1)),\n",
        "                           'by': np.zeros((self.output_size, 1))}\n",
        "\n",
        "    def forward(self, inputs):\n",
        "\n",
        "        self.caches = {}\n",
        "\n",
        "        outputs, self.caches = forward(inputs, self.parameters, self.act)\n",
        "\n",
        "        return outputs\n",
        "\n",
        "    def backward(self, y):\n",
        "\n",
        "        self.grads = {}\n",
        "\n",
        "        grads = backward(y, self.parameters, self.caches, act_derivative = self.act.derivative)\n",
        "\n",
        "        self.grads = grads\n",
        "\n",
        "    def __call__(self, inputs):\n",
        "        return self.forward(inputs)"
      ]
    },
    {
      "cell_type": "code",
      "execution_count": 25,
      "metadata": {
        "id": "N0wZ8cNrqQGe"
      },
      "outputs": [],
      "source": [
        "n_x = 3\n",
        "n_h = 9\n",
        "n_y = 5\n",
        "batch_size = 4\n",
        "sequence_length = 2\n",
        "np.random.seed(1)\n",
        "x = np.random.randn(batch_size, sequence_length, n_x)\n",
        "y = generate_one_hot_targets(batch_size, sequence_length, n_y)\n",
        "network = RecurrentNeuralNetwork(n_x, n_y, n_h)\n",
        "outputs = network(x)"
      ]
    },
    {
      "cell_type": "code",
      "execution_count": 26,
      "metadata": {
        "colab": {
          "base_uri": "https://localhost:8080/"
        },
        "id": "2Ms-0Mj1yI8P",
        "outputId": "4228c84e-2105-4918-fc6d-ea248e3c66fa"
      },
      "outputs": [
        {
          "name": "stdout",
          "output_type": "stream",
          "text": [
            "Shape of outputs: (4, 2, 5)\n",
            "outputs = \n",
            "[[[0.20007463 0.19989397 0.20016755 0.19984329 0.20002056]\n",
            "  [0.19992392 0.20007329 0.19986634 0.20014015 0.19999629]]\n",
            "\n",
            " [[0.20009079 0.19988665 0.20018593 0.19981967 0.20001696]\n",
            "  [0.1999734  0.20003867 0.19992188 0.20007985 0.19998619]]\n",
            "\n",
            " [[0.19999533 0.20001496 0.19998668 0.200007   0.19999603]\n",
            "  [0.1999304  0.2000603  0.19990295 0.2001045  0.20000184]]\n",
            "\n",
            " [[0.19999158 0.20000482 0.19998109 0.20002312 0.19999939]\n",
            "  [0.20007045 0.19994824 0.20007545 0.19991534 0.19999053]]]\n"
          ]
        }
      ],
      "source": [
        "print(f\"Shape of outputs: {outputs.shape}\")\n",
        "print(f\"outputs = \\n{outputs}\")"
      ]
    },
    {
      "cell_type": "code",
      "execution_count": 27,
      "metadata": {
        "id": "6sVjWg_4qQGg"
      },
      "outputs": [],
      "source": [
        "network.backward(y)"
      ]
    },
    {
      "cell_type": "code",
      "execution_count": 28,
      "metadata": {
        "colab": {
          "base_uri": "https://localhost:8080/"
        },
        "id": "239a4qU_yXe5",
        "outputId": "a510baad-7f3d-4fa9-b64a-81a455c52844"
      },
      "outputs": [
        {
          "name": "stdout",
          "output_type": "stream",
          "text": [
            "Shape of grads: (9, 3)\n",
            "grads['dWx'] = \n",
            "[[ 0.00106604  0.00191151  0.00511145]\n",
            " [ 0.02482275  0.0103596  -0.00373341]\n",
            " [ 0.0033513  -0.03140067  0.03454248]\n",
            " [ 0.01059539 -0.02390682  0.05390469]\n",
            " [ 0.00488689 -0.01826391  0.02143217]\n",
            " [-0.00968909 -0.00792244 -0.00644608]\n",
            " [ 0.04704359 -0.00654624  0.04694317]\n",
            " [-0.00724413  0.0064121  -0.0288551 ]\n",
            " [ 0.00385035 -0.02768539 -0.0029171 ]]\n"
          ]
        }
      ],
      "source": [
        "print(f\"Shape of grads: {network.grads['dWx'].shape}\")\n",
        "print(f\"grads['dWx'] = \\n{network.grads['dWx']}\")"
      ]
    },
    {
      "cell_type": "markdown",
      "metadata": {
        "id": "bHCEmx9uz171"
      },
      "source": [
        "---\n",
        "### Training RNN using Gradient Descent"
      ]
    },
    {
      "cell_type": "code",
      "execution_count": 29,
      "metadata": {
        "id": "fbHIr_epyriY"
      },
      "outputs": [],
      "source": [
        "def gradient_descent_step(parameters, grads, learning_rate):\n",
        "\n",
        "    for key in parameters.keys():\n",
        "        parameters[key] -= learning_rate * grads[f'd{key}']"
      ]
    },
    {
      "cell_type": "code",
      "execution_count": 30,
      "metadata": {
        "colab": {
          "base_uri": "https://localhost:8080/"
        },
        "id": "Q79DC18T0D9M",
        "outputId": "333d2ad4-ce53-419b-e257-22a4aed71c8e"
      },
      "outputs": [
        {
          "name": "stdout",
          "output_type": "stream",
          "text": [
            "Wx = \n",
            "[[-0.0005789  -0.00790017  0.00062598]\n",
            " [-0.01063729 -0.00274037  0.00541984]\n",
            " [ 0.01524909  0.01988078  0.00443658]\n",
            " [ 0.0010875  -0.00833558 -0.00815852]\n",
            " [ 0.00634418  0.0006579   0.03093401]\n",
            " [-0.00522773  0.00353506 -0.00419068]\n",
            " [-0.02285815  0.01761943 -0.00311137]\n",
            " [ 0.00853539  0.0208032   0.00555333]\n",
            " [ 0.00979959 -0.01894515 -0.00891908]]\n",
            "Wh = \n",
            "[[ 3.30063866e-03  1.04860741e-02  1.34987300e-02  1.24567445e-02\n",
            "  -6.91206464e-03  1.28108266e-02 -7.27027594e-03 -7.99183922e-03\n",
            "  -3.56005264e-05]\n",
            " [ 5.12614623e-03 -1.67772248e-03  1.34623017e-02 -6.15515119e-03\n",
            "  -7.42948807e-03  1.01594451e-02 -5.55063510e-03  4.36193658e-03\n",
            "  -1.46751215e-03]\n",
            " [ 2.35356086e-04 -2.58525323e-03  1.83935398e-02 -1.93890389e-03\n",
            "   1.57422856e-02  7.56761472e-03 -5.27751246e-03 -7.53395623e-03\n",
            "   9.03191424e-04]\n",
            " [ 1.68177089e-02 -1.90835349e-03 -1.58980322e-03 -1.37303746e-02\n",
            "   4.81522224e-04 -1.57045942e-02 -1.29577581e-02  7.45171629e-04\n",
            "  -8.81613237e-03]\n",
            " [-2.32865003e-03 -9.55233654e-03  2.36748234e-04 -9.70227008e-03\n",
            "  -7.64100931e-03 -2.65256175e-03 -1.73379040e-03 -1.88348851e-02\n",
            "   1.60821103e-02]\n",
            " [ 1.14529695e-02 -4.83648929e-03  1.01949175e-02 -9.85856750e-03\n",
            "  -1.24494389e-02  1.92383529e-02 -4.43073476e-03  1.54557298e-02\n",
            "  -1.91837675e-02]\n",
            " [-9.94757139e-03 -4.08109363e-03  1.02329021e-03 -8.66579361e-03\n",
            "   3.61999307e-03 -9.38134497e-03 -1.38654065e-02 -3.39015054e-03\n",
            "  -1.78840880e-03]\n",
            " [-2.41008310e-03 -2.47639515e-03 -1.68563557e-03  5.73676767e-03\n",
            "  -9.57041240e-03 -6.51408576e-03  7.19679676e-03  1.23443854e-02\n",
            "  -2.66672073e-03]\n",
            " [ 1.56465541e-02 -9.83752219e-03  8.03304532e-04  2.92295046e-04\n",
            "  -1.17453079e-02 -1.09337055e-02 -1.12941385e-03 -7.32446728e-03\n",
            "   6.74059264e-03]]\n",
            "Wy = \n",
            "[[-0.00443758 -0.01025735  0.0013489   0.0071659   0.00352278  0.01082594\n",
            "   0.01214399 -0.00895376  0.0169873 ]\n",
            " [ 0.00162202  0.00516594 -0.00942387  0.01643339 -0.00606663 -0.00548591\n",
            "   0.01500154 -0.00869466 -0.00531087]\n",
            " [-0.00045876 -0.00442596 -0.00447709  0.01157079 -0.00376586  0.00082749\n",
            "  -0.00693816 -0.00187524  0.00564117]\n",
            " [-0.00041105 -0.00354779 -0.02056933  0.00013915 -0.00951462  0.00077869\n",
            "   0.00960112 -0.00896855 -0.0130946 ]\n",
            " [-0.00249037  0.00414006 -0.01911405 -0.00874426 -0.009586    0.00202565\n",
            "  -0.00127538  0.00288194  0.00565746]]\n",
            "bh = \n",
            "[[ 4.92063611e-05]\n",
            " [ 1.80244569e-05]\n",
            " [ 1.27665591e-04]\n",
            " [ 2.30453366e-04]\n",
            " [ 2.04949150e-05]\n",
            " [-9.66336581e-05]\n",
            " [-1.63423688e-04]\n",
            " [ 1.92646448e-05]\n",
            " [-1.93487239e-07]]\n",
            "by = \n",
            "[[-0.00600051]\n",
            " [ 0.00400079]\n",
            " [ 0.01399912]\n",
            " [-0.00599933]\n",
            " [-0.00600008]]\n"
          ]
        }
      ],
      "source": [
        "gradient_descent_step(network.parameters, network.grads, learning_rate = 0.01)\n",
        "\n",
        "for key in network.parameters:\n",
        "    print(f\"{key} = \\n{network.parameters[f'{key}']}\")"
      ]
    },
    {
      "cell_type": "code",
      "execution_count": 31,
      "metadata": {
        "id": "pbFnaIyI0r7Q"
      },
      "outputs": [],
      "source": [
        "def train(network, inputs, targets, learning_rate = 0.01, max_iter = 100):\n",
        "\n",
        "    losses = []\n",
        "\n",
        "    for i in range(max_iter):\n",
        "        outputs = network(inputs)\n",
        "        losses.append(compute_cost(outputs, targets))\n",
        "        network.backward(y)\n",
        "        gradient_descent_step(network.parameters, network.grads, learning_rate)\n",
        "\n",
        "        if i % 100 == 0:\n",
        "            print(f\"Iteration {i}: Loss = {losses[-1]}\")\n",
        "\n",
        "    return losses"
      ]
    },
    {
      "cell_type": "code",
      "execution_count": 32,
      "metadata": {
        "colab": {
          "base_uri": "https://localhost:8080/"
        },
        "id": "dhVoEcGXld4v",
        "outputId": "686e3fb9-a521-4d05-a57a-7487f2f75d48"
      },
      "outputs": [
        {
          "name": "stdout",
          "output_type": "stream",
          "text": [
            "Iteration 0: Loss = 16.578447966220622\n",
            "Iteration 100: Loss = 15.562869341054181\n",
            "Iteration 200: Loss = 16.18602091473992\n",
            "Iteration 300: Loss = 15.504928338738754\n",
            "Iteration 400: Loss = 16.178349123201986\n",
            "Iteration 500: Loss = 15.208196057469424\n",
            "Iteration 600: Loss = 13.593963208640666\n",
            "Iteration 700: Loss = 14.775343529377738\n",
            "Iteration 800: Loss = 14.66187204590017\n",
            "Iteration 900: Loss = 15.06392699159572\n"
          ]
        }
      ],
      "source": [
        "n_x = 3\n",
        "n_h = 100\n",
        "n_y = 5\n",
        "batch_size = 10\n",
        "sequence_length = 50\n",
        "np.random.seed(1)\n",
        "x = np.random.randn(batch_size, sequence_length, n_x)\n",
        "y = generate_one_hot_targets(batch_size, sequence_length, n_y)\n",
        "network = RecurrentNeuralNetwork(n_x, n_y, n_h)\n",
        "losses = train(network, x, y, learning_rate = 0.01, max_iter = 1000)"
      ]
    },
    {
      "cell_type": "code",
      "execution_count": 33,
      "metadata": {
        "colab": {
          "base_uri": "https://localhost:8080/",
          "height": 430
        },
        "id": "xuR7176gliiN",
        "outputId": "deecde26-8c81-4162-bb7d-274ab8bd110c"
      },
      "outputs": [
        {
          "data": {
            "image/png": "[encoded data removed]",
            "text/plain": [
              "<Figure size 640x480 with 1 Axes>"
            ]
          },
          "metadata": {},
          "output_type": "display_data"
        }
      ],
      "source": [
        "plt.plot(losses)\n",
        "plt.show()"
      ]
    },
    {
      "cell_type": "code",
      "execution_count": 33,
      "metadata": {
        "id": "EhXzDnWsrDKU"
      },
      "outputs": [],
      "source": []
    }
  ],
  "metadata": {
    "accelerator": "GPU",
    "colab": {
      "gpuType": "A100",
      "machine_shape": "hm",
      "provenance": []
    },
    "kernelspec": {
      "display_name": "Python 3",
      "name": "python3"
    },
    "language_info": {
      "codemirror_mode": {
        "name": "ipython",
        "version": 3
      },
      "file_extension": ".py",
      "mimetype": "text/x-python",
      "name": "python",
      "nbconvert_exporter": "python",
      "pygments_lexer": "ipython3",
      "version": "3.9.11"
    }
  },
  "nbformat": 4,
  "nbformat_minor": 0
}
