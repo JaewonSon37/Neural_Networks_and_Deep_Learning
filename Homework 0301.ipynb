{
  "cells": [
    {
      "cell_type": "markdown",
      "metadata": {
        "id": "OxG6NM4KBppr"
      },
      "source": [
        "# Homework 3: Optimization in Neural Network\n",
        "---"
      ]
    },
    {
      "cell_type": "code",
      "execution_count": 1,
      "metadata": {},
      "outputs": [],
      "source": [
        "import numpy as np\n",
        "import tensorflow as tf\n",
        "import matplotlib.pyplot as plt"
      ]
    },
    {
      "cell_type": "code",
      "execution_count": 2,
      "metadata": {},
      "outputs": [],
      "source": [
        "np.random.seed(1)"
      ]
    },
    {
      "cell_type": "markdown",
      "metadata": {
        "id": "kSACvVmwaz9o"
      },
      "source": [
        "---\n",
        "## 1. Build up Deep Neural Network"
      ]
    },
    {
      "cell_type": "markdown",
      "metadata": {},
      "source": [
        "---\n",
        "### Initialization"
      ]
    },
    {
      "cell_type": "markdown",
      "metadata": {
        "id": "OG30a4DVdfn3"
      },
      "source": [
        "**Exercise 1**:\n",
        "1. The method `initialize_dnn_parameters` takes `layer_dims` array as input.\n",
        "2. Loop through the array using `stdv * np.random.randn(a.b) + mu` to random initialize weights `parameters['W' + str(l)]` and using `np.zeros((a,1))` to initialize bias `parameters['b' + str(1)]`.\n",
        "3. Return `parameters` as a dictionary containing all weights and biases."
      ]
    },
    {
      "cell_type": "code",
      "execution_count": 3,
      "metadata": {
        "id": "HO9GZPV_degc"
      },
      "outputs": [],
      "source": [
        "def initialize_dnn_parameters(layer_dims):\n",
        "\n",
        "    L = len(layer_dims) # Number of layers in the network\n",
        "    parameters = {} # Dictionary to store parameters\n",
        "\n",
        "    for l in range(1, L):\n",
        "        \n",
        "        # Initialize weight matrix and bias vector\n",
        "        parameters['W' + str(l)] = np.random.randn(layer_dims[l], layer_dims[l-1]) * (1 / np.sqrt(layer_dims[l - 1]))\n",
        "        parameters['b' + str(l)] = np.zeros((layer_dims[l], 1)) \n",
        "\n",
        "    return parameters"
      ]
    },
    {
      "cell_type": "code",
      "execution_count": 4,
      "metadata": {},
      "outputs": [],
      "source": [
        "n_x, n_h, n_y = 5, 4, 3\n",
        "layer_dims = [n_x, n_h, n_y]\n",
        "parameters = initialize_dnn_parameters(layer_dims)"
      ]
    },
    {
      "cell_type": "code",
      "execution_count": 5,
      "metadata": {
        "colab": {
          "base_uri": "https://localhost:8080/"
        },
        "id": "jxjOYobCdenE",
        "outputId": "d33234d9-ee2a-4c42-b700-f2462483c7fa"
      },
      "outputs": [
        {
          "name": "stdout",
          "output_type": "stream",
          "text": [
            "W1 = \n",
            "[[ 0.72642933 -0.27358579 -0.23620559 -0.47984616  0.38702206]\n",
            " [-1.0292794   0.78030354 -0.34042208  0.14267862 -0.11152182]\n",
            " [ 0.65387455 -0.92132293 -0.14418936 -0.17175433  0.50703711]\n",
            " [-0.49188633 -0.07711224 -0.39259022  0.01887856  0.26064289]]\n",
            "b1 = \n",
            "[[0.]\n",
            " [0.]\n",
            " [0.]\n",
            " [0.]]\n",
            "W2 = \n",
            "[[-0.55030959  0.57236185  0.45079536  0.25124717]\n",
            " [ 0.45042797 -0.34186393 -0.06144511 -0.46788472]\n",
            " [-0.13394404  0.26517773 -0.34583038 -0.19837676]]\n",
            "b2 = \n",
            "[[0.]\n",
            " [0.]\n",
            " [0.]]\n"
          ]
        }
      ],
      "source": [
        "for l in range(1, len(layer_dims)):\n",
        "    print(f\"W{l} = \\n{parameters['W' + str(l)]}\")\n",
        "    print(f\"b{l} = \\n{parameters['b' + str(l)]}\")"
      ]
    },
    {
      "cell_type": "markdown",
      "metadata": {},
      "source": [
        "---\n",
        "### Activation Functions and Its Derivatives"
      ]
    },
    {
      "cell_type": "markdown",
      "metadata": {
        "id": "LvmRflTufv8R"
      },
      "source": [
        "**Exercise 2**:\n",
        "1. We will implement activaiton function in a `class` form that includes both evaluation in `forward()` and `derivative()`.\n",
        "1. Implement `forward()` method for ReLU function `class` so `forward()` is automatically evaluted when ReLU is called.\n",
        "2. Implement its `derivative` to compute the gradient during backpropagation."
      ]
    },
    {
      "cell_type": "code",
      "execution_count": 6,
      "metadata": {},
      "outputs": [],
      "source": [
        "class Sigmoid:\n",
        "    \n",
        "    # Initialize the class\n",
        "    def __init__(self):\n",
        "        pass\n",
        "\n",
        "    # Define the forward pass of the Sigmoid function\n",
        "    def forward(self, x):\n",
        "        return 1 / (1 + np.exp(-x))\n",
        "\n",
        "    # Define the derivative of the Sigmoid function\n",
        "    def derivative(self, x):\n",
        "        return self.forward(x) * (1 - self.forward(x))\n",
        "\n",
        "    # Allow the instance to be called like a function\n",
        "    def __call__(self, x):\n",
        "        return self.forward(x)"
      ]
    },
    {
      "cell_type": "code",
      "execution_count": 7,
      "metadata": {
        "id": "6dFrGNdj9pQJ"
      },
      "outputs": [],
      "source": [
        "class ReLU:\n",
        "\n",
        "    # Initialize the class\n",
        "    def __init__(self):\n",
        "        pass\n",
        "\n",
        "    # Define the forward pass of the ReLU function\n",
        "    def forward(self, x):\n",
        "        return np.maximum(0, x)\n",
        "\n",
        "    # Define the derivative of the ReLU function\n",
        "    def derivative(self, x):\n",
        "        return np.where(x >= 0, 1, 0)\n",
        "\n",
        "    # Allow the instance to be called like a function\n",
        "    def __call__(self, x):\n",
        "        return self.forward(x)"
      ]
    },
    {
      "cell_type": "code",
      "execution_count": 8,
      "metadata": {},
      "outputs": [],
      "source": [
        "x = np.random.randn(10)"
      ]
    },
    {
      "cell_type": "code",
      "execution_count": 9,
      "metadata": {
        "colab": {
          "base_uri": "https://localhost:8080/"
        },
        "id": "CzMKQ1q2UlNn",
        "outputId": "d572f8b4-d35c-42fe-ed73-3981f924f7e4"
      },
      "outputs": [
        {
          "name": "stdout",
          "output_type": "stream",
          "text": [
            "x = \n",
            "[-0.6871727  -0.84520564 -0.67124613 -0.0126646  -1.11731035  0.2344157\n",
            "  1.65980218  0.74204416 -0.19183555 -0.88762896]\n",
            "ReLU(x) = \n",
            "[0.         0.         0.         0.         0.         0.2344157\n",
            " 1.65980218 0.74204416 0.         0.        ]\n",
            "ReLU'(x) = \n",
            "[0 0 0 0 0 1 1 1 0 0]\n"
          ]
        }
      ],
      "source": [
        "print(f\"x = \\n{x}\")\n",
        "print(f\"ReLU(x) = \\n{ReLU()(x)}\")\n",
        "print(f\"ReLU'(x) = \\n{ReLU().derivative(x)}\")"
      ]
    },
    {
      "cell_type": "markdown",
      "metadata": {},
      "source": [
        "---\n",
        "### Forward Propogation"
      ]
    },
    {
      "cell_type": "markdown",
      "metadata": {
        "id": "FIyZ0yFx3Vg5"
      },
      "source": [
        "**Exercies 3**:\n",
        "1. Implement a `layer` of DNN that take previous output `A_prev`, weights `W`, bias `b`, and activaiton `act` as input.\n",
        "2. The `layer` should perform a linear transform followed by a nonlinear activaiton.\n",
        "3. Return both the pre-activaiton `Z` and the activation `A`."
      ]
    },
    {
      "cell_type": "code",
      "execution_count": 10,
      "metadata": {
        "id": "QHhRh9zWdepk"
      },
      "outputs": [],
      "source": [
        "def layer(A_prev, W, b, act = ReLU()):\n",
        "\n",
        "  Z = np.dot(W, A_prev) + b # Compute the linear combination of inputs\n",
        "  A = act(Z) # Apply the activation function to Z\n",
        "\n",
        "  return A, Z"
      ]
    },
    {
      "cell_type": "code",
      "execution_count": 11,
      "metadata": {},
      "outputs": [],
      "source": [
        "num_samples = 5\n",
        "X = np.random.randn(n_x, num_samples)\n",
        "Y = np.random.randn(n_y, num_samples)"
      ]
    },
    {
      "cell_type": "code",
      "execution_count": 12,
      "metadata": {},
      "outputs": [],
      "source": [
        "A_prev = X\n",
        "W1 = parameters['W1']\n",
        "b1 = parameters['b1']\n",
        "A1, Z1 = layer(A_prev, W1, b1)"
      ]
    },
    {
      "cell_type": "code",
      "execution_count": 13,
      "metadata": {
        "colab": {
          "base_uri": "https://localhost:8080/"
        },
        "id": "sELTGJfNdesQ",
        "outputId": "873903a8-0a26-4215-9a74-72885c2edde4"
      },
      "outputs": [
        {
          "name": "stdout",
          "output_type": "stream",
          "text": [
            "Z1 = \n",
            "[[-1.09575907  1.0266851  -0.31827206 -0.3506713  -0.12633385]\n",
            " [ 2.87245507 -1.45533316  0.57223289  0.59096241 -0.70441952]\n",
            " [-2.15866841  0.8461243  -0.40963115 -0.68640041  0.68699072]\n",
            " [ 0.80537242 -0.77691677  0.15346325  0.02594094 -0.07751913]]\n",
            "A1 = \n",
            "[[0.         1.0266851  0.         0.         0.        ]\n",
            " [2.87245507 0.         0.57223289 0.59096241 0.        ]\n",
            " [0.         0.8461243  0.         0.         0.68699072]\n",
            " [0.80537242 0.         0.15346325 0.02594094 0.        ]]\n"
          ]
        }
      ],
      "source": [
        "print(f\"Z1 = \\n{Z1}\")\n",
        "print(f\"A1 = \\n{A1}\")"
      ]
    },
    {
      "cell_type": "markdown",
      "metadata": {
        "id": "aYrFV3_ygBlQ"
      },
      "source": [
        "**Exercise 4**:\n",
        "In this exercise, you will stack multiple `layer` operations to build a DNN by implementing the `forward_propagation()` function.\n",
        "\n",
        " 1. The function `forward_propagation()` takes `X`, `parameters`, and `act` as inputs.\n",
        " 2. Calculate the number of layers `L=len(parameters)//2`, since each layer has two parameters: weights and biases.\n",
        " 3. For each layer, retrieve the weights and biases from parameters and apply the `layer()` function to propagate forward.\n",
        " 4. Store intermediate variables `Zl` and `Al` in `cache` for later use in backpropagation.\n",
        " 5. At the end, return the final output `AL` and the `cache`.\n"
      ]
    },
    {
      "cell_type": "code",
      "execution_count": 14,
      "metadata": {
        "id": "ce-oQYNliBA7"
      },
      "outputs": [],
      "source": [
        "def forward_propagation(X, parameters, act = ReLU()):\n",
        "\n",
        "  L = len(parameters) // 2 # Number of layers\n",
        "  A = X # Initialize A\n",
        "  \n",
        "  caches = {} # Dictionary to store intermediate values\n",
        "  caches['A0'] = A # Store the initial input activations as A0\n",
        "\n",
        "  for l in range(1, L + 1):\n",
        "    A_prev = A # Activations from the previous layer\n",
        "    W = parameters['W' + str(l)] # Weight matrix for the current layer\n",
        "    b = parameters['b' + str(l)] # Bias vector for the current layer\n",
        "    A, Z = layer(A_prev, W, b, act) # Compute the activations and pre-activation values\n",
        "    caches['Z' + str(l)] = Z # Store the pre-activation values\n",
        "    caches['A' + str(l)] = A # Store the pre-activations\n",
        "\n",
        "  return A, caches"
      ]
    },
    {
      "cell_type": "code",
      "execution_count": 15,
      "metadata": {},
      "outputs": [],
      "source": [
        "A, caches = forward_propagation(X, parameters, act = ReLU())\n",
        "L = len(parameters) // 2"
      ]
    },
    {
      "cell_type": "code",
      "execution_count": 16,
      "metadata": {
        "colab": {
          "base_uri": "https://localhost:8080/"
        },
        "id": "RL3MR4ZNiBDv",
        "outputId": "0153e029-b9db-40df-bbe5-d740b161703d"
      },
      "outputs": [
        {
          "name": "stdout",
          "output_type": "stream",
          "text": [
            "Z1 = \n",
            "[[-1.09575907  1.0266851  -0.31827206 -0.3506713  -0.12633385]\n",
            " [ 2.87245507 -1.45533316  0.57223289  0.59096241 -0.70441952]\n",
            " [-2.15866841  0.8461243  -0.40963115 -0.68640041  0.68699072]\n",
            " [ 0.80537242 -0.77691677  0.15346325  0.02594094 -0.07751913]]\n",
            "Z2 = \n",
            "[[ 1.84643125 -0.18356575  0.36608149  0.34476193  0.30969223]\n",
            " [-1.35881023  0.41045749 -0.2674289  -0.2141661  -0.04221222]\n",
            " [ 0.60194395 -0.43013384  0.12129988  0.15156399 -0.23758226]]\n"
          ]
        }
      ],
      "source": [
        "for l in range(1, L + 1):\n",
        "    print(f\"Z{l} = \\n{caches['Z' + str(l)]}\")"
      ]
    },
    {
      "cell_type": "markdown",
      "metadata": {},
      "source": [
        "---\n",
        "### Compute the Cost"
      ]
    },
    {
      "cell_type": "code",
      "execution_count": 17,
      "metadata": {
        "id": "yrhUn6A0iBF4"
      },
      "outputs": [],
      "source": [
        "def compute_cost(A, Y):\n",
        "\n",
        "    m = Y.shape[1] # Number of samples\n",
        "    cost = np.sum((A - Y) ** 2) / (2 * m) # Compute the cost\n",
        "    \n",
        "    return cost"
      ]
    },
    {
      "cell_type": "code",
      "execution_count": 18,
      "metadata": {
        "colab": {
          "base_uri": "https://localhost:8080/"
        },
        "id": "44oqic2ciBID",
        "outputId": "fb167ce6-ea73-463a-d0f0-9d590cb505c9"
      },
      "outputs": [
        {
          "name": "stdout",
          "output_type": "stream",
          "text": [
            "cost = 1.7072853869205002\n"
          ]
        }
      ],
      "source": [
        "print(f\"cost = {compute_cost(A, Y)}\")"
      ]
    },
    {
      "cell_type": "markdown",
      "metadata": {},
      "source": [
        "---\n",
        "### Back Propagation"
      ]
    },
    {
      "cell_type": "markdown",
      "metadata": {
        "id": "XySxmq-Q5Joc"
      },
      "source": [
        "**Exercise 4:** Implement `back_propogation()`\n",
        "1. The function `back_propogation()` takes data `Y`, `parameters`, `caches`, and `act_derivative` as inputs.\n",
        "2. For each hidden layer, retrieve weights and biases from `parameters`, and intermediate variables `Zl` and `Al` from `caches`.\n",
        "3. Compute the gradients `dWl`, `dbl`, using the formulas provided.\n",
        "4. Return the gradients in a variable `grads`.\n"
      ]
    },
    {
      "cell_type": "code",
      "execution_count": 19,
      "metadata": {
        "id": "iN0A9R8XiBKW"
      },
      "outputs": [],
      "source": [
        "def back_propagation(Y, parameters, caches, act_derivative = ReLU().derivative):\n",
        "\n",
        "    # Number of layers and samples\n",
        "    L = len(parameters) // 2\n",
        "    m = Y.shape[1]\n",
        "\n",
        "    # Initialize a dictionary\n",
        "    grads = {}\n",
        "\n",
        "    # Compute the derivative of the cost with respect to Z\n",
        "    ZL = caches['Z' + str(L)]\n",
        "    AL = caches['A' + str(L)]\n",
        "\n",
        "    # Compute dZ for the last layer\n",
        "    dZ = (AL - Y) / m * act_derivative(ZL)\n",
        "\n",
        "    # Backpropagate through each layer\n",
        "    for l in reversed(range(1, L + 1)):\n",
        "\n",
        "        # Activations of the previous layer\n",
        "        A_prev = caches['A' + str(l-1)]\n",
        "\n",
        "        # Retrieve weights for the current layer\n",
        "        W = parameters['W' + str(l)]\n",
        "\n",
        "        # Compute gradients for weights and biases in the current layer\n",
        "        dW = dZ @ A_prev.T\n",
        "        db = np.sum(dZ, axis = 1, keepdims = True)\n",
        "\n",
        "        # Store gradients for weights and biases in the grads dictionary\n",
        "        grads['dW' + str(l)] = dW\n",
        "        grads['db' + str(l)] = db\n",
        "        \n",
        "        if l > 1:\n",
        "            Z_prev = caches['Z' + str(l - 1)] # Pre-activation values of the previous layer\n",
        "            dZ = W.T @ dZ * act_derivative(Z_prev) # Compute the gradient for the previous layer\n",
        "\n",
        "    return grads"
      ]
    },
    {
      "cell_type": "code",
      "execution_count": 20,
      "metadata": {},
      "outputs": [],
      "source": [
        "grads = back_propagation(Y, parameters, caches, act_derivative = ReLU().derivative)\n",
        "L = len(parameters) // 2"
      ]
    },
    {
      "cell_type": "code",
      "execution_count": 21,
      "metadata": {
        "colab": {
          "base_uri": "https://localhost:8080/"
        },
        "id": "DyEm2jjNiBMm",
        "outputId": "93be431a-cedf-49d4-e0ed-7ed7b9ac8890"
      },
      "outputs": [
        {
          "name": "stdout",
          "output_type": "stream",
          "text": [
            "dW1 = \n",
            "[[-0.07100506 -0.00504114  0.01465629 -0.0119815   0.01250615]\n",
            " [-0.1535268   0.2243261   0.06768908  0.00272228  0.07802137]\n",
            " [ 0.02370006 -0.02516877  0.05958518  0.09359966  0.0813598 ]\n",
            " [-0.06098153  0.1461884  -0.00877939  0.06790589  0.06303178]]\n",
            "db1 = \n",
            "[[-0.04195389]\n",
            " [ 0.41779308]\n",
            " [ 0.07912688]\n",
            " [ 0.21442471]]\n",
            "dW2 = \n",
            "[[ 0.          0.60078972  0.11186381  0.11598846]\n",
            " [-0.0956278   0.         -0.07880995  0.        ]\n",
            " [ 0.         -0.15898858  0.         -0.05413308]]\n",
            "db2 = \n",
            "[[ 0.93844522]\n",
            " [-0.09314229]\n",
            " [-0.09856997]]\n"
          ]
        }
      ],
      "source": [
        "for l in range(1, L + 1):\n",
        "    print(f\"dW{l} = \\n{grads['dW' + str(l)]}\")\n",
        "    print(f\"db{l} = \\n{grads['db' + str(l)]}\")"
      ]
    },
    {
      "cell_type": "markdown",
      "metadata": {},
      "source": [
        "---\n",
        "### Define Deep Neural Networks"
      ]
    },
    {
      "cell_type": "markdown",
      "metadata": {
        "id": "p99Q4eKG-luN"
      },
      "source": [
        "**Exercise 5**:\n",
        "1. To define the `NeuralNetwork` class, we will take input size `n_x`, output size `n_y`, and width `n_h`, the depth `depth`, and activaiton function `act` as inputs.\n",
        "2. Store these hyperparameters `n_x`, `n_y`, `n_h`, `depth`, `act` as attributes of the class.\n",
        "3. Next, we `initialize()` DNN by using `initialize_dnn_parameters()` to randomly initialze the network's `self.parameters`.\n",
        "4. When the DNN is called, it will automcatically run `forward()` using the `forward_propogation()` method, and store the intermediate pre-activatios and activaitons along in `self.caches`.\n",
        "5. The DNN also implements a `backward()` method using `back_propogation()` to compute the `grads` and store them into `self.grads` for use in training."
      ]
    },
    {
      "cell_type": "code",
      "execution_count": 22,
      "metadata": {
        "id": "HCJ6c7rv-rol"
      },
      "outputs": [],
      "source": [
        "class NeuralNetwork:\n",
        "\n",
        "    # Initialize the Neural Network\n",
        "    def __init__(self, n_x, n_y, n_h, depth, act = ReLU()):\n",
        "        self.n_x = n_x\n",
        "        self.n_y = n_y\n",
        "        self.n_h = n_h\n",
        "        self.depth = depth\n",
        "        self.act = act\n",
        "        self.initialize()\n",
        "\n",
        "    # Initialize the parameters of the network\n",
        "    def initialize(self):\n",
        "        layer_dims = [self.n_x] + [self.n_h] * (self.depth - 1) + [self.n_y] # Specifies the dimensions of each layer\n",
        "        self.parameters = initialize_dnn_parameters(layer_dims)\n",
        "\n",
        "    # Forward pass through the network\n",
        "    def forward(self, X):\n",
        "        self.caches = {} # Dictionary to store intermediate results\n",
        "        output, caches = forward_propagation(X, self.parameters, self.act) # Perform forward propagation and get the output and caches\n",
        "        self.caches = caches # Store the caches for backward propagation\n",
        "        return output\n",
        "\n",
        "    # Backward pass through the network\n",
        "    def backward(self, Y):\n",
        "        self.grads = {} # Dictionary to store gradients\n",
        "        grads = back_propagation(Y, self.parameters, self.caches, self.act.derivative) # Perform backward propagation and compute gradients of parameters\n",
        "        self.grads = grads # Store the computed gradients\n",
        "\n",
        "    # Allow the instance to be called like a function\n",
        "    def __call__(self, X):\n",
        "        return self.forward(X)"
      ]
    },
    {
      "cell_type": "code",
      "execution_count": 23,
      "metadata": {},
      "outputs": [],
      "source": [
        "network = NeuralNetwork(n_x, n_y, n_h, depth = 3, act = Sigmoid())\n",
        "A = network(X)"
      ]
    },
    {
      "cell_type": "code",
      "execution_count": 24,
      "metadata": {
        "colab": {
          "base_uri": "https://localhost:8080/"
        },
        "id": "q7oFiL2jA4cA",
        "outputId": "4db401b2-1f4c-4c42-dd05-c20a9462b456"
      },
      "outputs": [
        {
          "name": "stdout",
          "output_type": "stream",
          "text": [
            "Shape of A: (3, 5)\n",
            "A = \n",
            "[[0.5594009  0.56163771 0.56270777 0.55963543 0.56721295]\n",
            " [0.65571946 0.64975006 0.64269171 0.64587559 0.62735589]\n",
            " [0.60243733 0.5987133  0.59506056 0.59312079 0.58729086]]\n"
          ]
        }
      ],
      "source": [
        "print(f\"Shape of A: {A.shape}\")\n",
        "print(f\"A = \\n{A}\")"
      ]
    },
    {
      "cell_type": "code",
      "execution_count": 25,
      "metadata": {},
      "outputs": [],
      "source": [
        "network.backward(Y)"
      ]
    },
    {
      "cell_type": "code",
      "execution_count": 26,
      "metadata": {
        "colab": {
          "base_uri": "https://localhost:8080/"
        },
        "id": "W8jVn1mVFDUW",
        "outputId": "fc146ea6-f173-4b8e-80d9-ea312504ef36"
      },
      "outputs": [
        {
          "name": "stdout",
          "output_type": "stream",
          "text": [
            "dW1 = \n",
            "[[-0.00819391  0.00434696  0.01032395 -0.00024787  0.00653069]\n",
            " [ 0.00220476 -0.00447719 -0.00122303  0.00096706 -0.00096016]\n",
            " [ 0.00773704 -0.00218865 -0.01071998 -0.00014516 -0.00656312]\n",
            " [-0.0032138  -0.00055366  0.00339891  0.00027155  0.00214983]]\n",
            "db1 = \n",
            "[[ 0.01889197]\n",
            " [-0.00765741]\n",
            " [-0.0164768 ]\n",
            " [ 0.00279429]]\n",
            "dW2 = \n",
            "[[ 0.02987019  0.03644857  0.03402445  0.03874588]\n",
            " [ 0.02737154  0.03083942  0.02911464  0.03225519]\n",
            " [-0.02720202 -0.03051821 -0.02837608 -0.03141728]\n",
            " [ 0.01224843  0.0119922   0.01098373  0.01152867]]\n",
            "db2 = \n",
            "[[ 0.0630978 ]\n",
            " [ 0.05643017]\n",
            " [-0.05552861]\n",
            " [ 0.02358812]]\n",
            "dW3 = \n",
            "[[0.06034881 0.053968   0.05274028 0.03386175]\n",
            " [0.09777237 0.09016585 0.08312728 0.0634621 ]\n",
            " [0.03890758 0.03489111 0.03297021 0.02320944]]\n",
            "db3 = \n",
            "[[0.1204913 ]\n",
            " [0.19279404]\n",
            " [0.07642293]]\n"
          ]
        }
      ],
      "source": [
        "for l in range(1, network.depth+1):\n",
        "    print(f\"dW{l} = \\n{network.grads['dW' + str(l)]}\")\n",
        "    print(f\"db{l} = \\n{network.grads['db' + str(l)]}\")"
      ]
    },
    {
      "cell_type": "markdown",
      "metadata": {},
      "source": [
        "---\n",
        "## 2. Optimization Algorithms"
      ]
    },
    {
      "cell_type": "markdown",
      "metadata": {},
      "source": [
        "---\n",
        "### Gradient Descent"
      ]
    },
    {
      "cell_type": "markdown",
      "metadata": {
        "id": "lgGIWXbTFg1T"
      },
      "source": [
        "**Exercise 6**: Implemente `gradient_descent_step()`\n",
        "1. The function takes `parameters`, `grads`,  and `learning_rate` as inputs.\n",
        "2. For each layer, it retrive weights and biases from `parameters`, gradients from `grads`.\n",
        "3. Update the weights and biases using the gradient descent rule.\n",
        "4. Store the updated weights and biases back into `parameters`."
      ]
    },
    {
      "cell_type": "code",
      "execution_count": 27,
      "metadata": {
        "id": "a6dhu4A2GvRr"
      },
      "outputs": [],
      "source": [
        "def gradient_descent_step(parameters, grads, learning_rate):\n",
        "    \n",
        "    L = len(parameters) // 2 # Number of layers\n",
        "\n",
        "    for l in range(1, L + 1):\n",
        "\n",
        "      # Get the current weight and bias\n",
        "      W, b = parameters['W' + str(l)], parameters['b' + str(l)]\n",
        "\n",
        "      # Get the gradient of the weight and bias\n",
        "      dW = grads['dW' + str(l)]\n",
        "      db = grads['db' + str(l)]\n",
        "\n",
        "      # Update the weight and bias\n",
        "      W = W - learning_rate * dW\n",
        "      b = b - learning_rate * db\n",
        "\n",
        "      # Save the updated weight and bias\n",
        "      parameters['W' + str(l)] = W\n",
        "      parameters['b' + str(l)] = b"
      ]
    },
    {
      "cell_type": "code",
      "execution_count": 28,
      "metadata": {},
      "outputs": [],
      "source": [
        "gradient_descent_step(network.parameters, network.grads, learning_rate = 0.01)"
      ]
    },
    {
      "cell_type": "code",
      "execution_count": 29,
      "metadata": {
        "colab": {
          "base_uri": "https://localhost:8080/"
        },
        "id": "Ucmva98IHZSW",
        "outputId": "7f4099c4-379f-4c79-f3d0-e070cad5460a"
      },
      "outputs": [
        {
          "name": "stdout",
          "output_type": "stream",
          "text": [
            "W1 = \n",
            "[[ 0.08351473  0.1833372   0.08857909  0.05322476 -0.2999946 ]\n",
            " [ 0.16882961  0.0545249   0.50513279  0.53616271  0.08281407]\n",
            " [-0.1679099  -0.28562704  0.18949963  0.03458898 -0.15371041]\n",
            " [ 0.01952925 -0.27726727  0.31213543 -0.19996469  0.547595  ]]\n",
            "b1 = \n",
            "[[-1.88919658e-04]\n",
            " [ 7.65740929e-05]\n",
            " [ 1.64767984e-04]\n",
            " [-2.79428845e-05]]\n",
            "W2 = \n",
            "[[ 0.20144712  0.29642478 -0.54779617  0.08430376]\n",
            " [ 0.37000451 -0.4771587  -0.1334004   0.01598472]\n",
            " [-0.68628664  0.15788488  0.42336408 -0.4294438 ]\n",
            " [ 0.17515051 -0.65626163 -0.01945759 -0.80800146]]\n",
            "b2 = \n",
            "[[-0.00063098]\n",
            " [-0.0005643 ]\n",
            " [ 0.00055529]\n",
            " [-0.00023588]]\n",
            "W3 = \n",
            "[[ 0.56010537  0.20391059 -0.01283588 -0.38791943]\n",
            " [ 0.63590024  0.98264922 -0.92982221  0.61744739]\n",
            " [ 0.8134363   0.16865694 -0.59996372  0.43144056]]\n",
            "b3 = \n",
            "[[-0.00120491]\n",
            " [-0.00192794]\n",
            " [-0.00076423]]\n"
          ]
        }
      ],
      "source": [
        "for l in range(1, network.depth+1):\n",
        "    print(f\"W{l} = \\n{network.parameters['W' + str(l)]}\")\n",
        "    print(f\"b{l} = \\n{network.parameters['b' + str(l)]}\")"
      ]
    },
    {
      "cell_type": "code",
      "execution_count": 30,
      "metadata": {},
      "outputs": [],
      "source": [
        "learning_rate = 0.1\n",
        "max_iter = 10\n",
        "losses = []"
      ]
    },
    {
      "cell_type": "code",
      "execution_count": 31,
      "metadata": {},
      "outputs": [],
      "source": [
        "for i in range(max_iter):\n",
        "    A = network(X) # Perform a forward pass to compute the output 'A' of the network\n",
        "    losses.append(compute_cost(A, Y)) # Compute and append the current loss\n",
        "    network.backward(Y) # Perform a backward pass to compute the gradients of the loss with respect to the parameters\n",
        "    gradient_descent_step(network.parameters, network.grads, learning_rate) # Update the network parameters"
      ]
    },
    {
      "cell_type": "code",
      "execution_count": 32,
      "metadata": {},
      "outputs": [],
      "source": [
        "losses = np.array(losses)"
      ]
    },
    {
      "cell_type": "code",
      "execution_count": 33,
      "metadata": {
        "colab": {
          "base_uri": "https://localhost:8080/"
        },
        "id": "ITeio9JwInRW",
        "outputId": "457880c0-7188-4f98-a60d-2c0af01709a6"
      },
      "outputs": [
        {
          "name": "stdout",
          "output_type": "stream",
          "text": [
            "Losses: \n",
            "[2.24437118 2.23186699 2.21949885 2.20728322 2.19523579 2.18337136\n",
            " 2.17170374 2.16024557 2.14900828 2.13800201]\n"
          ]
        }
      ],
      "source": [
        "print(f\"Losses: \\n{losses}\")"
      ]
    },
    {
      "cell_type": "markdown",
      "metadata": {},
      "source": [
        "---\n",
        "### Gradient Descent with Momentum"
      ]
    },
    {
      "cell_type": "markdown",
      "metadata": {
        "id": "ILR7HhIqKFEe"
      },
      "source": [
        "**Steps**:\n",
        "1. The `Optimizer` class takes an neural network `network` and `learning_rate` as inputs for initialization.\n",
        "2. It should store the network `network` and `learning_rate` as internal variables.\n",
        "3. It also have a method called `step()` that applies different optimizer step."
      ]
    },
    {
      "cell_type": "code",
      "execution_count": 34,
      "metadata": {
        "id": "Q2_dWjF7KELa"
      },
      "outputs": [],
      "source": [
        "class Optimizer:\n",
        "\n",
        "    # Initialize the Optimizer\n",
        "    def __init__(self, network, learning_rate):\n",
        "        self.network = network\n",
        "        self.learning_rate = learning_rate\n",
        "\n",
        "    # Define the step method\n",
        "    def step(self):\n",
        "        raise NotImplementedError(\"Step method must be implemented in a subclass\")"
      ]
    },
    {
      "cell_type": "markdown",
      "metadata": {
        "id": "dLouBYbIOWGq"
      },
      "source": [
        "**Exercies 7**:\n",
        "1. Inherit `GradientDescent` from `Optimizer` class by using `class GradientDescent(Optimizer)`.\n",
        "2. Since `GradientDescent` requires no additional inputs, we can omite the `__init__()` method.\n",
        "3. Implement the `step()` using the `gradient_descent_step()` function."
      ]
    },
    {
      "cell_type": "code",
      "execution_count": 35,
      "metadata": {
        "id": "Olr_bDa8OVkC"
      },
      "outputs": [],
      "source": [
        "class GradientDescent(Optimizer):\n",
        "\n",
        "    # Implement the step method for gradient descent\n",
        "    def step(self):\n",
        "        gradient_descent_step(self.network.parameters, self.network.grads, self.learning_rate)"
      ]
    },
    {
      "cell_type": "code",
      "execution_count": 36,
      "metadata": {},
      "outputs": [],
      "source": [
        "optimizer = GradientDescent(network, learning_rate = 0.1)\n",
        "max_iter = 10\n",
        "losses = []"
      ]
    },
    {
      "cell_type": "code",
      "execution_count": 37,
      "metadata": {},
      "outputs": [],
      "source": [
        "for i in range(max_iter):\n",
        "    A = network(X) # Perform a forward pass to compute the output 'A' of the network\n",
        "    losses.append(compute_cost(A, Y)) # Compute and append the current loss\n",
        "    network.backward(Y) # Perform a backward pass to compute the gradients of the loss with respect to the parameters\n",
        "    optimizer.step() # Update the network parameters"
      ]
    },
    {
      "cell_type": "code",
      "execution_count": 38,
      "metadata": {},
      "outputs": [],
      "source": [
        "losses = np.array(losses)"
      ]
    },
    {
      "cell_type": "code",
      "execution_count": 39,
      "metadata": {
        "colab": {
          "base_uri": "https://localhost:8080/"
        },
        "id": "jLRp9_S8Qsy0",
        "outputId": "b864ea8a-d4d0-4b9e-9c1f-469c859c8860"
      },
      "outputs": [
        {
          "name": "stdout",
          "output_type": "stream",
          "text": [
            "Losses: \n",
            "[2.12723555 2.11671634 2.10645047 2.09644267 2.0866964  2.07721384\n",
            " 2.06799602 2.05904287 2.05035331 2.04192534]\n"
          ]
        }
      ],
      "source": [
        "print(f\"Losses: \\n{losses}\")"
      ]
    },
    {
      "cell_type": "markdown",
      "metadata": {
        "id": "OeTWN_f0RUBT"
      },
      "source": [
        "**Exercise 8**\n",
        "1. Unlike plain gradient descent, `GradientDescentWithMomentum` requires an additional input: the momentum factor `beta`. So, we will redefine the `__init__()` method to include it. Additionally, we will define a new internal variable `self.velocities` to store the previous search directions.\n",
        "2. Implement the `step()` method by using GD with momentum formula."
      ]
    },
    {
      "cell_type": "code",
      "execution_count": 40,
      "metadata": {
        "id": "cijDYEV5SFbT"
      },
      "outputs": [],
      "source": [
        "class GradientDescentWithMomentum(Optimizer):\n",
        "\n",
        "    # Initialize the optimizer with learning rate and momentum factor\n",
        "    def __init__(self, network, learning_rate, beta = 0.9):\n",
        "        super().__init__(network, learning_rate) # Call the parent class constructor\n",
        "        self.beta = beta # Momentum factor\n",
        "        self.velocities = {} # Initialize a dictionary to store the velocities\n",
        "\n",
        "    # Perform one step of Gradient Descent with Momentum\n",
        "    def step(self):\n",
        "\n",
        "        # Iterate through all network parameters\n",
        "        for key in self.network.parameters.keys():\n",
        "            grad_key = 'd' + key # Gradient key corresponding to the parameter\n",
        "            param = self.network.parameters[key] # Current parameter\n",
        "            grad = self.network.grads[grad_key] # Gradient of the parameter\n",
        "\n",
        "            # Initialize velocity to zero if it doesn't exist yet\n",
        "            if key not in self.velocities:\n",
        "                self.velocities[key] = np.zeros_like(param)\n",
        "\n",
        "            velocity = self.velocities[key] # Get the current velocity for this parameter\n",
        "            \n",
        "            velocity = self.beta * velocity + (1 - self.beta) * grad # Update the velocity\n",
        "            param = param - self.learning_rate * velocity # Update the parameter\n",
        " \n",
        "            self.velocities[key] = velocity # Store the updated velocity\n",
        "            self.network.parameters[key] = param # Update the parameter"
      ]
    },
    {
      "cell_type": "code",
      "execution_count": 41,
      "metadata": {},
      "outputs": [],
      "source": [
        "optimizer = GradientDescentWithMomentum(network, learning_rate = 0.1, beta = 0.8)\n",
        "max_iter = 10\n",
        "losses = []"
      ]
    },
    {
      "cell_type": "code",
      "execution_count": 42,
      "metadata": {},
      "outputs": [],
      "source": [
        "for i in range(max_iter):\n",
        "    A = network(X) # Perform a forward pass to compute the output 'A' of the network\n",
        "    losses.append(compute_cost(A, Y)) # Compute and append the current loss\n",
        "    network.backward(Y) # Perform a backward pass to compute the gradients of the loss with respect to the parameters\n",
        "    optimizer.step() # Update the network parameters"
      ]
    },
    {
      "cell_type": "code",
      "execution_count": 43,
      "metadata": {},
      "outputs": [],
      "source": [
        "losses = np.array(losses)"
      ]
    },
    {
      "cell_type": "code",
      "execution_count": 44,
      "metadata": {
        "colab": {
          "base_uri": "https://localhost:8080/"
        },
        "id": "99UZxpNmVmpr",
        "outputId": "25088342-3abc-4551-9a35-5a3c3e350d07"
      },
      "outputs": [
        {
          "name": "stdout",
          "output_type": "stream",
          "text": [
            "Losses: \n",
            "[2.03375613 2.03216316 2.02931359 2.02548826 2.02091931 2.01579704\n",
            " 2.01027639 2.00448266 1.99851656 1.99245847]\n"
          ]
        }
      ],
      "source": [
        "print(f\"Losses: \\n{losses}\")"
      ]
    },
    {
      "cell_type": "markdown",
      "metadata": {},
      "source": [
        "---\n",
        "### RMSProp"
      ]
    },
    {
      "cell_type": "markdown",
      "metadata": {
        "id": "UXEmx7WqV2oF"
      },
      "source": [
        "**Exercise 9**\n",
        "1. Like `GradientDescentWithMomentum` requires an additional input, the `RMSProp` also require a scaling factor `beta`, so we also need to redefine the `__init__()` method. Similarly, we will define extra variable `self.squared_gradients` for scaling.\n",
        "2. Implement the `step()` method by using RMSProp formula."
      ]
    },
    {
      "cell_type": "code",
      "execution_count": 45,
      "metadata": {
        "id": "Q80XO3ofV2BL"
      },
      "outputs": [],
      "source": [
        "class RMSProp(Optimizer):\n",
        "\n",
        "    # Initialize the RMSProp optimizer with learning rate and beta\n",
        "    def __init__(self, network, learning_rate, beta = 0.9):\n",
        "        super().__init__(network, learning_rate)  # Call the parent constructor\n",
        "        self.beta = beta  # Smoothing factor for squared gradients\n",
        "        self.squared_gradients = {}  # Dictionary to store the squared gradients\n",
        "\n",
        "    # Perform one step of RMSProp optimization\n",
        "    def step(self):\n",
        "\n",
        "        # Iterate through all network parameters\n",
        "        for key in self.network.parameters.keys():\n",
        "            \n",
        "            grad_key = 'd' + key # Gradient key corresponding to the parameter\n",
        "            param = self.network.parameters[key] # Current parameter\n",
        "            grad = self.network.grads[grad_key] # Gradient of the parameter\n",
        "\n",
        "            # Initialize squared gradient to zero if it doesn't exist yet\n",
        "            if key not in self.squared_gradients:\n",
        "                self.squared_gradients[key] = np.zeros_like(param)\n",
        "\n",
        "            squared_gradient = self.squared_gradients[key] # Get the current squared gradient for this parameter\n",
        "            \n",
        "            squared_gradient = self.beta * squared_gradient + (1 - self.beta) * (grad ** 2) # Update the squared gradient\n",
        "            param = param - self.learning_rate * grad / (np.sqrt(squared_gradient) + 1e-8) # Update the parameter\n",
        "\n",
        "            self.squared_gradients[key] = squared_gradient # Store the updated squared gradient\n",
        "            self.network.parameters[key] = param # Update the parameter"
      ]
    },
    {
      "cell_type": "code",
      "execution_count": 46,
      "metadata": {},
      "outputs": [],
      "source": [
        "optimizer = RMSProp(network, learning_rate = 0.1, beta = 0.8)\n",
        "max_iter = 10\n",
        "losses = []"
      ]
    },
    {
      "cell_type": "code",
      "execution_count": 47,
      "metadata": {},
      "outputs": [],
      "source": [
        "for i in range(max_iter):\n",
        "    A = network(X) # Perform a forward pass to compute the output 'A' of the network\n",
        "    losses.append(compute_cost(A, Y)) # Compute and append the current loss\n",
        "    network.backward(Y) # Perform a backward pass to compute the gradients of the loss with respect to the parameters\n",
        "    optimizer.step() # Update the network parameters"
      ]
    },
    {
      "cell_type": "code",
      "execution_count": 48,
      "metadata": {},
      "outputs": [],
      "source": [
        "losses = np.array(losses)"
      ]
    },
    {
      "cell_type": "code",
      "execution_count": 49,
      "metadata": {
        "colab": {
          "base_uri": "https://localhost:8080/"
        },
        "id": "GZ9GQ8pHXKGe",
        "outputId": "e47c3997-9407-45c7-90d6-4d5743f82730"
      },
      "outputs": [
        {
          "name": "stdout",
          "output_type": "stream",
          "text": [
            "Losses: \n",
            "[1.98637207 1.81473496 1.77935884 1.75574723 1.73123266 1.69885805\n",
            " 1.65468703 1.59739508 1.52794071 1.45044982]\n"
          ]
        }
      ],
      "source": [
        "print(f\"Losses: \\n{losses}\")"
      ]
    },
    {
      "cell_type": "markdown",
      "metadata": {},
      "source": [
        "---\n",
        "### Adam"
      ]
    },
    {
      "cell_type": "markdown",
      "metadata": {
        "id": "YskatLb1XTU0"
      },
      "source": [
        "**Exercise 10**\n",
        "1. The `Adam` optimizer requires two factors `beta1` and `beta2`, so we also need to redefine the `__init__()` method.\n",
        "2. Implement the `step()` method using Adam formula."
      ]
    },
    {
      "cell_type": "code",
      "execution_count": 50,
      "metadata": {
        "id": "LkOWKfwrXSo2"
      },
      "outputs": [],
      "source": [
        "class Adam(Optimizer):\n",
        "    \n",
        "    # Initialize the Adam optimizer\n",
        "    def __init__(self, network, learning_rate, beta1 = 0.9, beta2 = 0.999):\n",
        "        super().__init__(network, learning_rate) # Call the parent constructor\n",
        "        self.beta1 = beta1 # Momentum factor for the first moment\n",
        "        self.beta2 = beta2 # Smoothing factor for the second moment\n",
        "        self.velocities = {} # Dictionary to store the velocities\n",
        "        self.squared_gradients = {} # Dictionary to store the squared gradients\n",
        "\n",
        "    # Perform one step of Adam optimization\n",
        "    def step(self):\n",
        "\n",
        "      # Iterate through all network parameters\n",
        "        for key in self.network.parameters.keys():\n",
        "            \n",
        "            grad_key = 'd' + key # Gradient key corresponding to the parameter\n",
        "            param = self.network.parameters[key] # Current parameter\n",
        "            grad = self.network.grads[grad_key] # Gradient of the parameter\n",
        "\n",
        "            # Initialize velocity to zero if it doesn't exist yet\n",
        "            if key not in self.velocities:\n",
        "              self.velocities[key] = np.zeros_like(param)\n",
        "\n",
        "            # Initialize squared gradient to zero if it doesn't exist yet\n",
        "            if key not in self.squared_gradients:\n",
        "              self.squared_gradients[key] = np.zeros_like(param)\n",
        "\n",
        "            velocity = self.velocities[key] # Get the current velocity\n",
        "            squared_gradient = self.squared_gradients[key] # Get the current squared gradient\n",
        "\n",
        "            velocity = self.beta1 * velocity + (1 - self.beta1) * grad # Update the first moment estimate\n",
        "            squared_gradient = self.beta2 * squared_gradient + (1 - self.beta2) * grad ** 2 # Update the second moment estimate\n",
        "            \n",
        "            velocity_hat = velocity / (1 - self.beta1) # Compute bias-corrected first moment estimates\n",
        "            squared_gradient_hat = squared_gradient / (1 - self.beta2) # Compute bias-corrected second moment estimates\n",
        "            \n",
        "            param = param - self.learning_rate * velocity_hat / (np.sqrt(squared_gradient_hat) + 1e-8) # Update the parameter\n",
        "\n",
        "            self.velocities[key] = velocity\n",
        "            self.squared_gradients[key] = squared_gradient\n",
        "            self.network.parameters[key] = param"
      ]
    },
    {
      "cell_type": "code",
      "execution_count": 51,
      "metadata": {},
      "outputs": [],
      "source": [
        "optimizer = Adam(network, learning_rate = 0.1, beta1 = 0.8, beta2 = 0.9)\n",
        "max_iter = 10\n",
        "losses = []"
      ]
    },
    {
      "cell_type": "code",
      "execution_count": 52,
      "metadata": {},
      "outputs": [],
      "source": [
        "for i in range(max_iter):\n",
        "    A = network(X) # Perform a forward pass to compute the output 'A' of the network\n",
        "    losses.append(compute_cost(A, Y)) # Compute and append the current loss\n",
        "    network.backward(Y) # Perform a backward pass to compute the gradients of the loss with respect to the parameters\n",
        "    optimizer.step() # Update the network parameters"
      ]
    },
    {
      "cell_type": "code",
      "execution_count": 53,
      "metadata": {},
      "outputs": [],
      "source": [
        "losses = np.array(losses)"
      ]
    },
    {
      "cell_type": "code",
      "execution_count": 54,
      "metadata": {
        "colab": {
          "base_uri": "https://localhost:8080/"
        },
        "id": "N80VNM4FYxpU",
        "outputId": "4adcb4e2-8b64-4952-bfd9-caf30ff6600f"
      },
      "outputs": [
        {
          "name": "stdout",
          "output_type": "stream",
          "text": [
            "Losses: \n",
            "[1.3747617  1.32190984 1.26609619 1.21968168 1.18715165 1.16610461\n",
            " 1.15302375 1.14467459 1.13784358 1.13287624]\n"
          ]
        }
      ],
      "source": [
        "print(f\"Losses: \\n{losses}\")"
      ]
    },
    {
      "cell_type": "markdown",
      "metadata": {},
      "source": [
        "---\n",
        "## 3. Training with Optimizers"
      ]
    },
    {
      "cell_type": "code",
      "execution_count": 55,
      "metadata": {
        "id": "3_aOYmdQG_7d"
      },
      "outputs": [],
      "source": [
        "def train_loop(model, optimizer, X, Y, evaluate = False):\n",
        "\n",
        "    outputs = model(X) # Perform a forward pass through the model\n",
        "    loss = compute_cost(outputs, Y) # Compute the loss between the model outputs and the true labels Y\n",
        "    \n",
        "    # Perform backward propagation and optimization step if not in evaluation mode\n",
        "    if not evaluate:\n",
        "        model.backward(Y) # Perform backpropagation\n",
        "        optimizer.step() # Update the model parameters\n",
        "\n",
        "    return loss"
      ]
    },
    {
      "cell_type": "code",
      "execution_count": 56,
      "metadata": {
        "id": "2y6-akYOZNKD"
      },
      "outputs": [],
      "source": [
        "def train(model, optimizer, X_train, Y_train, X_test, Y_test, num_iterations = 10, print_cost = False):\n",
        "\n",
        "    train_losses = []\n",
        "    test_losses = []\n",
        "\n",
        "    for i in range(num_iterations):\n",
        "\n",
        "        # Compute the train and test loss\n",
        "        train_loss = train_loop(model, optimizer, X_train, Y_train, evaluate = False)\n",
        "        test_loss = train_loop(model, optimizer, X_test, Y_test, evaluate = True)\n",
        "\n",
        "        # Append the computed losses to their respective lists\n",
        "        train_losses.append(train_loss)\n",
        "        test_losses.append(test_loss)\n",
        "\n",
        "        if print_cost and i % 10 == 0:\n",
        "            print(f\"Train Loss at {i}: {train_loss}; Test Loss at {i}: {test_loss}\")\n",
        "\n",
        "    return np.array(train_losses), np.array(test_losses)"
      ]
    },
    {
      "cell_type": "code",
      "execution_count": 57,
      "metadata": {},
      "outputs": [],
      "source": [
        "network = NeuralNetwork(n_x, n_y, n_h, depth = 3)\n",
        "optimizer = Adam(network, learning_rate = 0.1, beta1 = 0.8, beta2 = 0.9)\n",
        "train_losses, test_losses = train(network, optimizer, X, Y, X, Y, num_iterations = 10)"
      ]
    },
    {
      "cell_type": "code",
      "execution_count": 58,
      "metadata": {
        "colab": {
          "base_uri": "https://localhost:8080/"
        },
        "id": "KzG6G9WpMUe7",
        "outputId": "543ffbb6-84ab-422d-9324-70dafda6d725"
      },
      "outputs": [
        {
          "name": "stdout",
          "output_type": "stream",
          "text": [
            "Train Losses: \n",
            "[1.8452532  1.84385624 1.7850227  1.63224332 1.58341206 1.52741059\n",
            " 1.49753446 1.6641087  1.46825151 1.4904772 ]\n",
            "Test Losses: \n",
            "[1.84385624 1.7850227  1.63224332 1.58341206 1.52741059 1.49753446\n",
            " 1.6641087  1.46825151 1.4904772  1.49438468]\n"
          ]
        }
      ],
      "source": [
        "print(f\"Train Losses: \\n{train_losses}\")\n",
        "print(f\"Test Losses: \\n{test_losses}\")"
      ]
    },
    {
      "cell_type": "markdown",
      "metadata": {},
      "source": [
        "---\n",
        "### Load Image Dataset: MNIST"
      ]
    },
    {
      "cell_type": "code",
      "execution_count": 59,
      "metadata": {},
      "outputs": [],
      "source": [
        "(X_train, y_train), (X_test, y_test) = tf.keras.datasets.mnist.load_data()"
      ]
    },
    {
      "cell_type": "code",
      "execution_count": 60,
      "metadata": {},
      "outputs": [],
      "source": [
        "X_train = X_train.reshape(X_train.shape[0], -1).T / 255.0\n",
        "X_test = X_test.reshape(X_test.shape[0], -1).T / 255.0"
      ]
    },
    {
      "cell_type": "code",
      "execution_count": 61,
      "metadata": {},
      "outputs": [],
      "source": [
        "train_filter = (y_train == 0) | (y_train == 1)\n",
        "test_filter = (y_test == 0) | (y_test == 1)"
      ]
    },
    {
      "cell_type": "code",
      "execution_count": 62,
      "metadata": {},
      "outputs": [],
      "source": [
        "X_train_binary = X_train[:, train_filter]\n",
        "y_train_binary = y_train[train_filter].reshape(1, -1)"
      ]
    },
    {
      "cell_type": "code",
      "execution_count": 63,
      "metadata": {},
      "outputs": [],
      "source": [
        "X_test_binary = X_test[:, test_filter]\n",
        "y_test_binary = y_test[test_filter].reshape(1, -1)"
      ]
    },
    {
      "cell_type": "code",
      "execution_count": 64,
      "metadata": {},
      "outputs": [
        {
          "name": "stdout",
          "output_type": "stream",
          "text": [
            "Training data shape: (784, 12665)\n",
            "Training labels shape: (1, 12665)\n",
            "Testing data shape: (784, 2115)\n",
            "Testing labels shape: (1, 2115)\n",
            "Training labels: [0 1]\n",
            "Testing labels: [0 1]\n"
          ]
        }
      ],
      "source": [
        "print(f\"Training data shape: {X_train_binary.shape}\")\n",
        "print(f\"Training labels shape: {y_train_binary.shape}\")\n",
        "print(f\"Testing data shape: {X_test_binary.shape}\")\n",
        "print(f\"Testing labels shape: {y_test_binary.shape}\")\n",
        "print(\"Training labels:\", np.unique(y_train_binary))\n",
        "print(\"Testing labels:\", np.unique(y_test_binary))"
      ]
    },
    {
      "cell_type": "markdown",
      "metadata": {
        "id": "ubqhTcjWk0AS"
      },
      "source": [
        "---\n",
        "### Optimizer Comparison"
      ]
    },
    {
      "cell_type": "code",
      "execution_count": 65,
      "metadata": {},
      "outputs": [],
      "source": [
        "input_size = X_train_binary.shape[0]\n",
        "hidden_size = 64\n",
        "output_size = 1\n",
        "depth = 3\n",
        "num_iterations = 100"
      ]
    },
    {
      "cell_type": "code",
      "execution_count": 66,
      "metadata": {},
      "outputs": [],
      "source": [
        "optimizers = {\"Gradient Descent\": lambda net: GradientDescent(net, learning_rate = 0.1),\n",
        "              \"Momentum\": lambda net: GradientDescentWithMomentum(net, learning_rate = 0.9, beta = 0.9),\n",
        "              \"RMSProp\": lambda net: RMSProp(net, learning_rate = 0.001, beta = 0.9),\n",
        "              \"Adam\": lambda net: Adam(net, learning_rate = 0.01, beta1 = 0.9, beta2 = 0.99)}"
      ]
    },
    {
      "cell_type": "code",
      "execution_count": 67,
      "metadata": {},
      "outputs": [],
      "source": [
        "colors = {\"Gradient Descent\": 'b',\n",
        "          \"Momentum\": 'k',\n",
        "          \"RMSProp\": 'r',\n",
        "          \"Adam\": 'c'}"
      ]
    },
    {
      "cell_type": "code",
      "execution_count": 68,
      "metadata": {},
      "outputs": [],
      "source": [
        "train_losses_dict = {}\n",
        "test_losses_dict = {}"
      ]
    },
    {
      "cell_type": "code",
      "execution_count": 69,
      "metadata": {},
      "outputs": [
        {
          "name": "stdout",
          "output_type": "stream",
          "text": [
            "Training with Gradient Descent ...\n",
            "Train Losses: 0.0034, Test Losses: 0.0029\n",
            "Training with Momentum ...\n",
            "Train Losses: 0.0007, Test Losses: 0.0005\n",
            "Training with RMSProp ...\n",
            "Train Losses: 0.0036, Test Losses: 0.0038\n",
            "Training with Adam ...\n",
            "Train Losses: 0.0011, Test Losses: 0.0018\n"
          ]
        }
      ],
      "source": [
        "for opt_name, optimizer_fn in optimizers.items():\n",
        "\n",
        "    print(f\"Training with {opt_name} ...\")\n",
        "    \n",
        "    # Initialize the neural network model\n",
        "    mnist_net = NeuralNetwork(input_size, output_size, hidden_size, depth)\n",
        "\n",
        "    # Create the optimizer\n",
        "    optimizer = optimizer_fn(mnist_net)\n",
        "\n",
        "    # Train the model\n",
        "    train_losses, test_losses = train(mnist_net, optimizer, X_train_binary, y_train_binary, X_test_binary, y_test_binary, num_iterations = num_iterations)\n",
        "    \n",
        "    # Store the training and test losses in dictionaries\n",
        "    train_losses_dict[opt_name] = train_losses\n",
        "    test_losses_dict[opt_name] = test_losses\n",
        "    \n",
        "    print(f\"Train Losses: {train_losses[-1]:.4f}, Test Losses: {test_losses[-1]:.4f}\")"
      ]
    },
    {
      "cell_type": "code",
      "execution_count": 70,
      "metadata": {
        "colab": {
          "base_uri": "https://localhost:8080/",
          "height": 567
        },
        "id": "zDvWqma4DGDL",
        "outputId": "53f860f7-547b-4c46-e557-b2a6f57959c8"
      },
      "outputs": [
        {
          "data": {
            "image/png": "[encoded data removed]",
            "text/plain": [
              "<Figure size 1000x600 with 1 Axes>"
            ]
          },
          "metadata": {},
          "output_type": "display_data"
        }
      ],
      "source": [
        "plt.figure(figsize = (10, 6))\n",
        "for opt_name in optimizers.keys():\n",
        "    color = colors[opt_name]\n",
        "    plt.plot(train_losses_dict[opt_name], label = f'{opt_name} Train Loss', linestyle = '-', color = color)\n",
        "    plt.plot(test_losses_dict[opt_name], label = f'{opt_name} Test Loss', linestyle = '--', color = color)\n",
        "plt.title(\"Training and Test Loss Comparison\")\n",
        "plt.xlabel(\"Iterations\")\n",
        "plt.ylabel(\"Loss\")\n",
        "plt.legend()\n",
        "plt.grid(True)\n",
        "plt.show()"
      ]
    },
    {
      "cell_type": "code",
      "execution_count": null,
      "metadata": {
        "id": "NYysOXdHcv5H"
      },
      "outputs": [],
      "source": []
    }
  ],
  "metadata": {
    "colab": {
      "provenance": [],
      "toc_visible": true
    },
    "kernelspec": {
      "display_name": "Python 3",
      "name": "python3"
    },
    "language_info": {
      "codemirror_mode": {
        "name": "ipython",
        "version": 3
      },
      "file_extension": ".py",
      "mimetype": "text/x-python",
      "name": "python",
      "nbconvert_exporter": "python",
      "pygments_lexer": "ipython3",
      "version": "3.9.11"
    }
  },
  "nbformat": 4,
  "nbformat_minor": 0
}
