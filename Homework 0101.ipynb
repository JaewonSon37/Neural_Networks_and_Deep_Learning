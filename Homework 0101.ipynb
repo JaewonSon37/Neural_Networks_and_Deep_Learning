{
  "cells": [
    {
      "cell_type": "markdown",
      "metadata": {
        "id": "0LvBxvEhO18P"
      },
      "source": [
        "# Homework 1: NumPy, XOR Logical Operator, and Multilayer Perceptrons\n",
        "---"
      ]
    },
    {
      "cell_type": "code",
      "execution_count": 1,
      "metadata": {},
      "outputs": [],
      "source": [
        "import numpy as np"
      ]
    },
    {
      "cell_type": "markdown",
      "metadata": {},
      "source": [
        "---\n",
        "### Basic Python Operations"
      ]
    },
    {
      "cell_type": "markdown",
      "metadata": {
        "id": "nUUSLylJO18T"
      },
      "source": [
        "**Exercise 1 [10/10]**: Create two variables `x` and `y` and assign them the values `5` and `10`, respectively."
      ]
    },
    {
      "cell_type": "code",
      "execution_count": 2,
      "metadata": {
        "id": "LshYBvMCO18T"
      },
      "outputs": [],
      "source": [
        "x = 5\n",
        "y = 10"
      ]
    },
    {
      "cell_type": "markdown",
      "metadata": {
        "id": "EqN7D4IbRe5B"
      },
      "source": [
        "**Exercise 2 [10/10]**: Compute their sum and product. Print the result."
      ]
    },
    {
      "cell_type": "code",
      "execution_count": 3,
      "metadata": {},
      "outputs": [],
      "source": [
        "sum = x + y\n",
        "product = x * y"
      ]
    },
    {
      "cell_type": "code",
      "execution_count": 4,
      "metadata": {
        "colab": {
          "base_uri": "https://localhost:8080/"
        },
        "id": "F3xgNuqEgQLg",
        "outputId": "83102a6d-e8af-4179-dbf2-03420ff83ae6"
      },
      "outputs": [
        {
          "name": "stdout",
          "output_type": "stream",
          "text": [
            "15\n",
            "50\n"
          ]
        }
      ],
      "source": [
        "print(sum)\n",
        "print(product)"
      ]
    },
    {
      "cell_type": "markdown",
      "metadata": {
        "id": "fRTVv5LngUTx"
      },
      "source": [
        "**Exercise 3 [10/10]**: Use an `if-else` statement to print `1` if `x` is greater than or equival to `y`, and print `0` otherwise."
      ]
    },
    {
      "cell_type": "code",
      "execution_count": 5,
      "metadata": {
        "colab": {
          "base_uri": "https://localhost:8080/"
        },
        "id": "ydmHy9TAgVQ5",
        "outputId": "0b099cb3-22ad-40da-e638-f3313b0e52c7"
      },
      "outputs": [
        {
          "name": "stdout",
          "output_type": "stream",
          "text": [
            "0\n"
          ]
        }
      ],
      "source": [
        "if x >= y:\n",
        "    print(1)\n",
        "else:\n",
        "    print(0)"
      ]
    },
    {
      "cell_type": "markdown",
      "metadata": {},
      "source": [
        "---\n",
        "### Functions"
      ]
    },
    {
      "cell_type": "markdown",
      "metadata": {
        "id": "KonyXCGPP0X-"
      },
      "source": [
        "**Exercise 4 [10/10]**:\n",
        "1. Write a function called `step` that returns 1 if the given number \\( x \\) is greater than or equal to 0, and 0 otherwise.\n",
        "2. Call the function to compute the values for 3 and -1.\n",
        "3. Print the results."
      ]
    },
    {
      "cell_type": "code",
      "execution_count": 6,
      "metadata": {},
      "outputs": [],
      "source": [
        "def step(x):\n",
        "    \n",
        "    if x >= 0:\n",
        "        return 1\n",
        "    else:\n",
        "        return 0"
      ]
    },
    {
      "cell_type": "code",
      "execution_count": 7,
      "metadata": {
        "colab": {
          "base_uri": "https://localhost:8080/"
        },
        "id": "BwvI7xKFRDC5",
        "outputId": "2f116ccd-1a80-4a83-d62c-750feb0e0a3a"
      },
      "outputs": [
        {
          "name": "stdout",
          "output_type": "stream",
          "text": [
            "1\n",
            "0\n"
          ]
        }
      ],
      "source": [
        "print(step(3))\n",
        "print(step(-1))"
      ]
    },
    {
      "cell_type": "markdown",
      "metadata": {},
      "source": [
        "---\n",
        "### Lists and Loops"
      ]
    },
    {
      "cell_type": "markdown",
      "metadata": {
        "id": "b04Z2h0dT1Y1"
      },
      "source": [
        "**Exercise 5 [10/10]**:\n",
        "1. Define a list or 1D-array `arr` with the values `[-1, -2, 3, 4, 5]`.\n",
        "2. Use a `for` loop to compute and print the result of the `step` function for each entry in the list."
      ]
    },
    {
      "cell_type": "code",
      "execution_count": 8,
      "metadata": {},
      "outputs": [],
      "source": [
        "arr = [-1, -2, 3, 4, 5]"
      ]
    },
    {
      "cell_type": "code",
      "execution_count": 9,
      "metadata": {
        "colab": {
          "base_uri": "https://localhost:8080/"
        },
        "id": "XWOEMBqdUUdZ",
        "outputId": "92b14e74-ace4-43ae-c53c-6406d4ea206b"
      },
      "outputs": [
        {
          "name": "stdout",
          "output_type": "stream",
          "text": [
            "0\n",
            "0\n",
            "1\n",
            "1\n",
            "1\n"
          ]
        }
      ],
      "source": [
        "for value in arr:\n",
        "    result = step(value)\n",
        "    print(result)"
      ]
    },
    {
      "cell_type": "markdown",
      "metadata": {},
      "source": [
        "---\n",
        "### NumPy Arrays"
      ]
    },
    {
      "cell_type": "markdown",
      "metadata": {
        "id": "ZyPS8TAiZLhO"
      },
      "source": [
        "**Exercise 6 [10/10]**:\n",
        "1. Import the `numpy` library as `np`.\n",
        "2. Create a NumPy array `arr` containing integers from -5 to 5 (inclusive).\n",
        "3. Print the created array."
      ]
    },
    {
      "cell_type": "code",
      "execution_count": 10,
      "metadata": {
        "colab": {
          "base_uri": "https://localhost:8080/"
        },
        "id": "eAl7EqAGZck8",
        "outputId": "d0d89ae6-d9db-4701-e9b3-8a621c315465"
      },
      "outputs": [],
      "source": [
        "arr = np.arange(-5, 6)"
      ]
    },
    {
      "cell_type": "code",
      "execution_count": 11,
      "metadata": {},
      "outputs": [
        {
          "name": "stdout",
          "output_type": "stream",
          "text": [
            "[-5 -4 -3 -2 -1  0  1  2  3  4  5]\n"
          ]
        }
      ],
      "source": [
        "print(arr)"
      ]
    },
    {
      "cell_type": "markdown",
      "metadata": {},
      "source": [
        "---\n",
        "### Class and Perceptron"
      ]
    },
    {
      "cell_type": "markdown",
      "metadata": {
        "id": "L2aIsGhhbKWk"
      },
      "source": [
        "**Exercise 7 [10/10]**:\n",
        "1. Define a class `Perceptron` that takes input weights `w` and bias `b`.\n",
        "2. In its `__init__` method, store the inputs `w` and `b` as `self.w` and `self.b`, respectively.\n",
        "3. Create another method `__call__` that applies the function `vstep` to the sum of the dot product of `x` and `self.w` plus `self.b`."
      ]
    },
    {
      "cell_type": "code",
      "execution_count": 12,
      "metadata": {
        "id": "RR7vYaelcAIq"
      },
      "outputs": [],
      "source": [
        "class Perceptron:\n",
        "    def __init__(self, w, b):\n",
        "        self.w = np.array(w)\n",
        "        self.b = b\n",
        "\n",
        "    def __call__(self, x):\n",
        "        vstep = np.vectorize(step)\n",
        "        return vstep(np.dot(self.w, x) + self.b)"
      ]
    },
    {
      "cell_type": "markdown",
      "metadata": {
        "id": "xvxynUz4cTrE"
      },
      "source": [
        "**Exercise 8 [10/10]**:\n",
        "Define the AND, OR, and NAND gates using the `Perceptron` class:\n",
        "1. `and_perceptron`: `w=[1, 1]` and `b=-1.5`.\n",
        "2. `or_perceptron`: `w=[1, 1]` and `b=-0.5`.\n",
        "3. `nand_perceptron`: `w=[-1, -1]` and `b=1.5`."
      ]
    },
    {
      "cell_type": "code",
      "execution_count": 13,
      "metadata": {
        "id": "zsO-HQfGcTCv"
      },
      "outputs": [],
      "source": [
        "and_perceptron = Perceptron([1, 1], -1.5)\n",
        "or_perceptron = Perceptron([1, 1], -0.5)\n",
        "nand_perceptron = Perceptron([-1, -1], 1.5)"
      ]
    },
    {
      "cell_type": "markdown",
      "metadata": {
        "id": "HjsPybX7dNr-"
      },
      "source": [
        "**Exercise 9 [10/10]**: Test the performance of the perceptrons\n",
        "\n",
        "1. Define the inputs as `inputs = np.array([[0, 0], [0, 1], [1, 0], [1, 1]])`.\n",
        "2. For each input `x` in `inputs`, evaluate it using `and_perceptron`, `or_perceptron`, and `nand_perceptron`, and print the results."
      ]
    },
    {
      "cell_type": "code",
      "execution_count": 14,
      "metadata": {},
      "outputs": [],
      "source": [
        "inputs = np.array([[0, 0], [0, 1], [1, 0], [1, 1]])"
      ]
    },
    {
      "cell_type": "code",
      "execution_count": 15,
      "metadata": {},
      "outputs": [
        {
          "name": "stdout",
          "output_type": "stream",
          "text": [
            "Input: [0 0], AND Output: 0\n",
            "Input: [0 1], AND Output: 0\n",
            "Input: [1 0], AND Output: 0\n",
            "Input: [1 1], AND Output: 1\n"
          ]
        }
      ],
      "source": [
        "for x in inputs:\n",
        "    print(f\"Input: {x}, AND Output: {and_perceptron(x)}\")"
      ]
    },
    {
      "cell_type": "code",
      "execution_count": 16,
      "metadata": {},
      "outputs": [
        {
          "name": "stdout",
          "output_type": "stream",
          "text": [
            "Input: [0 0], OR Output: 0\n",
            "Input: [0 1], OR Output: 1\n",
            "Input: [1 0], OR Output: 1\n",
            "Input: [1 1], OR Output: 1\n"
          ]
        }
      ],
      "source": [
        "for x in inputs:\n",
        "    print(f\"Input: {x}, OR Output: {or_perceptron(x)}\")"
      ]
    },
    {
      "cell_type": "code",
      "execution_count": 17,
      "metadata": {
        "colab": {
          "base_uri": "https://localhost:8080/"
        },
        "id": "b01eToJydIc_",
        "outputId": "7e4ea869-3f88-4788-edc5-31a6c49ef327"
      },
      "outputs": [
        {
          "name": "stdout",
          "output_type": "stream",
          "text": [
            "Input: [0 0], NAND Output: 1\n",
            "Input: [0 1], NAND Output: 1\n",
            "Input: [1 0], NAND Output: 1\n",
            "Input: [1 1], NAND Output: 0\n"
          ]
        }
      ],
      "source": [
        "for x in inputs:\n",
        "    print(f\"Input: {x}, NAND Output: {nand_perceptron(x)}\")"
      ]
    },
    {
      "cell_type": "markdown",
      "metadata": {},
      "source": [
        "---\n",
        "### Multilayer Perceptrons"
      ]
    },
    {
      "cell_type": "markdown",
      "metadata": {
        "id": "xa-gj_bod92e"
      },
      "source": [
        "**Exercise 10 [10/10]**:\n",
        "1. Define a function `xor_mlp` that takes an input `x`.\n",
        "2. In the first layer, compute the outputs `out1` and `out2` using `or_perceptron` and `nand_perceptron`, respectively.\n",
        "3. In the second layer, compute the final output `final_output` by passing the outputs `[out1, out2]` into the `and_perceptron`.\n",
        "4. Return the `final_output`."
      ]
    },
    {
      "cell_type": "code",
      "execution_count": 18,
      "metadata": {
        "colab": {
          "base_uri": "https://localhost:8080/"
        },
        "id": "kSAB2oued9TD",
        "outputId": "94dbdc3d-c94a-48c7-aa02-bfc341a4507d"
      },
      "outputs": [],
      "source": [
        "def xor_mlp(x):\n",
        "\n",
        "    # First layer\n",
        "    out1 = or_perceptron(x)\n",
        "    out2 = nand_perceptron(x)\n",
        "    \n",
        "    # Second layer\n",
        "    final_output = and_perceptron([out1, out2])\n",
        "    \n",
        "    return final_output"
      ]
    },
    {
      "cell_type": "code",
      "execution_count": 19,
      "metadata": {},
      "outputs": [
        {
          "name": "stdout",
          "output_type": "stream",
          "text": [
            "Input: [0 0], XOR Output: 0\n",
            "Input: [0 1], XOR Output: 1\n",
            "Input: [1 0], XOR Output: 1\n",
            "Input: [1 1], XOR Output: 0\n"
          ]
        }
      ],
      "source": [
        "for x in inputs:\n",
        "    print(f\"Input: {x}, XOR Output: {xor_mlp(x)}\")"
      ]
    },
    {
      "cell_type": "code",
      "execution_count": null,
      "metadata": {
        "id": "RBYWGByjmsjD"
      },
      "outputs": [],
      "source": []
    }
  ],
  "metadata": {
    "colab": {
      "provenance": [],
      "toc_visible": true
    },
    "kernelspec": {
      "display_name": "Python 3",
      "language": "python",
      "name": "python3"
    },
    "language_info": {
      "codemirror_mode": {
        "name": "ipython",
        "version": 3
      },
      "file_extension": ".py",
      "mimetype": "text/x-python",
      "name": "python",
      "nbconvert_exporter": "python",
      "pygments_lexer": "ipython3",
      "version": "3.9.11"
    }
  },
  "nbformat": 4,
  "nbformat_minor": 0
}
