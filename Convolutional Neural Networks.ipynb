{
  "cells": [
    {
      "cell_type": "markdown",
      "metadata": {
        "id": "U2IE67z4uw64"
      },
      "source": [
        "# Convolutional Neural Networks\n",
        "---"
      ]
    },
    {
      "cell_type": "code",
      "execution_count": 1,
      "metadata": {
        "id": "E2tdRyfowyAo"
      },
      "outputs": [
        {
          "name": "stderr",
          "output_type": "stream",
          "text": [
            "c:\\Users\\wodnj\\AppData\\Local\\Programs\\Python\\Python39\\lib\\site-packages\\torch\\utils\\_pytree.py:185: FutureWarning: optree is installed but the version is too old to support PyTorch Dynamo in C++ pytree. C++ pytree support is disabled. Please consider upgrading optree using `python3 -m pip install --upgrade 'optree>=0.13.0'`.\n",
            "  warnings.warn(\n"
          ]
        }
      ],
      "source": [
        "import numpy as np\n",
        "import torch\n",
        "import matplotlib.pyplot as plt\n",
        "import tensorflow as tf\n",
        "import torch\n",
        "import torch.nn as nn\n",
        "import torch.optim as optim\n",
        "import torchvision.transforms.functional as F\n",
        "import torchvision.transforms as transforms\n",
        "import os\n",
        "\n",
        "from torch import nn\n",
        "from torch.utils.data import DataLoader\n",
        "from torchvision.datasets import OxfordIIITPet\n",
        "from torch.utils.data import DataLoader, random_split"
      ]
    },
    {
      "cell_type": "markdown",
      "metadata": {
        "id": "VY9_cFkzGQT-"
      },
      "source": [
        "---\n",
        "## Convolutional Layer Implementation"
      ]
    },
    {
      "cell_type": "markdown",
      "metadata": {},
      "source": [
        "---\n",
        "### Padding"
      ]
    },
    {
      "cell_type": "markdown",
      "metadata": {
        "id": "I3lZ8CYbzf_v"
      },
      "source": [
        "**Exercise 1 [3/3]**: \n",
        "1. Implement the zero_pad() function, which takes a batch of examples A and a padding parameter p.\n",
        "2. Adds zeros around all four edges of each example."
      ]
    },
    {
      "cell_type": "code",
      "execution_count": 2,
      "metadata": {
        "id": "fVCvAEN_Ir2V"
      },
      "outputs": [],
      "source": [
        "def zero_pad(A, pad):\n",
        "\n",
        "    A_padded = np.pad(A, ((0, ), (pad, ), (pad, )), mode = 'constant', constant_values = 0)\n",
        "\n",
        "    return A_padded"
      ]
    },
    {
      "cell_type": "code",
      "execution_count": 3,
      "metadata": {},
      "outputs": [],
      "source": [
        "# Define the size of the image and batch\n",
        "n = 3\n",
        "batch_size = 10"
      ]
    },
    {
      "cell_type": "code",
      "execution_count": 4,
      "metadata": {},
      "outputs": [],
      "source": [
        "# Generate a batch of random images\n",
        "np.random.seed(1)\n",
        "X = np.random.randn(batch_size, n, n)"
      ]
    },
    {
      "cell_type": "code",
      "execution_count": 5,
      "metadata": {},
      "outputs": [
        {
          "name": "stdout",
          "output_type": "stream",
          "text": [
            "Original Image X[1]: \n",
            "[[-0.24937038  1.46210794 -2.06014071]\n",
            " [-0.3224172  -0.38405435  1.13376944]\n",
            " [-1.09989127 -0.17242821 -0.87785842]]\n"
          ]
        }
      ],
      "source": [
        "print(f\"Original Image X[1]: \\n{X[1]}\")"
      ]
    },
    {
      "cell_type": "code",
      "execution_count": 6,
      "metadata": {},
      "outputs": [],
      "source": [
        "pad = 1 # Padding size\n",
        "X_padded = zero_pad(X, pad) # Apply zero-padding"
      ]
    },
    {
      "cell_type": "code",
      "execution_count": 7,
      "metadata": {
        "colab": {
          "base_uri": "https://localhost:8080/"
        },
        "id": "eEmfp0bwLZof",
        "outputId": "ea2bdd48-9ab6-45ae-b1a8-4ac68ab03330"
      },
      "outputs": [
        {
          "name": "stdout",
          "output_type": "stream",
          "text": [
            "Padded Image X_padded[1]: \n",
            "[[ 0.          0.          0.          0.          0.        ]\n",
            " [ 0.         -0.24937038  1.46210794 -2.06014071  0.        ]\n",
            " [ 0.         -0.3224172  -0.38405435  1.13376944  0.        ]\n",
            " [ 0.         -1.09989127 -0.17242821 -0.87785842  0.        ]\n",
            " [ 0.          0.          0.          0.          0.        ]]\n"
          ]
        }
      ],
      "source": [
        "print(f\"Padded Image X_padded[1]: \\n{X_padded[1]}\")"
      ]
    },
    {
      "cell_type": "code",
      "execution_count": 8,
      "metadata": {
        "colab": {
          "base_uri": "https://localhost:8080/",
          "height": 411
        },
        "id": "Jmdz14LR1qOc",
        "outputId": "70431d36-2b50-4ef2-f984-c44184cb3faf"
      },
      "outputs": [
        {
          "data": {
            "image/png": "[encoded data removed]",
            "text/plain": [
              "<Figure size 1000x500 with 2 Axes>"
            ]
          },
          "metadata": {},
          "output_type": "display_data"
        }
      ],
      "source": [
        "# Visualizing the original and padded images\n",
        "fig, (ax1, ax2) = plt.subplots(1, 2, figsize = (10, 5))\n",
        "ax1.imshow(X[1], cmap = 'gray') # Show original image\n",
        "ax1.set_title(\"Original Image\")\n",
        "ax1.axis('off')\n",
        "ax2.imshow(X_padded[1], cmap = 'gray') # Show padded image\n",
        "ax2.set_title(\"Padded Image\")\n",
        "ax2.axis('off')\n",
        "plt.show()"
      ]
    },
    {
      "cell_type": "markdown",
      "metadata": {},
      "source": [
        "---\n",
        "### One Step Convolution"
      ]
    },
    {
      "cell_type": "markdown",
      "metadata": {
        "id": "xMiZGevYKtGg"
      },
      "source": [
        "**Exercise 2 [3/3]**: \n",
        "1. Implement the `one_step_conv()` function. This function should take a region from the padded input, a filter, and a bias term as inputs, and it should return the result of the convolution operation for that specific region."
      ]
    },
    {
      "cell_type": "code",
      "execution_count": 9,
      "metadata": {
        "id": "ixrftnTzKskR"
      },
      "outputs": [],
      "source": [
        "def one_step_conv(region, filter, bias):\n",
        "    \n",
        "    # Element-wise multiplication and summation\n",
        "    result = np.sum(region * filter) + bias\n",
        "    \n",
        "    return result.item()"
      ]
    },
    {
      "cell_type": "code",
      "execution_count": 10,
      "metadata": {},
      "outputs": [],
      "source": [
        "# Define filter parameters\n",
        "i = 0\n",
        "j = 0\n",
        "filter_size = 3\n",
        "bias = 0"
      ]
    },
    {
      "cell_type": "code",
      "execution_count": 11,
      "metadata": {},
      "outputs": [],
      "source": [
        "# Define a simple edge-detection filter\n",
        "filter = np.array([[1, 0, -1],\n",
        "                   [1, 0, -1],\n",
        "                   [1, 0, -1]])"
      ]
    },
    {
      "cell_type": "code",
      "execution_count": 12,
      "metadata": {},
      "outputs": [],
      "source": [
        "# Extract the 3x3 region from the padded image\n",
        "A_padded = X_padded[1]\n",
        "region = A_padded[i:i + filter_size, j:j + filter_size]"
      ]
    },
    {
      "cell_type": "code",
      "execution_count": 13,
      "metadata": {},
      "outputs": [],
      "source": [
        "# Perform one-step convolution\n",
        "output = one_step_conv(region, filter, bias)"
      ]
    },
    {
      "cell_type": "code",
      "execution_count": 14,
      "metadata": {
        "colab": {
          "base_uri": "https://localhost:8080/"
        },
        "id": "P3XY_8UuMe7F",
        "outputId": "3fc610f4-087f-4700-ef02-82463b2c26fe"
      },
      "outputs": [
        {
          "name": "stdout",
          "output_type": "stream",
          "text": [
            "Region = \n",
            "[[ 0.          0.          0.        ]\n",
            " [ 0.         -0.24937038  1.46210794]\n",
            " [ 0.         -0.3224172  -0.38405435]]\n",
            "Output of one_step_conv: -1.0780535823765585\n"
          ]
        }
      ],
      "source": [
        "print(f\"Region = \\n{region}\")\n",
        "print(f\"Output of one_step_conv: {output}\")"
      ]
    },
    {
      "cell_type": "markdown",
      "metadata": {},
      "source": [
        "---\n",
        "### Stride"
      ]
    },
    {
      "cell_type": "markdown",
      "metadata": {
        "id": "lyjjypgp4raA"
      },
      "source": [
        "**Exercise 3 [4/4]**:\n",
        "1. Implement the get_region() function, which extracts and returns the appropriate region from the padded input  `A_padded`  based on the current  `(i,j)`, `stride`, and `filter_size`."
      ]
    },
    {
      "cell_type": "code",
      "execution_count": 15,
      "metadata": {
        "id": "RzJirdAcNERD"
      },
      "outputs": [],
      "source": [
        "def get_region(A_padded, i, j, stride, filter_size):\n",
        "\n",
        "    i_start = i * stride # Compute row start index based on stride\n",
        "    j_start = j * stride # Compute column start index based on stride\n",
        "    region = A_padded[i_start:i_start + filter_size, j_start:j_start + filter_size] # Extract region\n",
        "    \n",
        "    return region"
      ]
    },
    {
      "cell_type": "code",
      "execution_count": 16,
      "metadata": {},
      "outputs": [],
      "source": [
        "# Define initial indices and stride\n",
        "i = 0\n",
        "j = 0\n",
        "stride = 2"
      ]
    },
    {
      "cell_type": "code",
      "execution_count": 17,
      "metadata": {
        "colab": {
          "base_uri": "https://localhost:8080/"
        },
        "id": "GASchemIPPFd",
        "outputId": "c5a9e4fb-7e79-4927-81a1-9ab25188b4ee"
      },
      "outputs": [
        {
          "data": {
            "text/plain": [
              "array([[ 0.        ,  0.        ,  0.        ],\n",
              "       [ 0.        , -0.24937038,  1.46210794],\n",
              "       [ 0.        , -0.3224172 , -0.38405435]])"
            ]
          },
          "execution_count": 17,
          "metadata": {},
          "output_type": "execute_result"
        }
      ],
      "source": [
        "get_region(A_padded, i, j, stride, filter_size)"
      ]
    },
    {
      "cell_type": "markdown",
      "metadata": {},
      "source": [
        "---\n",
        "### Forward Pass"
      ]
    },
    {
      "cell_type": "markdown",
      "metadata": {
        "id": "Ps7JIc2QPA1r"
      },
      "source": [
        "**Exercise 4 [10/10]**: \n",
        "1. Implement the `conv_forward()` function. Assume using `ReLU()`. The function should return both `A` (the activated output feature map) and a `cache` containing `A_prev` and `Z`, which will be essential for backpropagation."
      ]
    },
    {
      "cell_type": "code",
      "execution_count": 18,
      "metadata": {
        "id": "f9trgaxT9JJw"
      },
      "outputs": [],
      "source": [
        "class ReLU:\n",
        "    \n",
        "    def __init__(self):\n",
        "        pass\n",
        "\n",
        "    def forward(self, x):\n",
        "        return np.maximum(0, x)\n",
        "\n",
        "    def derivative(self, x):\n",
        "        return np.where(x >= 0, 1, 0)\n",
        "\n",
        "    def __call__(self, x):\n",
        "        return self.forward(x)"
      ]
    },
    {
      "cell_type": "code",
      "execution_count": 19,
      "metadata": {
        "id": "hgeeA4aDPALi"
      },
      "outputs": [],
      "source": [
        "def conv_forward(A_prev, filter, bias, stride = 1, pad = 0, act = ReLU()):\n",
        "\n",
        "    batch_size = A_prev.shape[0] # Number of images in the batch\n",
        "    n = A_prev.shape[1] # Input image size\n",
        "    f = filter.shape[0] # Filter size\n",
        "    m = (n + 2 * pad - f) // stride + 1 # Compute output spatial size\n",
        "\n",
        "    # Initialize output volume\n",
        "    Z = np.zeros((batch_size, m, m))\n",
        "\n",
        "    # Apply zero-padding to the input images\n",
        "    A_padded = zero_pad(A_prev, pad)\n",
        "\n",
        "    for b in range(batch_size): # Iterate over batch\n",
        "        for i in range(m): # Iterate over rows of output\n",
        "            for j in range(m): # Iterate over columns of output\n",
        "                region = get_region(A_padded[b], i, j, stride, f) # Extract region\n",
        "                Z[b, i, j] = one_step_conv(region, filter, bias) # Apply convolution\n",
        "\n",
        "    # Apply activation function\n",
        "    A = act(Z)\n",
        "\n",
        "    # Store cache for potential backward pass\n",
        "    cache = (A_prev, Z)\n",
        " \n",
        "    return A, cache"
      ]
    },
    {
      "cell_type": "code",
      "execution_count": 20,
      "metadata": {},
      "outputs": [],
      "source": [
        "act = ReLU()\n",
        "A, cache = conv_forward(X, filter, bias, stride, pad, act)"
      ]
    },
    {
      "cell_type": "code",
      "execution_count": 21,
      "metadata": {
        "colab": {
          "base_uri": "https://localhost:8080/"
        },
        "id": "ZqSBHlT2Q1xm",
        "outputId": "3769a7d0-c315-4dd1-d69e-231996c3f5e3"
      },
      "outputs": [
        {
          "name": "stdout",
          "output_type": "stream",
          "text": [
            "A[1] = \n",
            "[[0.         1.07805358]\n",
            " [0.55648256 0.        ]]\n"
          ]
        }
      ],
      "source": [
        "print(f'A[1] = \\n{A[1]}')"
      ]
    },
    {
      "cell_type": "markdown",
      "metadata": {},
      "source": [
        "---\n",
        "### Backward Pass"
      ]
    },
    {
      "cell_type": "markdown",
      "metadata": {
        "id": "B5Q98NIqyBT6"
      },
      "source": [
        "**Exercise 5 [15/15]**: \n",
        "1. Implement `conv_backward()`. This function will calculate $dA^{\\ell-1}$,  $dF^{\\ell}$, and $db^{\\ell}$ using the steps outlined above. Remember that $dA^{\\ell-1}$ must be accumulated over all regions that contributed to each element in the output."
      ]
    },
    {
      "cell_type": "code",
      "execution_count": 22,
      "metadata": {
        "id": "oYT6Qq-mzU_l"
      },
      "outputs": [],
      "source": [
        "def conv_backward(dA, filter, bias, cache, act = ReLU(), stride = 1, pad = 0):\n",
        "\n",
        "    # Retrieve cached values from forward pass\n",
        "    A_prev, Z = cache \n",
        "\n",
        "    batch_size = A_prev.shape[0] # Number of input samples\n",
        "    n = A_prev.shape[1] # Input image size\n",
        "    f = filter.shape[0] # Filter size\n",
        "    m = (n + 2 * pad - f) // stride + 1 # Output spatial size\n",
        "\n",
        "    # Initialize gradients\n",
        "    dF = np.zeros_like(filter, dtype = np.float64)\n",
        "    db = np.zeros_like(bias, dtype = np.float64)\n",
        "    dA_prev = np.zeros_like(A_prev, dtype = np.float64)\n",
        "\n",
        "    # Apply padding to A_prev and dA_prev if necessary\n",
        "    if pad > 0:\n",
        "        A_prev_padded = zero_pad(A_prev, pad)\n",
        "        dA_prev_padded = zero_pad(A_prev, pad)\n",
        "    else:\n",
        "        A_prev_padded = A_prev\n",
        "        dA_prev_padded = dA_prev\n",
        "\n",
        "    # Compute dZ using the derivative of the activation function\n",
        "    dZ = act.derivative(Z) * dA\n",
        "\n",
        "    for b in range(batch_size): # Iterate over batch\n",
        "        for i in range(m): # Iterate over output rows\n",
        "            for j in range(m): # Iterate over output columns\n",
        "                region = get_region(A_prev_padded[b], i, j, stride, f) # Extract corresponding region from the padded input\n",
        "                dF += region * dZ[b, i, j] # Compute gradients for filter\n",
        "                db += dZ[b, i, j] # Compute gradients for bias\n",
        "                dA_prev_padded[b, i * stride:i * stride + f, j * stride:j * stride + f] += filter * dZ[b, i, j] # Distribute gradient to the corresponding area in dA_prev_padded\n",
        "\n",
        "    # Remove padding from dA_prev if padding was applied\n",
        "    if pad > 0:\n",
        "        dA_prev = dA_prev_padded[pad:-pad, pad:-pad]\n",
        "    else:\n",
        "        dA_prev = dA_prev_padded\n",
        "\n",
        "    return dA_prev, dF, db"
      ]
    },
    {
      "cell_type": "code",
      "execution_count": 23,
      "metadata": {},
      "outputs": [],
      "source": [
        "dA = np.random.randn(*A.shape)\n",
        "dA_prev, dF, db = conv_backward(dA, filter, bias, cache, act, stride, pad)"
      ]
    },
    {
      "cell_type": "code",
      "execution_count": 24,
      "metadata": {
        "colab": {
          "base_uri": "https://localhost:8080/"
        },
        "id": "z4oakjOWFXqw",
        "outputId": "2448aa1f-4aa0-488c-b98b-720c1e522e7a"
      },
      "outputs": [
        {
          "name": "stdout",
          "output_type": "stream",
          "text": [
            "dA[1] (Upstream gradient):\n",
            " [[ 0.42349435  0.07734007]\n",
            " [-0.34385368  0.04359686]]\n",
            "dA_prev[1] (Gradient wrt A_prev):\n",
            " [[ 0.          0.04221375  1.28084725 -1.10061918 -0.69803203]\n",
            " [ 0.          1.14472371  2.82413046  0.50249434 -1.92253974]\n",
            " [ 0.          0.90085595  0.54077985 -0.12289023 -1.2245077 ]]\n",
            "dF (Gradient wrt filter):\n",
            " [[-1.37033461  0.34640552  1.08872162]\n",
            " [ 1.30614291 -1.78087485 -0.28059913]\n",
            " [ 0.8219175   1.8084983  -0.16008673]]\n",
            "db (Gradient wrt bias):\n",
            " 1.8615718689004241\n"
          ]
        }
      ],
      "source": [
        "print(\"dA[1] (Upstream gradient):\\n\", dA[1])\n",
        "print(\"dA_prev[1] (Gradient wrt A_prev):\\n\", dA_prev[1])\n",
        "print(\"dF (Gradient wrt filter):\\n\", dF)\n",
        "print(\"db (Gradient wrt bias):\\n\", db)"
      ]
    },
    {
      "cell_type": "markdown",
      "metadata": {},
      "source": [
        "---\n",
        "### Flattening"
      ]
    },
    {
      "cell_type": "markdown",
      "metadata": {
        "id": "eUWpNuGVSQ-P"
      },
      "source": [
        "**Exercise 6 [1/1]**: \n",
        "1. Implement the `flatten()` method to reshape the output from the convolutional layer into a one-dimensional vector. This step is essential for transitioning from the convolutional structure to the fully connected layers in your CNN."
      ]
    },
    {
      "cell_type": "code",
      "execution_count": 25,
      "metadata": {
        "id": "Q2R2iqi7S8Xl"
      },
      "outputs": [],
      "source": [
        "def flatten(A):\n",
        "\n",
        "    batch_size = A.shape[0] # Number of samples in the batch\n",
        "    m = A.shape[1] # Height\n",
        "    A_flattened = A.reshape(batch_size, -1) # Reshape the 3D input\n",
        "\n",
        "    return A_flattened"
      ]
    },
    {
      "cell_type": "code",
      "execution_count": 26,
      "metadata": {},
      "outputs": [],
      "source": [
        "np.random.seed(1)\n",
        "A = np.random.randn(batch_size, 5, 5)\n",
        "a = flatten(A)"
      ]
    },
    {
      "cell_type": "code",
      "execution_count": 27,
      "metadata": {
        "colab": {
          "base_uri": "https://localhost:8080/"
        },
        "id": "q94stT2ITHxB",
        "outputId": "b75a3c5d-9e71-46a9-b4cb-2a8085b1daa9"
      },
      "outputs": [
        {
          "name": "stdout",
          "output_type": "stream",
          "text": [
            "(10, 25)\n",
            "[ 1.62434536 -0.61175641 -0.52817175 -1.07296862  0.86540763 -2.3015387\n",
            "  1.74481176 -0.7612069   0.3190391  -0.24937038  1.46210794 -2.06014071\n",
            " -0.3224172  -0.38405435  1.13376944 -1.09989127 -0.17242821 -0.87785842\n",
            "  0.04221375  0.58281521 -1.10061918  1.14472371  0.90159072  0.50249434\n",
            "  0.90085595]\n"
          ]
        }
      ],
      "source": [
        "print(a.shape)\n",
        "print(a[0])"
      ]
    },
    {
      "cell_type": "markdown",
      "metadata": {},
      "source": [
        "---\n",
        "### Fully Connected Layer"
      ]
    },
    {
      "cell_type": "markdown",
      "metadata": {
        "id": "Anb8FnYbTS8y"
      },
      "source": [
        "**Exercise 7 [5/5]**: \n",
        "1. Implement the `FCN()` and `FCN_backward()`."
      ]
    },
    {
      "cell_type": "code",
      "execution_count": 28,
      "metadata": {},
      "outputs": [],
      "source": [
        "def FCN(A_prev, W, b, act = ReLU()):\n",
        "\n",
        "    Z =  np.dot(A_prev, W.T) + b.T # Compute the linear transformation\n",
        "    A = act(Z) # Apply activation function\n",
        "    cache = (A_prev, Z) # Store values for backward propagation\n",
        "    \n",
        "    return A, cache"
      ]
    },
    {
      "cell_type": "code",
      "execution_count": 29,
      "metadata": {
        "id": "A3xhYHyRTNrR"
      },
      "outputs": [],
      "source": [
        "def FCN_backward(dA, W, b, cache, act = ReLU()):\n",
        "\n",
        "    A_prev, Z = cache # Retrieve cached values\n",
        "    m = A_prev.shape[0] # Number of examples\n",
        "\n",
        "    # Compute gradient\n",
        "    dZ = act.derivative(Z) * dA\n",
        "    dW = np.dot(dZ.T, A_prev) / m\n",
        "    db = np.sum(dZ, axis = 0, keepdims = True).T / m\n",
        "    dA_prev = np.dot(dZ, W)\n",
        "\n",
        "    return dA_prev, dW, db"
      ]
    },
    {
      "cell_type": "markdown",
      "metadata": {},
      "source": [
        "---\n",
        "### Implementation of a Simple CNN"
      ]
    },
    {
      "cell_type": "markdown",
      "metadata": {
        "id": "uTJUlygIG1by"
      },
      "source": [
        "**Exercise 8 [15/15]**: \n",
        "1. Implement `SimpleCNN()`."
      ]
    },
    {
      "cell_type": "code",
      "execution_count": 30,
      "metadata": {
        "id": "eo0_Y6GSbIBX"
      },
      "outputs": [],
      "source": [
        "class SimpleCNN:\n",
        "\n",
        "    # Initializes the CNN model with input size, output sizes, and activation function\n",
        "    def __init__(self, n_x, n_y, act = ReLU()):\n",
        "\n",
        "        self.n_x = n_x\n",
        "        self.n_y = n_y\n",
        "        self.act = act\n",
        "        self.init_params()\n",
        "\n",
        "    # Initializes the parameters for the layers of the network\n",
        "    def init_params(self):\n",
        "\n",
        "        self.hparams = {} # Hyperparameters dictionary\n",
        "        self.params = {} # Parameters dictionary\n",
        "\n",
        "        f1, p1, s1 = 3, 1, 1  # Filter size, padding, stride for the first convolution layer\n",
        "        f2, p2, s2 = 3, 0, 2  # Filter size, padding, stride for the second convolution layer\n",
        "\n",
        "        # Save hyperparameters\n",
        "        self.hparams['f1'], self.hparams['p1'], self.hparams['s1'] = f1, p1, s1\n",
        "        self.hparams['f2'], self.hparams['p2'], self.hparams['s2'] = f2, p2, s2\n",
        "\n",
        "        # Initialize weights and biases for the first layer\n",
        "        W1 = np.random.randn(f1, f1) / f1\n",
        "        b1 = np.zeros((1,))\n",
        "\n",
        "        # Initialize weights and biases for the second layer\n",
        "        W2 = np.random.randn(f2, f2) / f2\n",
        "        b2 = np.zeros((1,))\n",
        "\n",
        "        # Initialize weights and biases for the fully connected layer\n",
        "        self.n_h = self._calculate_flattened_size() # Calculate the flattened size after convolution\n",
        "        W3 = np.random.randn(self.n_y, self.n_h) / np.sqrt(self.n_h)\n",
        "        b3 = np.zeros((self.n_y, 1))\n",
        "\n",
        "        # Save parameters\n",
        "        self.params['W1'], self.params['b1'] = W1, b1\n",
        "        self.params['W2'], self.params['b2'] = W2, b2\n",
        "        self.params['W3'], self.params['b3'] = W3, b3\n",
        "\n",
        "    # Forward pass through the CNN\n",
        "    def forward(self, X):\n",
        "\n",
        "        # Retrieve hyperparameters and parameters\n",
        "        f1, p1, s1 = self.hparams['f1'], self.hparams['p1'], self.hparams['s1']\n",
        "        f2, p2, s2 = self.hparams['f2'], self.hparams['p2'], self.hparams['s2']\n",
        "        W1, b1 = self.params['W1'], self.params['b1']\n",
        "        W2, b2 = self.params['W2'], self.params['b2']\n",
        "        W3, b3 = self.params['W3'], self.params['b3']\n",
        "\n",
        "        # Store caches for backpropagation\n",
        "        self.caches = {}\n",
        "\n",
        "        # Forward pass through the first convolutional layer\n",
        "        A1, cache1 = conv_forward(X, W1, b1, stride = s1, pad = p1, act = self.act)\n",
        "\n",
        "        # Forward pass through the second convolutional layer\n",
        "        A2, cache2 = conv_forward(A1, W2, b2, stride = s2, pad = p2, act = self.act)\n",
        "\n",
        "        # Flatten the output of the second convolution layer\n",
        "        A2_flattened = A2.flatten().reshape((A2.shape[0], -1))\n",
        "\n",
        "        # Forward pass through the fully connected layer\n",
        "        A3, cache3 = FCN(A2_flattened, W3, b3, self.act)\n",
        "\n",
        "        # Save the caches for later use during backpropagation\n",
        "        self.caches['cache1'] = cache1\n",
        "        self.caches['cache2'] = cache2\n",
        "        self.caches['cache3'] = cache3\n",
        "\n",
        "        return A3\n",
        "\n",
        "    # Backward pass through the CNN\n",
        "    def backward(self, dA3):\n",
        "\n",
        "        # Store gradients for the parameters\n",
        "        self.grads = {}\n",
        "\n",
        "        # Backpropagate through the fully connected layer\n",
        "        W3, b3 = self.params['W3'], self.params['b3']\n",
        "        cache3 = self.caches['cache3']\n",
        "        dA2_flattened, dW3, db3 = FCN_backward(dA3, W3, b3, cache3, self.act)\n",
        "\n",
        "        # Store the gradients for the fully connected layer\n",
        "        self.grads['dW3'] = dW3\n",
        "        self.grads['db3'] = db3\n",
        "\n",
        "        # Backpropagate through the second convolution layer\n",
        "        W2, b2 = self.params['W2'], self.params['b2']\n",
        "        cache2 = self.caches['cache2']\n",
        "        f2, p2, s2 = self.hparams['f2'], self.hparams['p2'], self.hparams['s2']\n",
        "\n",
        "        # Reshape dA2 for backpropagation through convolutional layer\n",
        "        dA2 = dA2_flattened.reshape(cache2[1].shape)\n",
        "        dA2, dW2, db2 = conv_backward(dA2, W2, b2, cache2, self.act, s2, p2)\n",
        "\n",
        "        # Store the gradients for the second convolutional layer\n",
        "        self.grads['dW2'] = dW2\n",
        "        self.grads['db2'] = db2\n",
        "\n",
        "        # Backpropagate through the first convolution layer\n",
        "        W1, b1 = self.params['W1'], self.params['b1']\n",
        "        cache1 = self.caches['cache1']\n",
        "\n",
        "        f1, p1, s1 = self.hparams['f1'], self.hparams['p1'], self.hparams['s1']\n",
        "        dX1, dW1, db1 = conv_backward(dA2, W1, b1, cache1, self.act, s1, p1)\n",
        "\n",
        "        # Store the gradients for the first convolutional layer\n",
        "        self.grads['dW1'] = dW1\n",
        "        self.grads['db1'] = db1\n",
        "\n",
        "    # Return the parameters\n",
        "    def get_params(self):\n",
        "        return self.params\n",
        "\n",
        "    # Return the gradients of the parameters\n",
        "    def get_grads(self):\n",
        "        return self.grads\n",
        "    \n",
        "    # Return the hyperparameters\n",
        "    def get_hparams(self):\n",
        "        return self.hparams\n",
        "    \n",
        "    # Return the caches from forward pass for backpropagation\n",
        "    def get_caches(self):\n",
        "        return self.caches\n",
        "\n",
        "    # Calculate the flattened size after the two convolution layers\n",
        "    def _calculate_flattened_size(self):\n",
        "\n",
        "        # Compute output size for both convolution layers\n",
        "        f1, p1, s1 = self.hparams['f1'], self.hparams['p1'], self.hparams['s1']\n",
        "        f2, p2, s2 = self.hparams['f2'], self.hparams['p2'], self.hparams['s2']\n",
        "        output_size = (self.n_x - f1 + 2 * p1) // s1 + 1\n",
        "        output_size = (output_size - f2 + 2 * p2) // s2 + 1\n",
        "\n",
        "        return output_size ** 2"
      ]
    },
    {
      "cell_type": "code",
      "execution_count": 31,
      "metadata": {},
      "outputs": [],
      "source": [
        "# Define the input size, output size, and batch size\n",
        "n_x = 8\n",
        "n_y = 3\n",
        "batch_size = 10"
      ]
    },
    {
      "cell_type": "code",
      "execution_count": 32,
      "metadata": {},
      "outputs": [],
      "source": [
        "# Generate random input data for the batch\n",
        "np.random.seed(1)\n",
        "X = np.random.randn(batch_size, n_x, n_x)"
      ]
    },
    {
      "cell_type": "code",
      "execution_count": 33,
      "metadata": {},
      "outputs": [],
      "source": [
        "cnn = SimpleCNN(n_x, n_y, act = ReLU())\n",
        "output = cnn.forward(X)"
      ]
    },
    {
      "cell_type": "code",
      "execution_count": 34,
      "metadata": {},
      "outputs": [
        {
          "name": "stdout",
          "output_type": "stream",
          "text": [
            "Output Shape (10, 3)\n",
            "Forward Pass Output: [0.         0.         1.04883126]\n"
          ]
        }
      ],
      "source": [
        "print(\"Output Shape\", output.shape)\n",
        "print(\"Forward Pass Output:\", output[1])"
      ]
    },
    {
      "cell_type": "code",
      "execution_count": 35,
      "metadata": {},
      "outputs": [],
      "source": [
        "dA3 = np.random.randn(batch_size, n_y)\n",
        "cnn.backward(dA3)"
      ]
    },
    {
      "cell_type": "code",
      "execution_count": 36,
      "metadata": {
        "colab": {
          "base_uri": "https://localhost:8080/"
        },
        "id": "109ViN-rZNuR",
        "outputId": "5722a2e8-15f8-41c3-c8ad-f11677099a62"
      },
      "outputs": [
        {
          "name": "stdout",
          "output_type": "stream",
          "text": [
            "Gradients after backward pass:\n",
            "dW3: [[ 0.          0.          0.          0.          0.          0.\n",
            "   0.          0.          0.        ]\n",
            " [ 0.0191127   0.03103019  0.13389767  0.08059534  0.0956052   0.05739537\n",
            "   0.14862555 -0.02159048  0.14028111]\n",
            " [ 0.06213789 -0.15700678 -0.00938486 -0.22491393 -0.57497419 -0.12600851\n",
            "  -0.17237473  0.1036705  -0.19165249]]\n",
            "db3: [[ 0.        ]\n",
            " [ 0.07840473]\n",
            " [-0.20192491]]\n",
            "dW2: [[ 0.06451301  1.60394279  2.71211503]\n",
            " [-2.88799817 -0.39415962 -1.83482646]\n",
            " [ 0.92806237  0.2894827  -2.26416198]]\n",
            "db2: [-1.56235633]\n",
            "dW1: [[ 2.47023871 -1.76019073  2.3784198 ]\n",
            " [-1.3494006  -3.8039922  -2.80329844]\n",
            " [-0.53510231  1.18740885 -3.52608645]]\n",
            "db1: [-0.91026697]\n"
          ]
        }
      ],
      "source": [
        "print(\"Gradients after backward pass:\")\n",
        "for param, grad in cnn.grads.items():\n",
        "    print(f\"{param}: {grad}\")"
      ]
    },
    {
      "cell_type": "markdown",
      "metadata": {},
      "source": [
        "---\n",
        "### Gradient Descent to Train Simple CNN"
      ]
    },
    {
      "cell_type": "code",
      "execution_count": 37,
      "metadata": {},
      "outputs": [],
      "source": [
        "def gradient_descent_step(params, grads, learning_rate):\n",
        "    \n",
        "    for key in params.keys():\n",
        "        gkey = 'd' + key # Construct the key for the corresponding gradient\n",
        "        params[key] -= learning_rate * grads[gkey] # Update the parameters"
      ]
    },
    {
      "cell_type": "code",
      "execution_count": 38,
      "metadata": {
        "id": "oP0Eow2f4t-U"
      },
      "outputs": [],
      "source": [
        "def compute_cost(A, Y):\n",
        "\n",
        "    m = Y.shape[0]\n",
        "    cost = np.sum((A - Y) ** 2) / (2 * m)\n",
        "\n",
        "    return cost"
      ]
    },
    {
      "cell_type": "code",
      "execution_count": 39,
      "metadata": {},
      "outputs": [],
      "source": [
        "# Define input size, output sizes, batch size, and learning rate\n",
        "n_x = 32\n",
        "n_y = 10\n",
        "batch_size = 10\n",
        "learning_rate = 0.01"
      ]
    },
    {
      "cell_type": "code",
      "execution_count": 40,
      "metadata": {},
      "outputs": [],
      "source": [
        "# Generate random input data and true labels for the batch\n",
        "np.random.seed(1)\n",
        "X = np.random.randn(batch_size, n_x, n_x)\n",
        "Y = np.random.randn(batch_size, n_y)"
      ]
    },
    {
      "cell_type": "code",
      "execution_count": 41,
      "metadata": {},
      "outputs": [],
      "source": [
        "cnn = SimpleCNN(n_x, n_y, act = ReLU())"
      ]
    },
    {
      "cell_type": "code",
      "execution_count": 42,
      "metadata": {
        "colab": {
          "base_uri": "https://localhost:8080/",
          "height": 646
        },
        "id": "jcuYkWrc5hlU",
        "outputId": "418f9685-f916-4d1c-efd3-a1cb1e6ed267"
      },
      "outputs": [
        {
          "name": "stdout",
          "output_type": "stream",
          "text": [
            "Iteration 0, Loss: 5.571886534557878\n",
            "Iteration 1, Loss: 5.067013993660102\n",
            "Iteration 2, Loss: 4.905569555844116\n",
            "Iteration 3, Loss: 4.856017519794608\n",
            "Iteration 4, Loss: 4.8228423634731055\n",
            "Iteration 5, Loss: 4.79720442470626\n",
            "Iteration 6, Loss: 4.769054344998867\n"
          ]
        },
        {
          "name": "stdout",
          "output_type": "stream",
          "text": [
            "Iteration 7, Loss: 4.743251274028795\n",
            "Iteration 8, Loss: 4.718716404201282\n",
            "Iteration 9, Loss: 4.69582262678246\n"
          ]
        }
      ],
      "source": [
        "loss = [] # List to store the loss values for each iteration\n",
        "\n",
        "for i in range(10):\n",
        "    output = cnn.forward(X) # Perform forward pass through the CNN\n",
        "    loss.append(compute_cost(output, Y)) # Compute the cost for the current output and true labels\n",
        "    dA3 = (output - Y) / batch_size # Compute the gradient of the cost with respect to the output\n",
        "    cnn.backward(dA3) # Perform backward pass to calculate gradients for all layers\n",
        "    gradient_descent_step(cnn.get_params(), cnn.get_grads(), learning_rate) # Update the parameters using gradient descent\n",
        "    print(f\"Iteration {i}, Loss: {loss[-1]}\")"
      ]
    },
    {
      "cell_type": "code",
      "execution_count": 43,
      "metadata": {},
      "outputs": [
        {
          "data": {
            "image/png": "[encoded data removed]",
            "text/plain": [
              "<Figure size 640x480 with 1 Axes>"
            ]
          },
          "metadata": {},
          "output_type": "display_data"
        }
      ],
      "source": [
        "plt.plot(loss)\n",
        "plt.xlabel('Iteration')\n",
        "plt.ylabel('Loss')\n",
        "plt.title('Loss vs Iteration')\n",
        "plt.show()"
      ]
    },
    {
      "cell_type": "markdown",
      "metadata": {},
      "source": [
        "---\n",
        "### Use Simple CNN for Image Classificaiton on MNIST"
      ]
    },
    {
      "cell_type": "code",
      "execution_count": 44,
      "metadata": {},
      "outputs": [],
      "source": [
        "# Load the MNIST dataset\n",
        "(X_train, y_train), (X_test, y_test) = tf.keras.datasets.mnist.load_data()"
      ]
    },
    {
      "cell_type": "code",
      "execution_count": 45,
      "metadata": {},
      "outputs": [],
      "source": [
        "# Normalize pixel values to be between 0 and 1\n",
        "X_train, X_test = X_train / 255.0, X_test / 255.0"
      ]
    },
    {
      "cell_type": "code",
      "execution_count": 46,
      "metadata": {},
      "outputs": [],
      "source": [
        "# Define the classes to include in the dataset and the number of samples to select per class\n",
        "classes_to_include = [0, 1, 2]\n",
        "num_samples_per_class = 100"
      ]
    },
    {
      "cell_type": "code",
      "execution_count": 47,
      "metadata": {
        "colab": {
          "base_uri": "https://localhost:8080/"
        },
        "id": "XOOWjLIO7FHk",
        "outputId": "3cfdf72d-6adb-44a6-b1dc-e132e6c7bd39"
      },
      "outputs": [],
      "source": [
        "# Filter training and testing datasets based on the selected classes\n",
        "train_filter = np.isin(y_train, classes_to_include)\n",
        "test_filter = np.isin(y_test, classes_to_include)\n",
        "X_train, y_train = X_train[train_filter], y_train[train_filter]\n",
        "X_test, y_test = X_test[test_filter], y_test[test_filter]"
      ]
    },
    {
      "cell_type": "code",
      "execution_count": 48,
      "metadata": {},
      "outputs": [],
      "source": [
        "def select_random_samples(X, y, classes, num_samples):\n",
        "\n",
        "    # Lists to store the selected samples\n",
        "    selected_X, selected_y = [], []\n",
        "\n",
        "    for label in classes:\n",
        "        indices = np.where(y == label)[0] # Find indices where the class matches\n",
        "        selected_indices = np.random.choice(indices, num_samples, replace = False) # Randomly pick samples\n",
        "        selected_X.append(X[selected_indices])\n",
        "        selected_y.append(y[selected_indices])\n",
        "        \n",
        "    return np.concatenate(selected_X), np.concatenate(selected_y)"
      ]
    },
    {
      "cell_type": "code",
      "execution_count": 49,
      "metadata": {},
      "outputs": [],
      "source": [
        "# Apply the function to the training and testing sets\n",
        "X_train, y_train = select_random_samples(X_train, y_train, classes_to_include, num_samples_per_class)\n",
        "X_test, y_test = select_random_samples(X_test, y_test, classes_to_include, num_samples_per_class)"
      ]
    },
    {
      "cell_type": "code",
      "execution_count": 50,
      "metadata": {},
      "outputs": [
        {
          "name": "stdout",
          "output_type": "stream",
          "text": [
            "Training data shape: (300, 28, 28)\n",
            "Training labels shape: (300,)\n",
            "Testing data shape: (300, 28, 28)\n",
            "Testing labels shape: (300,)\n"
          ]
        }
      ],
      "source": [
        "print(\"Training data shape:\", X_train.shape)\n",
        "print(\"Training labels shape:\", y_train.shape)\n",
        "print(\"Testing data shape:\", X_test.shape)\n",
        "print(\"Testing labels shape:\", y_test.shape)"
      ]
    },
    {
      "cell_type": "code",
      "execution_count": 51,
      "metadata": {
        "id": "SEmbtUwHA__F"
      },
      "outputs": [],
      "source": [
        "def one_hot_encode(y, num_classes):\n",
        "    \n",
        "    # Convert labels to one-hot encoded vectors\n",
        "    encoded_vectors = np.eye(num_classes)[y]\n",
        "    \n",
        "    return encoded_vectors"
      ]
    },
    {
      "cell_type": "code",
      "execution_count": 52,
      "metadata": {},
      "outputs": [],
      "source": [
        "# Perform one-hot encoding on the labels\n",
        "np.random.seed(1)\n",
        "n_x = 28\n",
        "n_y = len(classes_to_include)\n",
        "cnn = SimpleCNN(n_x, n_y, act = ReLU())\n",
        "learning_rate = 0.01"
      ]
    },
    {
      "cell_type": "code",
      "execution_count": 53,
      "metadata": {},
      "outputs": [],
      "source": [
        "# One-hot encode the training and testing labels\n",
        "y_train = one_hot_encode(y_train, n_y)\n",
        "y_test = one_hot_encode(y_test, n_y)"
      ]
    },
    {
      "cell_type": "code",
      "execution_count": 54,
      "metadata": {
        "colab": {
          "base_uri": "https://localhost:8080/"
        },
        "id": "K9lUBYdX8arH",
        "outputId": "9f959ec8-faa0-4af2-f67a-e65ed1dacea3"
      },
      "outputs": [
        {
          "name": "stdout",
          "output_type": "stream",
          "text": [
            "Iteration 0, Train Loss: 0.4898658450030681, Test Loss: 0.4909915579443834\n",
            "Iteration 10, Train Loss: 0.4738625805849642, Test Loss: 0.47491559993045923\n",
            "Iteration 20, Train Loss: 0.453399813014194, Test Loss: 0.4548117967628381\n",
            "Iteration 30, Train Loss: 0.4371640991414038, Test Loss: 0.438200649689864\n",
            "Iteration 40, Train Loss: 0.42558115436987864, Test Loss: 0.42574980253887823\n"
          ]
        }
      ],
      "source": [
        "# Lists to store the training and testing loss\n",
        "train_loss = []\n",
        "test_loss = []\n",
        "\n",
        "for i in range(50):\n",
        "    output = cnn.forward(X_test) # Perform forward pass on the test set\n",
        "    test_loss.append(compute_cost(output, y_test)) # Compute the test loss\n",
        "    output = cnn.forward(X_train) # Perform forward pass on the training set\n",
        "    train_loss.append(compute_cost(output, y_train)) # Compute the training loss\n",
        "    dA3 = (output - y_train) / len(X_train) # Compute the gradient of the cost with respect to the output\n",
        "    cnn.backward(dA3) # Perform backward pass to calculate gradients for all layers\n",
        "    gradient_descent_step(cnn.get_params(), cnn.get_grads(), learning_rate) # Update the parameters using gradient descent\n",
        "\n",
        "    # Print loss every 10 iterations\n",
        "    if i % 10 == 0:\n",
        "        print(f\"Iteration {i}, Train Loss: {train_loss[-1]}, Test Loss: {test_loss[-1]}\")"
      ]
    },
    {
      "cell_type": "code",
      "execution_count": 55,
      "metadata": {
        "colab": {
          "base_uri": "https://localhost:8080/",
          "height": 472
        },
        "id": "ozmgKdV69J9W",
        "outputId": "a75f86be-1cf8-4c45-dd18-3594de573686"
      },
      "outputs": [
        {
          "data": {
            "image/png": "[encoded data removed]",
            "text/plain": [
              "<Figure size 640x480 with 1 Axes>"
            ]
          },
          "metadata": {},
          "output_type": "display_data"
        }
      ],
      "source": [
        "plt.plot(train_loss, label = 'Train Loss')\n",
        "plt.plot(test_loss, label = 'Test Loss')\n",
        "plt.xlabel('Iteration')\n",
        "plt.ylabel('Loss')\n",
        "plt.title('Loss vs Iteration')\n",
        "plt.legend()\n",
        "plt.show()"
      ]
    },
    {
      "cell_type": "markdown",
      "metadata": {},
      "source": [
        "---\n",
        "## Semantic Image"
      ]
    },
    {
      "cell_type": "markdown",
      "metadata": {},
      "source": [
        "---\n",
        "### UNet Model"
      ]
    },
    {
      "cell_type": "markdown",
      "metadata": {
        "id": "wqVDSc4kK8M7"
      },
      "source": [
        "**Exercise 9 [5/5]**: \n",
        "1. Implement the `conv_block()` method using `nn.Sequential()`."
      ]
    },
    {
      "cell_type": "code",
      "execution_count": 56,
      "metadata": {
        "id": "dofb3CDmK3u8"
      },
      "outputs": [],
      "source": [
        "def conv_block(in_channels, out_channels):\n",
        "\n",
        "    return nn.Sequential(nn.Conv2d(in_channels, out_channels, kernel_size = 3, padding = 1),\n",
        "                         nn.ReLU(inplace = True),\n",
        "                         nn.Conv2d(out_channels, out_channels, kernel_size = 3, padding = 1),\n",
        "                         nn.ReLU(inplace = True))"
      ]
    },
    {
      "cell_type": "code",
      "execution_count": 57,
      "metadata": {},
      "outputs": [],
      "source": [
        "# Check if a GPU is available and set the device accordingly\n",
        "device = \"cuda\" if torch.cuda.is_available() else \"cpu\""
      ]
    },
    {
      "cell_type": "code",
      "execution_count": 58,
      "metadata": {},
      "outputs": [],
      "source": [
        "# Define input and output channels for the convolutional block\n",
        "in_channels = 3\n",
        "out_channels = 64"
      ]
    },
    {
      "cell_type": "code",
      "execution_count": 59,
      "metadata": {},
      "outputs": [],
      "source": [
        "torch.manual_seed(1)\n",
        "input_tensor = torch.randn(1, in_channels, 256, 256) # Create a random input tensor\n",
        "conv_block_instance = conv_block(in_channels, out_channels) # Instantiate the convolutional block and move it to the appropriate device\n",
        "output_tensor = conv_block_instance(input_tensor) # Pass the input tensor through the convolutional block"
      ]
    },
    {
      "cell_type": "code",
      "execution_count": 60,
      "metadata": {
        "colab": {
          "base_uri": "https://localhost:8080/"
        },
        "id": "GWc8BP4QLFN8",
        "outputId": "55cfafa5-e8fa-4795-e4f1-b358b2694c2c"
      },
      "outputs": [
        {
          "name": "stdout",
          "output_type": "stream",
          "text": [
            "Using device: cpu\n",
            "Output shape: torch.Size([1, 64, 256, 256])\n",
            "otuput: tensor([[[0.0000, 0.1997, 0.0000,  ..., 0.2494, 0.4599, 0.2160],\n",
            "         [0.0000, 0.2631, 0.0000,  ..., 0.0996, 0.0000, 0.1223],\n",
            "         [0.0006, 0.2564, 0.3777,  ..., 0.3040, 0.2214, 0.0000],\n",
            "         ...,\n",
            "         [0.1491, 0.0268, 0.0120,  ..., 0.0000, 0.1029, 0.0000],\n",
            "         [0.1466, 0.0000, 0.2036,  ..., 0.0000, 0.0421, 0.2388],\n",
            "         [0.0000, 0.0000, 0.0000,  ..., 0.0000, 0.0000, 0.0000]]],\n",
            "       grad_fn=<SliceBackward0>)\n"
          ]
        }
      ],
      "source": [
        "print(f\"Using device: {device}\")\n",
        "print(\"Output shape:\", output_tensor.shape)\n",
        "print(f\"otuput: {output_tensor[:, 0, :, :]}\")"
      ]
    },
    {
      "cell_type": "markdown",
      "metadata": {
        "id": "TcCbupPGK8RZ"
      },
      "source": [
        "**Exercise 10 [35/35]**: \n",
        "1. Implement the class `UNet`."
      ]
    },
    {
      "cell_type": "code",
      "execution_count": 61,
      "metadata": {
        "id": "43h2FGchLJ2Q"
      },
      "outputs": [],
      "source": [
        "class UNet(nn.Module):\n",
        "\n",
        "    # Initialize the U-Net model with input channels, output channels, and feature sizes for each layer\n",
        "    def __init__(self, in_channels = 3, out_channels = 1, features = [64, 128, 256, 512]):\n",
        "\n",
        "        # Initialize the parent class\n",
        "        super(UNet, self).__init__()\n",
        "\n",
        "        # Encoder section\n",
        "        self.encoder = nn.ModuleList()\n",
        "        self.pool = nn.MaxPool2d(kernel_size = 2, stride = 2) # Max pooling layer for downsampling\n",
        "\n",
        "        # Create encoder layers\n",
        "        for feature in features:\n",
        "            self.encoder.append(self._conv_block(in_channels, feature))\n",
        "            in_channels = feature # Update in_channels for the next layer\n",
        "\n",
        "        # Bottleneck section\n",
        "        self.bottleneck = self._conv_block(features[-1], features[-1] * 2)\n",
        "\n",
        "        # Decoder section\n",
        "        self.decoder = nn.ModuleList()\n",
        "        self.upconvs = nn.ModuleList()\n",
        "\n",
        "        # Create decoder layers and upconv layers\n",
        "        for feature in reversed(features):\n",
        "            self.upconvs.append(nn.ConvTranspose2d(feature * 2, feature, kernel_size = 2, stride = 2))\n",
        "            self.decoder.append(self._conv_block(feature * 2, feature))\n",
        "\n",
        "        # Final convolution layer to reduce the number of output channels to the desired output size\n",
        "        self.final_conv = nn.Conv2d(features[0], out_channels, kernel_size = 1)\n",
        "\n",
        "    # Forward pass through the network\n",
        "    def forward(self, x):\n",
        "\n",
        "        # List to store activations from the encoder for skip connections\n",
        "        encodings = []\n",
        "        \n",
        "        # Encoder forward pass with max pooling\n",
        "        for layer in self.encoder:\n",
        "            x = layer(x)\n",
        "            encodings.append(x)  # Save the output for skip connection\n",
        "            x = self.pool(x)  # Downsample using max pooling\n",
        "\n",
        "        # Bottleneck\n",
        "        x = self.bottleneck(x)\n",
        "\n",
        "        # Reverse the encoder list to use in the decoder\n",
        "        encodings = encodings[::-1]\n",
        "\n",
        "        # Decoder with upsampling and skip connections\n",
        "        for encoding, norm_conv, upconv in zip(encodings, self.decoder, self.upconvs):\n",
        "\n",
        "            # Upsample using transposed convolution\n",
        "            x = upconv(x)\n",
        "\n",
        "            # If the shapes do not match, crop the encoder output to match the current feature map\n",
        "            if x.shape != encoding.shape:\n",
        "                encoding = self.center_crop(encoding, x.shape[2], x.shape[3])\n",
        "\n",
        "            # Concatenate the upsampled feature map with the encoder feature map\n",
        "            x = torch.cat((x, encoding), dim = 1)\n",
        "            x = norm_conv(x)\n",
        "\n",
        "            # Final convolution to reduce the number of output channels to the desired output channels\n",
        "            x = self.final_conv(x)\n",
        "            \n",
        "        return x\n",
        "\n",
        "    # Define a helper function to create a convolutional block\n",
        "    def _conv_block(self, in_channels, out_channels):\n",
        "        return conv_block(in_channels, out_channels)\n",
        "\n",
        "    # Define a helper function to center crop the encoder feature map to match the target size\n",
        "    def center_crop(self, encoding, target_height, target_width):\n",
        "\n",
        "        # Get the dimensions of the encoding\n",
        "        _, _, h, w = encoding.size()\n",
        "\n",
        "        # Calculate the amount to crop from the top and left to match target height and width\n",
        "        diff_y = (h - target_height) // 2\n",
        "        diff_x = (w - target_width) // 2\n",
        "\n",
        "        return encoding[:, :, diff_y:(diff_y + target_height), diff_x:(diff_x + target_width)]"
      ]
    },
    {
      "cell_type": "code",
      "execution_count": 62,
      "metadata": {},
      "outputs": [],
      "source": [
        "# Check if GPU is available, else use CPU\n",
        "device = \"cuda\" if torch.cuda.is_available() else \"cpu\""
      ]
    },
    {
      "cell_type": "code",
      "execution_count": 63,
      "metadata": {},
      "outputs": [],
      "source": [
        "torch.manual_seed(1)\n",
        "model = UNet(in_channels = 3, out_channels = 1).to(device)"
      ]
    },
    {
      "cell_type": "code",
      "execution_count": 64,
      "metadata": {
        "colab": {
          "base_uri": "https://localhost:8080/"
        },
        "id": "cF75MTjoLL6E",
        "outputId": "d91ca0e2-4bbc-4af7-e315-6c14683300f1"
      },
      "outputs": [
        {
          "name": "stdout",
          "output_type": "stream",
          "text": [
            "Using device: cpu\n",
            "UNet(\n",
            "  (encoder): ModuleList(\n",
            "    (0): Sequential(\n",
            "      (0): Conv2d(3, 64, kernel_size=(3, 3), stride=(1, 1), padding=(1, 1))\n",
            "      (1): ReLU(inplace=True)\n",
            "      (2): Conv2d(64, 64, kernel_size=(3, 3), stride=(1, 1), padding=(1, 1))\n",
            "      (3): ReLU(inplace=True)\n",
            "    )\n",
            "    (1): Sequential(\n",
            "      (0): Conv2d(64, 128, kernel_size=(3, 3), stride=(1, 1), padding=(1, 1))\n",
            "      (1): ReLU(inplace=True)\n",
            "      (2): Conv2d(128, 128, kernel_size=(3, 3), stride=(1, 1), padding=(1, 1))\n",
            "      (3): ReLU(inplace=True)\n",
            "    )\n",
            "    (2): Sequential(\n",
            "      (0): Conv2d(128, 256, kernel_size=(3, 3), stride=(1, 1), padding=(1, 1))\n",
            "      (1): ReLU(inplace=True)\n",
            "      (2): Conv2d(256, 256, kernel_size=(3, 3), stride=(1, 1), padding=(1, 1))\n",
            "      (3): ReLU(inplace=True)\n",
            "    )\n",
            "    (3): Sequential(\n",
            "      (0): Conv2d(256, 512, kernel_size=(3, 3), stride=(1, 1), padding=(1, 1))\n",
            "      (1): ReLU(inplace=True)\n",
            "      (2): Conv2d(512, 512, kernel_size=(3, 3), stride=(1, 1), padding=(1, 1))\n",
            "      (3): ReLU(inplace=True)\n",
            "    )\n",
            "  )\n",
            "  (pool): MaxPool2d(kernel_size=2, stride=2, padding=0, dilation=1, ceil_mode=False)\n",
            "  (bottleneck): Sequential(\n",
            "    (0): Conv2d(512, 1024, kernel_size=(3, 3), stride=(1, 1), padding=(1, 1))\n",
            "    (1): ReLU(inplace=True)\n",
            "    (2): Conv2d(1024, 1024, kernel_size=(3, 3), stride=(1, 1), padding=(1, 1))\n",
            "    (3): ReLU(inplace=True)\n",
            "  )\n",
            "  (decoder): ModuleList(\n",
            "    (0): Sequential(\n",
            "      (0): Conv2d(1024, 512, kernel_size=(3, 3), stride=(1, 1), padding=(1, 1))\n",
            "      (1): ReLU(inplace=True)\n",
            "      (2): Conv2d(512, 512, kernel_size=(3, 3), stride=(1, 1), padding=(1, 1))\n",
            "      (3): ReLU(inplace=True)\n",
            "    )\n",
            "    (1): Sequential(\n",
            "      (0): Conv2d(512, 256, kernel_size=(3, 3), stride=(1, 1), padding=(1, 1))\n",
            "      (1): ReLU(inplace=True)\n",
            "      (2): Conv2d(256, 256, kernel_size=(3, 3), stride=(1, 1), padding=(1, 1))\n",
            "      (3): ReLU(inplace=True)\n",
            "    )\n",
            "    (2): Sequential(\n",
            "      (0): Conv2d(256, 128, kernel_size=(3, 3), stride=(1, 1), padding=(1, 1))\n",
            "      (1): ReLU(inplace=True)\n",
            "      (2): Conv2d(128, 128, kernel_size=(3, 3), stride=(1, 1), padding=(1, 1))\n",
            "      (3): ReLU(inplace=True)\n",
            "    )\n",
            "    (3): Sequential(\n",
            "      (0): Conv2d(128, 64, kernel_size=(3, 3), stride=(1, 1), padding=(1, 1))\n",
            "      (1): ReLU(inplace=True)\n",
            "      (2): Conv2d(64, 64, kernel_size=(3, 3), stride=(1, 1), padding=(1, 1))\n",
            "      (3): ReLU(inplace=True)\n",
            "    )\n",
            "  )\n",
            "  (upconvs): ModuleList(\n",
            "    (0): ConvTranspose2d(1024, 512, kernel_size=(2, 2), stride=(2, 2))\n",
            "    (1): ConvTranspose2d(512, 256, kernel_size=(2, 2), stride=(2, 2))\n",
            "    (2): ConvTranspose2d(256, 128, kernel_size=(2, 2), stride=(2, 2))\n",
            "    (3): ConvTranspose2d(128, 64, kernel_size=(2, 2), stride=(2, 2))\n",
            "  )\n",
            "  (final_conv): Conv2d(64, 1, kernel_size=(1, 1), stride=(1, 1))\n",
            ")\n"
          ]
        }
      ],
      "source": [
        "print(f\"Using device: {device}\")\n",
        "print(model)"
      ]
    },
    {
      "cell_type": "markdown",
      "metadata": {},
      "source": [
        "---\n",
        "### Load Dataset"
      ]
    },
    {
      "cell_type": "code",
      "execution_count": 65,
      "metadata": {},
      "outputs": [],
      "source": [
        "class ToIntMask:\n",
        "\n",
        "    # Allows instances of the class to be used as a function\n",
        "    def __call__(self, mask):\n",
        "\n",
        "        mask = F.pil_to_tensor(mask).long() # Convert the PIL mask image to a tensor and cast it to long type\n",
        "        squeeze = mask.squeeze(0) - 1 # Squeeze the tensor and subtract 1 to make sure labels start from 0\n",
        "        \n",
        "        return squeeze"
      ]
    },
    {
      "cell_type": "code",
      "execution_count": 66,
      "metadata": {},
      "outputs": [],
      "source": [
        "# Define transformations for images and masks\n",
        "image_transform = transforms.Compose([transforms.Resize((128, 128)), transforms.ToTensor()])"
      ]
    },
    {
      "cell_type": "code",
      "execution_count": 67,
      "metadata": {},
      "outputs": [],
      "source": [
        "# For masks, resize and apply the custom ToIntMask transformation\n",
        "mask_transform = transforms.Compose([transforms.Resize((128, 128)), ToIntMask()])"
      ]
    },
    {
      "cell_type": "code",
      "execution_count": 68,
      "metadata": {},
      "outputs": [],
      "source": [
        "# Load the OxfordIIITPet dataset for training and testing with segmentation task\n",
        "train_dataset = OxfordIIITPet(root = './data',\n",
        "                              split = 'trainval',\n",
        "                              target_types = 'segmentation',\n",
        "                              transform = image_transform,\n",
        "                              target_transform = mask_transform,\n",
        "                              download = True)\n",
        "test_dataset = OxfordIIITPet(root = './data',\n",
        "                             split = 'test',\n",
        "                             target_types = 'segmentation',\n",
        "                             transform = image_transform,\n",
        "                             target_transform = mask_transform,\n",
        "                             download = True)"
      ]
    },
    {
      "cell_type": "code",
      "execution_count": 69,
      "metadata": {},
      "outputs": [],
      "source": [
        "# Define DataLoader to load the dataset in batches\n",
        "train_loader = DataLoader(train_dataset, batch_size = 128, shuffle = True)\n",
        "test_loader = DataLoader(test_dataset, batch_size = 128, shuffle = False)"
      ]
    },
    {
      "cell_type": "code",
      "execution_count": 70,
      "metadata": {
        "colab": {
          "base_uri": "https://localhost:8080/"
        },
        "id": "FP-RAP3hLQPC",
        "outputId": "78254d79-4705-4e6e-ec0d-061f03d3b995"
      },
      "outputs": [],
      "source": [
        "# Load a single batch of images and masks for both training and testing\n",
        "train_images, train_masks = next(iter(train_loader))\n",
        "test_images, test_masks = next(iter(test_loader))"
      ]
    },
    {
      "cell_type": "code",
      "execution_count": 71,
      "metadata": {},
      "outputs": [
        {
          "name": "stdout",
          "output_type": "stream",
          "text": [
            "Train images shape: torch.Size([128, 3, 128, 128]), Train masks shape: torch.Size([128, 128, 128])\n",
            "Test images shape: torch.Size([128, 3, 128, 128]), Test masks shape: torch.Size([128, 128, 128])\n"
          ]
        }
      ],
      "source": [
        "print(f\"Train images shape: {train_images.shape}, Train masks shape: {train_masks.shape}\")\n",
        "print(f\"Test images shape: {test_images.shape}, Test masks shape: {test_masks.shape}\")"
      ]
    },
    {
      "cell_type": "code",
      "execution_count": 72,
      "metadata": {},
      "outputs": [],
      "source": [
        "# Select an image from the training batch for visualization\n",
        "torch.manual_seed(1)\n",
        "idx = 0\n",
        "image_pil = F.to_pil_image(train_images[idx])"
      ]
    },
    {
      "cell_type": "code",
      "execution_count": 73,
      "metadata": {
        "colab": {
          "base_uri": "https://localhost:8080/",
          "height": 411
        },
        "id": "07F2J-oyLSa9",
        "outputId": "8e01a7ba-dec5-47b4-99c5-16bc9a8a9470"
      },
      "outputs": [
        {
          "data": {
            "image/png": "[encoded data removed]",
            "text/plain": [
              "<Figure size 1000x500 with 2 Axes>"
            ]
          },
          "metadata": {},
          "output_type": "display_data"
        }
      ],
      "source": [
        "plt.figure(figsize = (10, 5))\n",
        "plt.subplot(1, 2, 1)\n",
        "plt.imshow(image_pil)\n",
        "plt.title(\"Original Image\")\n",
        "plt.axis('off')\n",
        "plt.subplot(1, 2, 2)\n",
        "plt.imshow(train_masks[idx].squeeze(), cmap = \"gray\")\n",
        "plt.title(\"Segmentation Mask\")\n",
        "plt.axis('off')\n",
        "plt.show()"
      ]
    },
    {
      "cell_type": "markdown",
      "metadata": {
        "id": "P-JZ2dX9LVwZ"
      },
      "source": [
        "---\n",
        "### Train and Predict"
      ]
    },
    {
      "cell_type": "code",
      "execution_count": 74,
      "metadata": {
        "id": "we_sF1jEZlS5"
      },
      "outputs": [],
      "source": [
        "def train(model, optimizer, criterion, train_loader, device, num_epochs = 10, scheduler = None):\n",
        "\n",
        "    # List to store the loss at each epoch\n",
        "    losses = []\n",
        "\n",
        "    # Iterate over the number of epochs\n",
        "    for epoch in range(num_epochs):\n",
        "        model.train()\n",
        "        running_loss = 0.0\n",
        "\n",
        "        # Iterate through the training data in batches\n",
        "        for data, targets in train_loader:\n",
        "            data = data.to(device)\n",
        "            targets = targets.to(device)\n",
        "            optimizer.zero_grad()\n",
        "            outputs = model(data)\n",
        "            loss = criterion(outputs, targets)\n",
        "            loss.backward()\n",
        "            optimizer.step()\n",
        "            running_loss += loss.item()\n",
        "\n",
        "        # Calculate the average loss for the epoch\n",
        "        epoch_loss = running_loss / len(train_loader)\n",
        "        losses.append(epoch_loss)\n",
        "        print(f\"Epoch [{epoch+1} / {num_epochs}], Loss: {epoch_loss}\")\n",
        "\n",
        "        # Update the learning rate scheduler if provided\n",
        "        if scheduler is not None:\n",
        "            scheduler.step()\n",
        "\n",
        "    return losses"
      ]
    },
    {
      "cell_type": "code",
      "execution_count": 75,
      "metadata": {},
      "outputs": [],
      "source": [
        "# Check if GPU is available, else use CPU\n",
        "device = \"cuda\" if torch.cuda.is_available() else \"cpu\""
      ]
    },
    {
      "cell_type": "code",
      "execution_count": 76,
      "metadata": {},
      "outputs": [],
      "source": [
        "# Initialize model, criterion, and optimizer\n",
        "torch.manual_seed(1)\n",
        "model = UNet(in_channels = 3, out_channels = 3).to(device)\n",
        "criterion = nn.CrossEntropyLoss()\n",
        "optimizer = optim.Adam(model.parameters(), lr = 1e-3)"
      ]
    },
    {
      "cell_type": "code",
      "execution_count": null,
      "metadata": {
        "colab": {
          "base_uri": "https://localhost:8080/"
        },
        "id": "K_wGLsJ8LXiz",
        "outputId": "4677dfca-1f05-41be-9937-e1f3c82681a9"
      },
      "outputs": [],
      "source": [
        "print(f\"Using device: {device}\")\n",
        "print(\"Training...\")\n",
        "train_losses = train(model, optimizer, criterion, train_loader, device, num_epochs = 10)"
      ]
    },
    {
      "cell_type": "code",
      "execution_count": null,
      "metadata": {
        "id": "wvQreANwLVA0"
      },
      "outputs": [],
      "source": [
        "def plot_predictions_grid(images, masks, predicted_masks, num_samples = 9):\n",
        "\n",
        "    # Create a subplot grid to show multiple images, masks, and predictions\n",
        "    fig, axes = plt.subplots(num_samples, 3, figsize = (9, 3 * num_samples))\n",
        "\n",
        "    # Loop through the samples to plot the images, ground truth masks, and predicted masks\n",
        "    for idx in range(num_samples):\n",
        "\n",
        "        # Convert image tensor, ground truth mask tensor, and predicted mask to numpy\n",
        "        image = images[idx].cpu().permute(1, 2, 0).numpy()\n",
        "        mask = masks[idx].cpu().numpy().squeeze()\n",
        "        predicted = predicted_masks[idx].cpu().numpy().squeeze()\n",
        "\n",
        "        # Plot the original image\n",
        "        axes[idx, 0].imshow(image)\n",
        "        axes[idx, 0].axis('off')\n",
        "        axes[idx, 0].set_title(\"Original Image\")\n",
        "\n",
        "        # Plot the ground truth mask\n",
        "        axes[idx, 1].imshow(mask, cmap = 'gray')\n",
        "        axes[idx, 1].axis('off')\n",
        "        axes[idx, 1].set_title(\"Ground Truth Mask\")\n",
        "\n",
        "        # Plot the predicted mask\n",
        "        axes[idx, 2].imshow(predicted, cmap = 'gray')\n",
        "        axes[idx, 2].axis('off')\n",
        "        axes[idx, 2].set_title(\"Predicted Mask\")\n",
        "\n",
        "    plt.tight_layout()\n",
        "    plt.show()"
      ]
    },
    {
      "cell_type": "code",
      "execution_count": null,
      "metadata": {},
      "outputs": [],
      "source": [
        "# Evaluate the model on a batch of images from the training set\n",
        "model.eval()\n",
        "images, masks = next(iter(train_loader))\n",
        "images = images.to(device)"
      ]
    },
    {
      "cell_type": "code",
      "execution_count": null,
      "metadata": {},
      "outputs": [],
      "source": [
        "# Disable gradient calculation for inference\n",
        "with torch.no_grad():\n",
        "    predictions = model(images)"
      ]
    },
    {
      "cell_type": "code",
      "execution_count": null,
      "metadata": {},
      "outputs": [],
      "source": [
        "# Get the predicted masks by selecting the class with the highest probability\n",
        "predicted_masks = torch.argmax(predictions, dim = 1)"
      ]
    },
    {
      "cell_type": "code",
      "execution_count": null,
      "metadata": {
        "colab": {
          "base_uri": "https://localhost:8080/",
          "height": 1000
        },
        "id": "8Yp9byxyLb0w",
        "outputId": "6b3197ce-d520-40b3-d11e-6c1755aff40f"
      },
      "outputs": [],
      "source": [
        "plot_predictions_grid(images, masks, predicted_masks)"
      ]
    },
    {
      "cell_type": "code",
      "execution_count": null,
      "metadata": {},
      "outputs": [],
      "source": [
        "# Evaluate the model on a batch of images from the test  set\n",
        "model.eval()\n",
        "images, masks = next(iter(test_loader))\n",
        "images = images.to(device)"
      ]
    },
    {
      "cell_type": "code",
      "execution_count": null,
      "metadata": {},
      "outputs": [],
      "source": [
        "# Disable gradient calculation for inference\n",
        "with torch.no_grad():\n",
        "    predictions = model(images)"
      ]
    },
    {
      "cell_type": "code",
      "execution_count": null,
      "metadata": {},
      "outputs": [],
      "source": [
        "# Get the predicted masks by selecting the class with the highest probability\n",
        "predicted_masks = torch.argmax(predictions, dim = 1)"
      ]
    },
    {
      "cell_type": "code",
      "execution_count": null,
      "metadata": {
        "colab": {
          "base_uri": "https://localhost:8080/",
          "height": 1000
        },
        "id": "Hf0iqB5OLeg2",
        "outputId": "3941f3a5-e039-4a73-f399-f602583c5f2e"
      },
      "outputs": [],
      "source": [
        "plot_predictions_grid(images, masks, predicted_masks)"
      ]
    },
    {
      "cell_type": "markdown",
      "metadata": {
        "id": "KhRSp3-tK8Uk"
      },
      "source": [
        "---\n",
        "### Save and Load Model"
      ]
    },
    {
      "cell_type": "code",
      "execution_count": null,
      "metadata": {},
      "outputs": [],
      "source": [
        "# Define the path\n",
        "checkpoint_path_100 = r'C:\\Users\\wodnj\\OneDrive\\바탕 화면\\DePaul Univ\\24&25-02 Winter\\Neural Networks and Deep Learning\\CSC 578 - Week 5\\checkpoint_epoch_100.pth'"
      ]
    },
    {
      "cell_type": "code",
      "execution_count": null,
      "metadata": {},
      "outputs": [],
      "source": [
        "# Check if the checkpoint file exists, if not, create it\n",
        "if not os.path.exists(checkpoint_path_100):\n",
        "    print(f\"Checkpoint not found. Saving model at '{checkpoint_path_100}'\")\n",
        "    \n",
        "    # Save the model and optimizer state at epoch 100\n",
        "    torch.save({'epoch': 100,\n",
        "                'model_state_dict': model.state_dict(),\n",
        "                'optimizer_state_dict': optimizer.state_dict(),\n",
        "                'loss': train_losses,},\n",
        "                checkpoint_path_100)\n",
        "    print(f\"Model saved to {checkpoint_path_100}\")\n",
        "\n",
        "else:\n",
        "    print(f\"Model already exists at {checkpoint_path_100}. No new model saved.\")"
      ]
    },
    {
      "cell_type": "code",
      "execution_count": null,
      "metadata": {},
      "outputs": [],
      "source": [
        "# Loading a saved checkpoint\n",
        "checkpoint = torch.load(checkpoint_path_100)"
      ]
    },
    {
      "cell_type": "code",
      "execution_count": null,
      "metadata": {},
      "outputs": [],
      "source": [
        "# Load the model and optimizer states from the checkpoint\n",
        "model.load_state_dict(checkpoint['model_state_dict'])\n",
        "optimizer.load_state_dict(checkpoint['optimizer_state_dict'])"
      ]
    },
    {
      "cell_type": "code",
      "execution_count": null,
      "metadata": {},
      "outputs": [],
      "source": [
        "# Set the model back to training mode\n",
        "model.train()"
      ]
    },
    {
      "cell_type": "code",
      "execution_count": null,
      "metadata": {
        "colab": {
          "base_uri": "https://localhost:8080/"
        },
        "id": "ZqxAbRNrLlDW",
        "outputId": "827ac0dd-65bc-437d-fc35-dcc790a0e38d"
      },
      "outputs": [],
      "source": [
        "# Set the starting epoch from the checkpoint\n",
        "start_epoch = checkpoint['epoch']"
      ]
    },
    {
      "cell_type": "code",
      "execution_count": null,
      "metadata": {
        "id": "fJRmYLaUc6z6"
      },
      "outputs": [],
      "source": []
    }
  ],
  "metadata": {
    "accelerator": "GPU",
    "colab": {
      "gpuType": "T4",
      "provenance": [],
      "toc_visible": true
    },
    "kernelspec": {
      "display_name": "Python 3",
      "name": "python3"
    },
    "language_info": {
      "codemirror_mode": {
        "name": "ipython",
        "version": 3
      },
      "file_extension": ".py",
      "mimetype": "text/x-python",
      "name": "python",
      "nbconvert_exporter": "python",
      "pygments_lexer": "ipython3",
      "version": "3.9.11"
    }
  },
  "nbformat": 4,
  "nbformat_minor": 0
}
