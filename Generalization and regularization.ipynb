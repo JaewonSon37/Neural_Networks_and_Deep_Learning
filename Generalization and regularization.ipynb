{
  "cells": [
    {
      "cell_type": "markdown",
      "metadata": {
        "id": "EW4y2n5GwR9X"
      },
      "source": [
        "# Homework 4: Generalization and Regularization\n",
        "---"
      ]
    },
    {
      "cell_type": "code",
      "execution_count": 1,
      "metadata": {},
      "outputs": [
        {
          "name": "stderr",
          "output_type": "stream",
          "text": [
            "c:\\Users\\wodnj\\AppData\\Local\\Programs\\Python\\Python39\\lib\\site-packages\\torch\\utils\\_pytree.py:185: FutureWarning: optree is installed but the version is too old to support PyTorch Dynamo in C++ pytree. C++ pytree support is disabled. Please consider upgrading optree using `python3 -m pip install --upgrade 'optree>=0.13.0'`.\n",
            "  warnings.warn(\n"
          ]
        }
      ],
      "source": [
        "import torch\n",
        "import torch.nn as nn\n",
        "import torchvision\n",
        "import matplotlib.pyplot as plt\n",
        "import random\n",
        "\n",
        "from torch.utils.data import DataLoader, TensorDataset\n",
        "from torch.nn.functional import one_hot\n",
        "from torch.utils.data import random_split"
      ]
    },
    {
      "cell_type": "code",
      "execution_count": 2,
      "metadata": {},
      "outputs": [],
      "source": [
        "torch.manual_seed(0)\n",
        "random.seed(4)"
      ]
    },
    {
      "cell_type": "markdown",
      "metadata": {},
      "source": [
        "---\n",
        "## Introduction to PyTorch and Autograd"
      ]
    },
    {
      "cell_type": "code",
      "execution_count": 3,
      "metadata": {
        "colab": {
          "base_uri": "https://localhost:8080/"
        },
        "id": "BTMmGILL1acx",
        "outputId": "1efb2f34-b34c-4b1d-9e6f-54be46ebfd77"
      },
      "outputs": [],
      "source": [
        "x = torch.tensor(1.0, requires_grad = True)\n",
        "y = torch.tensor(2.0, requires_grad = True)\n",
        "z = x ** 2 + 2 * y ** 2"
      ]
    },
    {
      "cell_type": "code",
      "execution_count": 4,
      "metadata": {},
      "outputs": [
        {
          "name": "stdout",
          "output_type": "stream",
          "text": [
            "x.requires_grad: True\n",
            "y.requires_grad: True\n",
            "z.requires_grad: True\n"
          ]
        }
      ],
      "source": [
        "print(f\"x.requires_grad: {x.requires_grad}\")\n",
        "print(f\"y.requires_grad: {y.requires_grad}\")\n",
        "print(f\"z.requires_grad: {z.requires_grad}\")"
      ]
    },
    {
      "cell_type": "code",
      "execution_count": 5,
      "metadata": {},
      "outputs": [],
      "source": [
        "z.backward()"
      ]
    },
    {
      "cell_type": "code",
      "execution_count": 6,
      "metadata": {
        "colab": {
          "base_uri": "https://localhost:8080/"
        },
        "id": "gMkDLHzO2p_I",
        "outputId": "0e49937d-e75f-4def-a524-af9efa3a513b"
      },
      "outputs": [
        {
          "name": "stdout",
          "output_type": "stream",
          "text": [
            "Gradient of x: 2.0\n",
            "Gradient of y: 8.0\n"
          ]
        }
      ],
      "source": [
        "print(f\"Gradient of x: {x.grad}\")\n",
        "print(f\"Gradient of y: {y.grad}\")"
      ]
    },
    {
      "cell_type": "code",
      "execution_count": 7,
      "metadata": {},
      "outputs": [],
      "source": [
        "x = torch.tensor(1.0, requires_grad = True)\n",
        "y = torch.tensor(2.0, requires_grad = True)\n",
        "z = x ** 2 + 2 * y ** 2\n",
        "a = torch.sin(z)"
      ]
    },
    {
      "cell_type": "code",
      "execution_count": 8,
      "metadata": {
        "colab": {
          "base_uri": "https://localhost:8080/"
        },
        "id": "fX3ZDzck29NH",
        "outputId": "06c3e432-d5ca-4282-df25-1f011a45b2d2"
      },
      "outputs": [
        {
          "name": "stdout",
          "output_type": "stream",
          "text": [
            "a.requires_grad: True\n",
            "<SinBackward0 object at 0x00000228A2169A00>\n",
            "((<AddBackward0 object at 0x00000228A2877820>, 0),)\n",
            "<AddBackward0 object at 0x00000228A2169A00>\n",
            "None\n"
          ]
        }
      ],
      "source": [
        "print(f\"a.requires_grad: {a.requires_grad}\")\n",
        "print(a.grad_fn)\n",
        "print(a.grad_fn.next_functions)\n",
        "print(z.grad_fn)\n",
        "print(x.grad_fn)"
      ]
    },
    {
      "cell_type": "code",
      "execution_count": 9,
      "metadata": {},
      "outputs": [],
      "source": [
        "x = torch.tensor(1.0, requires_grad = True)\n",
        "y = torch.tensor(2.0, requires_grad = True)\n",
        "z = x ** 2 + 2 * y ** 2\n",
        "x_detached = x.detach()\n",
        "z.backward()"
      ]
    },
    {
      "cell_type": "code",
      "execution_count": 10,
      "metadata": {
        "colab": {
          "base_uri": "https://localhost:8080/"
        },
        "id": "2FRIC1yO4MBi",
        "outputId": "b7351d4f-c301-4f72-9968-e8a1b4f278f1"
      },
      "outputs": [
        {
          "name": "stdout",
          "output_type": "stream",
          "text": [
            "x.requires_grad: True\n",
            "x_detached.requires_grad: False\n",
            "x.grad: 2.0\n",
            "x_detached.grad: None\n"
          ]
        }
      ],
      "source": [
        "print(f\"x.requires_grad: {x.requires_grad}\")\n",
        "print(f\"x_detached.requires_grad: {x_detached.requires_grad}\")\n",
        "print(f\"x.grad: {x.grad}\")\n",
        "print(f\"x_detached.grad: {x_detached.grad}\")"
      ]
    },
    {
      "cell_type": "code",
      "execution_count": 11,
      "metadata": {},
      "outputs": [],
      "source": [
        "x = torch.tensor(1.0, requires_grad = True)\n",
        "y = torch.tensor(2.0, requires_grad = True)\n",
        "z = x ** 2 + 2 * y ** 2\n",
        "x_clone = x.clone()\n",
        "x_clone = torch.tensor(5.0)"
      ]
    },
    {
      "cell_type": "code",
      "execution_count": 12,
      "metadata": {
        "colab": {
          "base_uri": "https://localhost:8080/"
        },
        "id": "6hko_VGB5nUN",
        "outputId": "f7a2c4d1-e901-4a5c-8ac2-e4c4acad8ac5"
      },
      "outputs": [
        {
          "name": "stdout",
          "output_type": "stream",
          "text": [
            "x_clone: 5.0\n",
            "x: 1.0\n",
            "x_clone.requires_grad: False\n"
          ]
        }
      ],
      "source": [
        "print(f\"x_clone: {x_clone}\")\n",
        "print(f\"x: {x}\")\n",
        "print(f\"x_clone.requires_grad: {x_clone.requires_grad}\")"
      ]
    },
    {
      "cell_type": "code",
      "execution_count": 13,
      "metadata": {},
      "outputs": [],
      "source": [
        "x_clone = x.clone().detach()"
      ]
    },
    {
      "cell_type": "code",
      "execution_count": 14,
      "metadata": {
        "colab": {
          "base_uri": "https://localhost:8080/"
        },
        "id": "09d6wCUaZK5R",
        "outputId": "7fdb9465-5396-42d5-f9ce-adda61d92a77"
      },
      "outputs": [
        {
          "name": "stdout",
          "output_type": "stream",
          "text": [
            "x_clone.requires_grad: False\n"
          ]
        }
      ],
      "source": [
        "print(f\"x_clone.requires_grad: {x_clone.requires_grad}\")"
      ]
    },
    {
      "cell_type": "code",
      "execution_count": 15,
      "metadata": {},
      "outputs": [],
      "source": [
        "x = torch.tensor(1.0, requires_grad = True)\n",
        "y = torch.tensor(2.0, requires_grad = True)\n",
        "z = x ** 2 + 2 * y ** 2\n",
        "\n",
        "with torch.no_grad():\n",
        "    a = torch.sin(x)"
      ]
    },
    {
      "cell_type": "code",
      "execution_count": 16,
      "metadata": {
        "colab": {
          "base_uri": "https://localhost:8080/"
        },
        "id": "EcIwXUpb_TUH",
        "outputId": "63f661c6-208a-4130-910b-f43e1dec4f11"
      },
      "outputs": [
        {
          "name": "stdout",
          "output_type": "stream",
          "text": [
            "a.requires_grad: False\n"
          ]
        }
      ],
      "source": [
        "print(f\"a.requires_grad: {a.requires_grad}\")"
      ]
    },
    {
      "cell_type": "markdown",
      "metadata": {},
      "source": [
        "---\n",
        "## Build a Neural Network and Train Using `autograd`"
      ]
    },
    {
      "cell_type": "markdown",
      "metadata": {},
      "source": [
        "---\n",
        "### Define `ShallowNet`"
      ]
    },
    {
      "cell_type": "markdown",
      "metadata": {
        "id": "7bWx7XUPHAaT"
      },
      "source": [
        "**Exercise 1 [10/10]**\n",
        "1. The `ShallowNet` takes input size `n_x`, output size `n_y`, and width `n_h`.\n",
        "2. Instead of manually specifying weights and biases, use `nn.Linear()` to define **linear transformations** to compute preactivation that include weights and biases internally.\n",
        "3. Define the activation function `self.act` as a class attribute using `nn.ReLU()`.\n",
        "4. Implement the `forward()` method to perform forward propagation and return the output of the network."
      ]
    },
    {
      "cell_type": "code",
      "execution_count": 17,
      "metadata": {
        "id": "0EF60xo_Dmz0"
      },
      "outputs": [],
      "source": [
        "class ShallowNet(nn.Module):\n",
        "\n",
        "    # Initialize the network with input size, hidden layer size, and output size\n",
        "    def __init__(self, n_x, n_h, n_y):\n",
        "        super(ShallowNet, self).__init__()\n",
        "        self.fc1 = nn.Linear(n_x, n_h)\n",
        "        self.fc2 = nn.Linear(n_h, n_y)\n",
        "        self.act = nn.ReLU()\n",
        "\n",
        "    # Define the forward pass\n",
        "    def forward(self, x):\n",
        "        x = x.view(x.size(0), -1)\n",
        "        x = self.fc1(x)\n",
        "        x = self.act(x)\n",
        "        x = self.fc2(x)\n",
        "        return x"
      ]
    },
    {
      "cell_type": "code",
      "execution_count": 18,
      "metadata": {},
      "outputs": [],
      "source": [
        "n_x = 4\n",
        "n_h = 10\n",
        "n_y = 1\n",
        "model = ShallowNet(n_x, n_h, n_y)"
      ]
    },
    {
      "cell_type": "code",
      "execution_count": 19,
      "metadata": {
        "colab": {
          "base_uri": "https://localhost:8080/"
        },
        "id": "QPyis7kUa_f7",
        "outputId": "8a5fbd73-5502-4bf5-c2b0-0ef5b8d71b8b"
      },
      "outputs": [
        {
          "name": "stdout",
          "output_type": "stream",
          "text": [
            "ShallowNet(\n",
            "  (fc1): Linear(in_features=4, out_features=10, bias=True)\n",
            "  (fc2): Linear(in_features=10, out_features=1, bias=True)\n",
            "  (act): ReLU()\n",
            ")\n"
          ]
        }
      ],
      "source": [
        "print(model)"
      ]
    },
    {
      "cell_type": "code",
      "execution_count": 20,
      "metadata": {},
      "outputs": [],
      "source": [
        "num_samples = 8\n",
        "x = torch.randn(num_samples, n_x)\n",
        "output = model(x)"
      ]
    },
    {
      "cell_type": "code",
      "execution_count": 21,
      "metadata": {
        "colab": {
          "base_uri": "https://localhost:8080/"
        },
        "id": "Gz8BQkeubr71",
        "outputId": "fea44718-5491-412a-b6d3-14635f008afd"
      },
      "outputs": [
        {
          "name": "stdout",
          "output_type": "stream",
          "text": [
            "tensor([[ 0.3817],\n",
            "        [ 0.3093],\n",
            "        [ 0.2687],\n",
            "        [ 0.1068],\n",
            "        [-0.0068],\n",
            "        [ 0.0091],\n",
            "        [ 0.1560],\n",
            "        [ 0.1721]], grad_fn=<AddmmBackward0>)\n"
          ]
        }
      ],
      "source": [
        "print(output)"
      ]
    },
    {
      "cell_type": "markdown",
      "metadata": {},
      "source": [
        "**Exercise 2 [10/10]**:\n",
        "Define Loss Function and Optimizer\n",
        "1. In each training loop, evaluate the `model` on the entire training set `x` to obtain the `output`.\n",
        "2. Compute the `loss` by using the predefined loss function `criterion` and comparing the `output` with the ground truth labels `y`.\n",
        "3. Use autograd to compute the gradients by calling `loss.backward()` instead of calling `model.backward()` like we did in the last assignment.\n",
        "4. The computed gradients are automatically stored in the `model`’s parameters, which are passed into the `optimizer`. Apply a gradient descent update by calling `optimizer.step()` as done in the previous assignment."
      ]
    },
    {
      "cell_type": "code",
      "execution_count": 22,
      "metadata": {},
      "outputs": [],
      "source": [
        "criterion = nn.MSELoss()\n",
        "learning_rate = 0.01\n",
        "optimizer = torch.optim.SGD(model.parameters(), lr = learning_rate)\n",
        "x = torch.randn(num_samples, n_x)\n",
        "y = torch.randn(num_samples, 1)\n",
        "num_epochs = 10"
      ]
    },
    {
      "cell_type": "code",
      "execution_count": 23,
      "metadata": {
        "colab": {
          "base_uri": "https://localhost:8080/"
        },
        "id": "SVRnJsMEcwp_",
        "outputId": "593d5527-1b6d-4af4-eeb2-ba4fd32c69bb"
      },
      "outputs": [
        {
          "name": "stdout",
          "output_type": "stream",
          "text": [
            "Epoch [1 / 10], Loss: 0.9496\n",
            "Epoch [2 / 10], Loss: 0.9107\n",
            "Epoch [3 / 10], Loss: 0.8750\n",
            "Epoch [4 / 10], Loss: 0.8421\n",
            "Epoch [5 / 10], Loss: 0.8119\n",
            "Epoch [6 / 10], Loss: 0.7841\n",
            "Epoch [7 / 10], Loss: 0.7585\n",
            "Epoch [8 / 10], Loss: 0.7350\n",
            "Epoch [9 / 10], Loss: 0.7134\n",
            "Epoch [10 / 10], Loss: 0.6935\n"
          ]
        }
      ],
      "source": [
        "for epoch in range(num_epochs):\n",
        "\n",
        "    optimizer.zero_grad() # Zero the gradients\n",
        "    output = model(x) # Forward pass\n",
        "    loss = criterion(output, y) # Compute the loss\n",
        "    loss.backward() # Compute the gradient of the loss\n",
        "    optimizer.step() # # Update the model's parameters\n",
        "\n",
        "    print(f\"Epoch [{epoch + 1} / {num_epochs}], Loss: {loss.item():.4f}\")"
      ]
    },
    {
      "cell_type": "markdown",
      "metadata": {},
      "source": [
        "---\n",
        "### Use `DataLoader` for Mini-Batch SGD"
      ]
    },
    {
      "cell_type": "markdown",
      "metadata": {
        "id": "D3TlzM07e8Fs"
      },
      "source": [
        "**Exercise 3 [10/10]**\n",
        "1. Generate random data `x` and `y` as before.\n",
        "2. In PyTorch, use `TensorDataset(x, y)` to wrap the input tensor `x` and label tensor `y` into a dataset. Ensure that the first dimension (number of samples) matches for both tensors.\n",
        "3. PyTorch’s `DataLoader` can automatically divide a dataset into mini-batches and shuffle the data after each epoch when `shuffle = True` is set.\n",
        "4. Set the `batch_size = 64` and shuffle=True when creating the data_loader."
      ]
    },
    {
      "cell_type": "code",
      "execution_count": 24,
      "metadata": {},
      "outputs": [],
      "source": [
        "num_samples = 1000\n",
        "n_x = 10\n",
        "n_y = 1\n",
        "x = torch.randn(num_samples, n_x)\n",
        "y = torch.randn(num_samples, n_y)\n",
        "dataset = TensorDataset(x, y)\n",
        "batch_size = 32\n",
        "data_loader = DataLoader(dataset, batch_size = batch_size, shuffle = True)"
      ]
    },
    {
      "cell_type": "markdown",
      "metadata": {
        "id": "XfIGX7kWEKCR"
      },
      "source": [
        "**Exercise 4 [10/10]**:\n",
        "Use SGD with mini-batches to train the `ShallowNet`.\n",
        "\n",
        "1. Define a `ShallowNet` with a hidden layer width `n_h = 10`.\n",
        "2. Specifiy the loss `criterion` using `MSELoss()`.\n",
        "3. Define the SGD `optimizer` using `torch.optim.SGD`.\n",
        "4. For each mini-batch, `data_loader` return a `(inputs, targets)` pair.\n",
        " - We evaluate our `model` on the `inputs` to get `outputs`\n",
        " - Then compute the `loss` using `outputs` and `targets`\n",
        " - Compute the gradients by calling `loss.backward()`\n",
        " - Employ the gradient update using `optimizer.step()`"
      ]
    },
    {
      "cell_type": "code",
      "execution_count": 25,
      "metadata": {},
      "outputs": [],
      "source": [
        "n_h = 10\n",
        "model = ShallowNet(n_x = n_x, n_h = n_h, n_y = n_y)\n",
        "criterion = torch.nn.MSELoss()\n",
        "learning_rate = 0.01\n",
        "optimizer = torch.optim.SGD(model.parameters(), lr = learning_rate)\n",
        "num_epochs = 10"
      ]
    },
    {
      "cell_type": "code",
      "execution_count": 26,
      "metadata": {
        "colab": {
          "base_uri": "https://localhost:8080/"
        },
        "id": "1MzDRh1wcwsh",
        "outputId": "331372df-4a21-46a6-92cc-b039c8f9f77d"
      },
      "outputs": [
        {
          "name": "stdout",
          "output_type": "stream",
          "text": [
            "Epoch [1 / 10], Loss: 1.0709\n",
            "Epoch [2 / 10], Loss: 1.0582\n",
            "Epoch [3 / 10], Loss: 1.0858\n",
            "Epoch [4 / 10], Loss: 1.0414\n",
            "Epoch [5 / 10], Loss: 1.0309\n",
            "Epoch [6 / 10], Loss: 1.0312\n",
            "Epoch [7 / 10], Loss: 1.0384\n",
            "Epoch [8 / 10], Loss: 1.0431\n",
            "Epoch [9 / 10], Loss: 1.0290\n",
            "Epoch [10 / 10], Loss: 1.0196\n"
          ]
        }
      ],
      "source": [
        "for epoch in range(num_epochs):\n",
        "    running_loss = 0.0 # Initialize running loss for each epoch\n",
        "\n",
        "    for inputs, targets in data_loader:\n",
        "        optimizer.zero_grad() # Zero the gradients\n",
        "        outputs = model(inputs) # Forward pass\n",
        "        loss = criterion(outputs, targets) # Compute the loss\n",
        "        loss.backward() # Compute the gradient of the loss\n",
        "        optimizer.step() # Update the model's parameters\n",
        "        running_loss += loss.item() # Accumulate the loss\n",
        " \n",
        "    avg_loss = running_loss / len(data_loader) # Compute the average loss\n",
        "    \n",
        "    print(f\"Epoch [{epoch + 1} / {num_epochs}], Loss: {avg_loss:.4f}\")"
      ]
    },
    {
      "cell_type": "markdown",
      "metadata": {
        "id": "lK1mFPPjGTyt"
      },
      "source": [
        "---\n",
        "### Train on a Realistic Dataset Using Pytorch"
      ]
    },
    {
      "cell_type": "code",
      "execution_count": 27,
      "metadata": {},
      "outputs": [
        {
          "name": "stderr",
          "output_type": "stream",
          "text": [
            "100%|██████████| 9.91M/9.91M [00:00<00:00, 12.0MB/s]\n",
            "100%|██████████| 28.9k/28.9k [00:00<00:00, 1.08MB/s]\n",
            "100%|██████████| 1.65M/1.65M [00:00<00:00, 8.98MB/s]\n",
            "100%|██████████| 4.54k/4.54k [00:00<00:00, 1.26MB/s]\n"
          ]
        }
      ],
      "source": [
        "# Load the MNIST dataset\n",
        "train_dataset = torchvision.datasets.MNIST(root = './data', train = True, download = True, transform = torchvision.transforms.ToTensor())\n",
        "test_dataset = torchvision.datasets.MNIST(root = './data', train = False, download = True, transform = torchvision.transforms.ToTensor())"
      ]
    },
    {
      "cell_type": "code",
      "execution_count": 28,
      "metadata": {
        "colab": {
          "base_uri": "https://localhost:8080/"
        },
        "id": "YMuyaJfNI_Sx",
        "outputId": "1bc7548a-d91f-4c67-8e8b-5ef15d0016ee"
      },
      "outputs": [
        {
          "name": "stdout",
          "output_type": "stream",
          "text": [
            "Number of training samples: 60000\n",
            "Number of test samples: 10000\n",
            "Input shape: torch.Size([1, 28, 28])\n"
          ]
        }
      ],
      "source": [
        "print(f\"Number of training samples: {len(train_dataset)}\")\n",
        "print(f\"Number of test samples: {len(test_dataset)}\")\n",
        "print(f\"Input shape: {train_dataset[0][0].shape}\")"
      ]
    },
    {
      "cell_type": "code",
      "execution_count": 29,
      "metadata": {
        "id": "eGRaJ6_vM9jV"
      },
      "outputs": [],
      "source": [
        "def plot_images(dataset, num_images = 5):\n",
        "\n",
        "    random_indices = torch.randperm(len(dataset))[:num_images] # Generate random indices to select images from the dataset\n",
        "    fig, axes = plt.subplots(1, num_images, figsize = (12, 4))\n",
        "\n",
        "    for i, idx in enumerate(random_indices):\n",
        "        image, label = dataset[idx]\n",
        "\n",
        "        if image.ndim == 3:\n",
        "            image = image.permute(1, 2, 0)\n",
        "        else:\n",
        "            image = image.squeeze()\n",
        "\n",
        "        axes[i].imshow(image, cmap = 'gray')\n",
        "        axes[i].set_title(f\"Label: {label}\")\n",
        "        axes[i].axis('off')\n",
        "\n",
        "    plt.show()"
      ]
    },
    {
      "cell_type": "code",
      "execution_count": 30,
      "metadata": {
        "colab": {
          "base_uri": "https://localhost:8080/",
          "height": 219
        },
        "id": "Fw5gCL5-NF_E",
        "outputId": "4b2d1549-54d8-4f35-cc17-630c73ed263a"
      },
      "outputs": [
        {
          "data": {
            "image/png": "[encoded data removed]",
            "text/plain": [
              "<Figure size 1200x400 with 5 Axes>"
            ]
          },
          "metadata": {},
          "output_type": "display_data"
        }
      ],
      "source": [
        "plot_images(train_dataset, num_images = 5)"
      ]
    },
    {
      "cell_type": "markdown",
      "metadata": {
        "id": "LbKdy9uONFmQ"
      },
      "source": [
        "**Exercise 5 [10/10]**: To apply SGD with mini-batch, we need `DataLoader` to load the data as mini-batches. Additionally, to moniter the performance not only during the training but also the test dataset (or validation dataset for tuning), we need both `train_loader` and `test_loader`.\n",
        "1. Define `batch_size` with size value `64`.\n",
        "2. Define `train_loader` using `DataLoader`, ensuring the `shuffle=True` flag is set to randomly shuffle the training data after each epoch.\n",
        "3. Define `test_loader` using `DataLoader` for the test dataset, and since it’s not necessary to shuffle the test data, you can leave the shuffle flag as the default (False)."
      ]
    },
    {
      "cell_type": "code",
      "execution_count": 31,
      "metadata": {
        "id": "aTiTKLTvHGgQ"
      },
      "outputs": [],
      "source": [
        "# Create a DataLoader for dataset\n",
        "train_loader = DataLoader(train_dataset, batch_size = batch_size, shuffle = True)\n",
        "test_loader = DataLoader(test_dataset, batch_size = batch_size, shuffle = False)"
      ]
    },
    {
      "cell_type": "markdown",
      "metadata": {
        "id": "rq-vleGnQ1Xv"
      },
      "source": [
        "**Exercise 6 [10/10]:**\n",
        "1. Use `ShallowNet` to define a two-layer network `model` with `10` hidden units and `n_y=10` as MNIST contains `10` digits.\n",
        "2. Specify the loss critarion to be `nn.MSELoss()`.\n",
        "3. Define SGD optimizer using `torch.optim.SGD()` by passing the learning rate and the model's parameters.\n",
        "4. For each epoch, we loop over each mini-batch `(inputs, targets)` loaded from `train_loader`:\n",
        "  - Since each image in `inputs` has shape `28x28`, but the MLP treats input as a **vector**, reshape inputs using `.view(-1)` to flatten the images.\n",
        "  - Compute the `outputs` by passing the `inputs` through the `model`\n",
        "  - The model is designed for `10` output classes, but targets are integer values (class labels). Convert targets to **One-Hot Encoding** using `torch.nn.functional.one_hot(targets, num_classes=10)`.\n",
        "  - Compute the `train_loss` using `critarion` on `outputs` and `targets`\n",
        "  - Accumulate the `train_loss` into `train_running_loss`\n",
        "  - Perform gradient computation and take the optimization step to update model's parameters.\n",
        "  - Apply the same steps to `test_loader` to compute `test_loss` and update `test_running_loss`, excpet for skipping gradient computaiton and optimization steps\n",
        "5. At end of each epoch, store the averaged `train_running_loss` and `test_running_loss` into `train_losses` and `test_losses`, respecitvely."
      ]
    },
    {
      "cell_type": "code",
      "execution_count": 32,
      "metadata": {},
      "outputs": [],
      "source": [
        "n_y = 10\n",
        "model = ShallowNet(n_x = 28 * 28, n_h = 10, n_y = n_y)\n",
        "criterion = nn.MSELoss()\n",
        "learning_rate = 0.01\n",
        "optimizer = torch.optim.SGD(model.parameters(), lr = learning_rate)\n",
        "num_epochs = 10"
      ]
    },
    {
      "cell_type": "code",
      "execution_count": 33,
      "metadata": {
        "colab": {
          "base_uri": "https://localhost:8080/"
        },
        "id": "yxk8FAjBUB9Y",
        "outputId": "88acc842-19ad-4a45-edb0-e7af319bb778"
      },
      "outputs": [
        {
          "name": "stdout",
          "output_type": "stream",
          "text": [
            "Epoch [1 / 10], Train Loss: 0.0781, Test Loss: 0.1495\n",
            "Epoch [2 / 10], Train Loss: 0.0603, Test Loss: 0.0649\n",
            "Epoch [3 / 10], Train Loss: 0.0538, Test Loss: 0.0559\n",
            "Epoch [4 / 10], Train Loss: 0.0499, Test Loss: 0.0512\n",
            "Epoch [5 / 10], Train Loss: 0.0472, Test Loss: 0.0481\n",
            "Epoch [6 / 10], Train Loss: 0.0453, Test Loss: 0.0457\n",
            "Epoch [7 / 10], Train Loss: 0.0439, Test Loss: 0.0441\n",
            "Epoch [8 / 10], Train Loss: 0.0430, Test Loss: 0.0430\n",
            "Epoch [9 / 10], Train Loss: 0.0423, Test Loss: 0.0422\n",
            "Epoch [10 / 10], Train Loss: 0.0417, Test Loss: 0.0416\n"
          ]
        }
      ],
      "source": [
        "# Initialize lists to store the training and testing losses\n",
        "train_losses = []\n",
        "test_losses = []\n",
        "\n",
        "for epoch in range(num_epochs):\n",
        "\n",
        "    # Initialize running losses\n",
        "    train_running_loss = 0.0\n",
        "    test_running_loss = 0.0\n",
        "\n",
        "    # Set the model to evaluation mode\n",
        "    model.eval()\n",
        "    with torch.no_grad():\n",
        "        for inputs, targets in test_loader:\n",
        "            inputs = inputs.view(inputs.size(0), -1) # Flatten the input images\n",
        "            targets = torch.nn.functional.one_hot(targets, num_classes = 10).float() # Convert targets to one-hot encoding\n",
        "            outputs = model(inputs) # Forward pass\n",
        "            test_loss = criterion(outputs, targets) # Compute the test loss\n",
        "            test_running_loss += test_loss.item() # Accumulate the test loss\n",
        "\n",
        "    # Set the model back to training mode\n",
        "    model.train()\n",
        "    for i, (inputs, targets) in enumerate(train_loader):\n",
        "        optimizer.zero_grad() # Zero the gradients\n",
        "        inputs = inputs.view(inputs.size(0), -1) # Flatten the input images\n",
        "        targets = torch.nn.functional.one_hot(targets, num_classes = 10).float() # Convert targets to one-hot encoding\n",
        "        outputs = model(inputs) # Forward pass\n",
        "        train_loss = criterion(outputs, targets) # Compute the training loss\n",
        "        train_running_loss += train_loss.item() # Accumulate the training loss\n",
        "        train_loss.backward() # Backpropagate the gradients\n",
        "        optimizer.step() # Update model parameters\n",
        "\n",
        "    train_losses.append(train_running_loss / len(train_loader))\n",
        "    test_losses.append(test_running_loss / len(test_loader))\n",
        "\n",
        "    print(f\"Epoch [{epoch + 1} / {num_epochs}], Train Loss: {train_losses[-1]:.4f}, Test Loss: {test_losses[-1]:.4f}\")"
      ]
    },
    {
      "cell_type": "markdown",
      "metadata": {
        "id": "6c1tXBWjR8H_"
      },
      "source": [
        "**Exercise 7 [10/10]:**\n",
        "1. We need to import `matplotlib.pyplot` as `plt` as for ploting.\n",
        "2. The function `plot_losses` takes `train_losses` and `test_losses` as input.\n",
        "3. Use `plt.figure()` to define a figure with specified `figsize=(10,6)`.\n",
        "4. Plot train_losses using `plt.plot()`. To distinguish it from `test_losses`, specify parameters such as `label`, `color`, and `linestyle`.\n",
        "5. Plot `test_losses` as the `train_losses`.\n",
        "6. Add labels and title.\n",
        "7. Add legend.\n",
        "8. Finish ploting, we `plt.show()` the plotted figure."
      ]
    },
    {
      "cell_type": "code",
      "execution_count": 34,
      "metadata": {
        "id": "79NNzh98dYS1"
      },
      "outputs": [],
      "source": [
        "def plot_losses(train_losses, test_losses):\n",
        "\n",
        "    plt.figure(figsize = (10, 6))\n",
        "    plt.plot(train_losses, label = 'Training Loss', color = 'blue', linestyle = '--')\n",
        "    plt.plot(test_losses, label = 'Testing Loss', color = 'red', linestyle = '-')\n",
        "    plt.xlabel('Epochs')\n",
        "    plt.ylabel('Loss')\n",
        "    plt.title('Training and Test Loss Over Epochs')\n",
        "    plt.legend()\n",
        "    plt.show()"
      ]
    },
    {
      "cell_type": "code",
      "execution_count": 35,
      "metadata": {
        "colab": {
          "base_uri": "https://localhost:8080/",
          "height": 564
        },
        "id": "-GAurU8udZGA",
        "outputId": "d2176e0f-241f-43cf-e84e-2627ab6e6218"
      },
      "outputs": [
        {
          "data": {
            "image/png": "[encoded data removed]",
            "text/plain": [
              "<Figure size 1000x600 with 1 Axes>"
            ]
          },
          "metadata": {},
          "output_type": "display_data"
        }
      ],
      "source": [
        "plot_losses(train_losses, test_losses)"
      ]
    },
    {
      "cell_type": "markdown",
      "metadata": {
        "id": "ZSG4gAk3vyQA"
      },
      "source": [
        "**Exercise 8 [10/10]**:\n",
        "1. The `predict_and_accuracy` takes a `model` and `data_loader`.\n",
        "2. Loop over the `data_loader`, similar to how you handled the test loop:\n",
        " - For each mini-batch, compute the `outputs` by applying the `model` on `inputs`.\n",
        " - Use `torch.max(outputs.data, 1)` to retrieve the `predicted` class labels by finding the index of the maximum logit value in `outputs`.\n",
        " - We collect the `predicted` labels into the previous collection `predicitons` using `extend()` as to append a `list` to another `list` in Python.\n",
        " - Update the total number of predictions made (`total`) and the total number of correct predictions (`correct`).\n",
        "3. After completing the loop, compute the `accuracy` as the ratio of correct predictions to the total number of predictions (`correct / total`).\n",
        "4. Return total `predicitons` and `accuracy`."
      ]
    },
    {
      "cell_type": "code",
      "execution_count": 36,
      "metadata": {
        "id": "77b4a-ZZvJyx"
      },
      "outputs": [],
      "source": [
        "def predict_and_accuracy(model, data_loader):\n",
        "\n",
        "    # Set the model to evaluation mode\n",
        "    model.eval()\n",
        "\n",
        "    # Initialize counters\n",
        "    correct = 0\n",
        "    total = 0\n",
        "\n",
        "    # List to store predictions\n",
        "    predictions = []\n",
        "\n",
        "    with torch.no_grad():\n",
        "        for inputs, targets in data_loader:\n",
        "            inputs = inputs.view(-1, 28 * 28) # Flatten the input images\n",
        "            outputs = model(inputs) # Forward pass\n",
        "            _, predicted = torch.max(outputs.data, 1) # Get the predicted class\n",
        "            predictions.extend(predicted.tolist()) # Store the predictions for later analysis\n",
        "            total += targets.size(0) # Update the total sample count\n",
        "            correct += (predicted == targets).sum().item() # Count the number of correct predictions\n",
        "\n",
        "    # Calculate accuracy\n",
        "    accuracy = correct / total\n",
        "\n",
        "    return predictions, accuracy"
      ]
    },
    {
      "cell_type": "code",
      "execution_count": 37,
      "metadata": {},
      "outputs": [],
      "source": [
        "_, train_accuracy = predict_and_accuracy(model, train_loader)\n",
        "_, test_accuracy = predict_and_accuracy(model, test_loader)"
      ]
    },
    {
      "cell_type": "code",
      "execution_count": 38,
      "metadata": {},
      "outputs": [
        {
          "name": "stdout",
          "output_type": "stream",
          "text": [
            "Training Accuracy: 0.8468\n",
            "Testing Accuracy: 0.8535\n"
          ]
        }
      ],
      "source": [
        "print(f\"Training Accuracy: {train_accuracy:.4f}\")\n",
        "print(f\"Testing Accuracy: {test_accuracy:.4f}\")"
      ]
    },
    {
      "cell_type": "markdown",
      "metadata": {},
      "source": [
        "---\n",
        "## Tuning Hyperparameters"
      ]
    },
    {
      "cell_type": "markdown",
      "metadata": {},
      "source": [
        "---\n",
        "### Train with Cross Entropy Loss"
      ]
    },
    {
      "cell_type": "markdown",
      "metadata": {
        "id": "wiNA_w0OVUfJ"
      },
      "source": [
        "**Exercise 9 [10/10]**:\n",
        "1. Define `model` as `ShallowNet` with `10` hidden units.\n",
        "2. Specify the loss `criterion` as `nn.CrossEntropyLoss()`.\n",
        "3. Set the `optimizer` to SGD (with mini-batches), using a learning rate of `0.01`.\n",
        "4. Train the `mode`l for `10` epochs, recording the `train_losses` and `test_losses` at each epoch.\n",
        "5. Plot the `train_losses` and `test_losses` to visualize the convergence behavior.\n",
        "6. Make predictions on both the training and test datasets, and return their respective `accuracy`."
      ]
    },
    {
      "cell_type": "code",
      "execution_count": 39,
      "metadata": {},
      "outputs": [],
      "source": [
        "model = ShallowNet(n_x = 28 * 28, n_h = 8, n_y = n_y)\n",
        "criterion = nn.CrossEntropyLoss()\n",
        "learning_rate = 0.01\n",
        "optimizer = torch.optim.SGD(model.parameters(), lr = learning_rate)\n",
        "num_epochs = 10"
      ]
    },
    {
      "cell_type": "code",
      "execution_count": 40,
      "metadata": {
        "colab": {
          "base_uri": "https://localhost:8080/"
        },
        "id": "NDP73yxTJVQ7",
        "outputId": "a7d603f9-7f04-44a2-a1d2-4905d6af16a4"
      },
      "outputs": [
        {
          "name": "stdout",
          "output_type": "stream",
          "text": [
            "Epoch [1/10], Train Loss: 1.0318, Test Loss: 2.3243\n",
            "Epoch [2/10], Train Loss: 0.4533, Test Loss: 0.5011\n",
            "Epoch [3/10], Train Loss: 0.3907, Test Loss: 0.3968\n",
            "Epoch [4/10], Train Loss: 0.3636, Test Loss: 0.3599\n",
            "Epoch [5/10], Train Loss: 0.3469, Test Loss: 0.3439\n",
            "Epoch [6/10], Train Loss: 0.3340, Test Loss: 0.3345\n",
            "Epoch [7/10], Train Loss: 0.3242, Test Loss: 0.3240\n",
            "Epoch [8/10], Train Loss: 0.3161, Test Loss: 0.3190\n",
            "Epoch [9/10], Train Loss: 0.3095, Test Loss: 0.3117\n",
            "Epoch [10/10], Train Loss: 0.3035, Test Loss: 0.3081\n"
          ]
        }
      ],
      "source": [
        "# Initialize lists to store the training and testing losses\n",
        "train_losses = []\n",
        "test_losses = []\n",
        "\n",
        "for epoch in range(num_epochs):\n",
        "\n",
        "    # Initialize running losses\n",
        "    train_running_loss = 0.0\n",
        "    test_running_loss = 0.0\n",
        "\n",
        "    # Set the model to evaluation mode\n",
        "    model.eval()\n",
        "    with torch.no_grad():\n",
        "        for inputs, targets in test_loader:\n",
        "            inputs = inputs.view(-1, 28 * 28) # Flatten the images\n",
        "            outputs = model(inputs) # Forward pass\n",
        "            test_loss = criterion(outputs, targets) # Compute the test loss\n",
        "            test_running_loss += test_loss.item() # Accumulate the test loss\n",
        "\n",
        "    # Set the model back to training mode\n",
        "    model.train()\n",
        "    for inputs, targets in train_loader:\n",
        "        optimizer.zero_grad() # Zero the gradients\n",
        "        outputs = model(inputs) # Forward pass\n",
        "        train_loss = criterion(outputs, targets) # Compute the training loss\n",
        "        train_loss.backward() # Backpropagate the gradients\n",
        "        optimizer.step() # Update model parameters\n",
        "        train_running_loss += train_loss.item() # Accumulate the training loss\n",
        "\n",
        "    train_losses.append(train_running_loss / len(train_loader))\n",
        "    test_losses.append(test_running_loss / len(test_loader))\n",
        "    \n",
        "    print(f\"Epoch [{epoch + 1}/{num_epochs}], Train Loss: {train_losses[-1]:.4f}, Test Loss: {test_losses[-1]:.4f}\")"
      ]
    },
    {
      "cell_type": "code",
      "execution_count": 41,
      "metadata": {
        "colab": {
          "base_uri": "https://localhost:8080/",
          "height": 564
        },
        "id": "k8CzczUXXc54",
        "outputId": "3b16ff3d-9dd3-4212-ef72-861da26b6982"
      },
      "outputs": [
        {
          "data": {
            "image/png": "[encoded data removed]",
            "text/plain": [
              "<Figure size 1000x600 with 1 Axes>"
            ]
          },
          "metadata": {},
          "output_type": "display_data"
        }
      ],
      "source": [
        "plot_losses(train_losses, test_losses)"
      ]
    },
    {
      "cell_type": "code",
      "execution_count": 42,
      "metadata": {},
      "outputs": [],
      "source": [
        "_, train_accuracy = predict_and_accuracy(model, train_loader)\n",
        "_, test_accuracy = predict_and_accuracy(model, test_loader)"
      ]
    },
    {
      "cell_type": "code",
      "execution_count": 43,
      "metadata": {
        "colab": {
          "base_uri": "https://localhost:8080/"
        },
        "id": "PS6-MSbLXGB7",
        "outputId": "edb7201d-9b78-4c33-c3e0-389e95e12647"
      },
      "outputs": [
        {
          "name": "stdout",
          "output_type": "stream",
          "text": [
            "Training Accuracy: 0.9169\n",
            "Testing Accuracy: 0.9164\n"
          ]
        }
      ],
      "source": [
        "print(f\"Training Accuracy: {train_accuracy:.4f}\")\n",
        "print(f\"Testing Accuracy: {test_accuracy:.4f}\")"
      ]
    },
    {
      "cell_type": "markdown",
      "metadata": {},
      "source": [
        "---\n",
        "### Tune Network Width and Learning Rate"
      ]
    },
    {
      "cell_type": "markdown",
      "metadata": {
        "id": "AMPcSbXzequ7"
      },
      "source": [
        "**Exercise 10 [10/10]**:\n",
        "1. The first step is to split the `train_dataset` into `train_data` and `val_data`. Since the MNIST dataset is relatively straightforward, the results are not very sensitive to the choice of hyperparameters. Therefore, we can use a `90/10` split ratio by applying the `random_split(data, [size1, size2])` function.\n",
        "2. Next, to simplify the coding process, we will write the training loop as a function `train_model()` that takes `model`, `train_loader`, loss `criterion`, `optimizer` and `num_epoches` as input.\n",
        "3. In the third step, we need to define the search space. Create a range of values for both the learning rate and network width, ensuring that both are sampled using **log-scale**. Next, randomly sample `4` learning rates and widths from the defined search space to evaluate different combinations.\n",
        "4. For each randomly selected combination of learning rate and width, train the model on the training set and validate it on the validation set. Track the performance (e.g., validation accuracy) for comparison."
      ]
    },
    {
      "cell_type": "code",
      "execution_count": 44,
      "metadata": {},
      "outputs": [],
      "source": [
        "train_size = int(0.9 * len(train_dataset))\n",
        "val_size = len(train_dataset) - train_size\n",
        "train_data, val_data = random_split(train_dataset, [train_size, val_size])"
      ]
    },
    {
      "cell_type": "code",
      "execution_count": 45,
      "metadata": {
        "colab": {
          "base_uri": "https://localhost:8080/"
        },
        "id": "3EMEhxp8XNku",
        "outputId": "2082ae0b-7c16-4066-b0d9-cdc09abe5ce7"
      },
      "outputs": [
        {
          "name": "stdout",
          "output_type": "stream",
          "text": [
            "Number of training samples: 54000\n",
            "Number of validation samples: 6000\n"
          ]
        }
      ],
      "source": [
        "print(f\"Number of training samples: {len(train_data)}\")\n",
        "print(f\"Number of validation samples: {len(val_data)}\")"
      ]
    },
    {
      "cell_type": "code",
      "execution_count": 46,
      "metadata": {},
      "outputs": [],
      "source": [
        "batch_size = 64\n",
        "train_loader = DataLoader(train_data, batch_size = batch_size, shuffle = True)\n",
        "val_loader = DataLoader(val_data, batch_size = batch_size, shuffle = False)"
      ]
    },
    {
      "cell_type": "code",
      "execution_count": 47,
      "metadata": {
        "id": "4DRi2ZnafWKb"
      },
      "outputs": [],
      "source": [
        "def train_model(model, train_loader, criterion, optimizer, num_epochs = 10):\n",
        "\n",
        "    for epoch in range(num_epochs):\n",
        "        running_loss = 0.0\n",
        "\n",
        "        for inputs, targets in train_loader:\n",
        "            optimizer.zero_grad() # Zero the gradients\n",
        "            outputs = model(inputs) # Forward pass\n",
        "            loss = criterion(outputs, targets) # Compute the loss\n",
        "            loss.backward() # Backpropagate the loss to compute gradients\n",
        "            optimizer.step() # Update the model parameters\n",
        "            running_loss += loss.item() # Accumulate the loss\n",
        "\n",
        "        print(f\"Epoch [{epoch + 1} / {num_epochs}], Train Loss: {running_loss / len(train_loader):.4f}\")"
      ]
    },
    {
      "cell_type": "code",
      "execution_count": 48,
      "metadata": {},
      "outputs": [],
      "source": [
        "learning_rates = torch.logspace(-3, 0, 5)\n",
        "widths = [2, 16, 128, 1024]"
      ]
    },
    {
      "cell_type": "code",
      "execution_count": 49,
      "metadata": {
        "colab": {
          "base_uri": "https://localhost:8080/"
        },
        "id": "5B8KsXFigFBi",
        "outputId": "75929619-a971-4e59-e543-c2514de4127b"
      },
      "outputs": [
        {
          "name": "stdout",
          "output_type": "stream",
          "text": [
            "Learning Rate: tensor([0.0010, 0.0056, 0.0316, 0.1778, 1.0000])\n",
            "Width: [2, 16, 128, 1024]\n"
          ]
        }
      ],
      "source": [
        "print(f\"Learning Rate: {learning_rates}\")\n",
        "print(f\"Width: {widths}\")"
      ]
    },
    {
      "cell_type": "code",
      "execution_count": 50,
      "metadata": {},
      "outputs": [],
      "source": [
        "random_combinations = [(random.choice(learning_rates), random.choice(widths)) for _ in range(4)]"
      ]
    },
    {
      "cell_type": "code",
      "execution_count": 51,
      "metadata": {
        "colab": {
          "base_uri": "https://localhost:8080/"
        },
        "id": "xQFVxhMrhGo5",
        "outputId": "afbf383e-c951-49fb-bf10-dad7bfd382d2"
      },
      "outputs": [
        {
          "name": "stdout",
          "output_type": "stream",
          "text": [
            "Random Combinations: [(tensor(0.0056), 128), (tensor(0.0010), 1024), (tensor(0.1778), 16), (tensor(0.0010), 2)]\n"
          ]
        }
      ],
      "source": [
        "print(f\"Random Combinations: {random_combinations}\")"
      ]
    },
    {
      "cell_type": "code",
      "execution_count": 52,
      "metadata": {},
      "outputs": [],
      "source": [
        "best_params = None\n",
        "best_val_accuracy = 0.0"
      ]
    },
    {
      "cell_type": "code",
      "execution_count": 53,
      "metadata": {
        "colab": {
          "base_uri": "https://localhost:8080/"
        },
        "id": "KfkPb9uIfOpq",
        "outputId": "92a9ab3b-da2b-4e1c-f0c8-935601ef1613"
      },
      "outputs": [
        {
          "name": "stdout",
          "output_type": "stream",
          "text": [
            "Training with Learning Rate = 0.005623, Width = 128\n"
          ]
        },
        {
          "name": "stdout",
          "output_type": "stream",
          "text": [
            "Epoch [1 / 10], Train Loss: 1.7259\n",
            "Epoch [2 / 10], Train Loss: 0.7805\n",
            "Epoch [3 / 10], Train Loss: 0.5370\n",
            "Epoch [4 / 10], Train Loss: 0.4506\n",
            "Epoch [5 / 10], Train Loss: 0.4064\n",
            "Epoch [6 / 10], Train Loss: 0.3790\n",
            "Epoch [7 / 10], Train Loss: 0.3600\n",
            "Epoch [8 / 10], Train Loss: 0.3454\n",
            "Epoch [9 / 10], Train Loss: 0.3337\n",
            "Epoch [10 / 10], Train Loss: 0.3238\n",
            "Training with Learning Rate = 0.001000, Width = 1024\n",
            "Epoch [1 / 10], Train Loss: 2.1710\n",
            "Epoch [2 / 10], Train Loss: 1.8851\n",
            "Epoch [3 / 10], Train Loss: 1.5694\n",
            "Epoch [4 / 10], Train Loss: 1.2776\n",
            "Epoch [5 / 10], Train Loss: 1.0545\n",
            "Epoch [6 / 10], Train Loss: 0.8985\n",
            "Epoch [7 / 10], Train Loss: 0.7896\n",
            "Epoch [8 / 10], Train Loss: 0.7114\n",
            "Epoch [9 / 10], Train Loss: 0.6530\n",
            "Epoch [10 / 10], Train Loss: 0.6080\n",
            "Training with Learning Rate = 0.177828, Width = 16\n",
            "Epoch [1 / 10], Train Loss: 0.4273\n",
            "Epoch [2 / 10], Train Loss: 0.2514\n",
            "Epoch [3 / 10], Train Loss: 0.2131\n",
            "Epoch [4 / 10], Train Loss: 0.1919\n",
            "Epoch [5 / 10], Train Loss: 0.1786\n",
            "Epoch [6 / 10], Train Loss: 0.1681\n",
            "Epoch [7 / 10], Train Loss: 0.1579\n",
            "Epoch [8 / 10], Train Loss: 0.1528\n",
            "Epoch [9 / 10], Train Loss: 0.1478\n",
            "Epoch [10 / 10], Train Loss: 0.1419\n",
            "Training with Learning Rate = 0.001000, Width = 2\n",
            "Epoch [1 / 10], Train Loss: 2.3286\n",
            "Epoch [2 / 10], Train Loss: 2.1953\n",
            "Epoch [3 / 10], Train Loss: 2.0921\n",
            "Epoch [4 / 10], Train Loss: 2.0111\n",
            "Epoch [5 / 10], Train Loss: 1.9535\n",
            "Epoch [6 / 10], Train Loss: 1.9130\n",
            "Epoch [7 / 10], Train Loss: 1.8826\n",
            "Epoch [8 / 10], Train Loss: 1.8580\n",
            "Epoch [9 / 10], Train Loss: 1.8371\n",
            "Epoch [10 / 10], Train Loss: 1.8184\n",
            "Best parameters found: Learning Rate = 0.17782793939113617, Width = 16\n"
          ]
        }
      ],
      "source": [
        "for lr, width in random_combinations:\n",
        "\n",
        "    print(f\"Training with Learning Rate = {lr:.6f}, Width = {width}\")\n",
        "\n",
        "    model = ShallowNet(n_x = 28*28, n_h = width, n_y = n_y) # Initialize the model\n",
        "    optimizer = torch.optim.SGD(model.parameters(), lr = lr) # Initialize the optimizer\n",
        "    criterion = nn.CrossEntropyLoss() # Define the loss function\n",
        "\n",
        "    # Train the model\n",
        "    train_model(model, train_loader, criterion, optimizer, num_epochs = 10)\n",
        "\n",
        "    # Set the model to evaluation mode\n",
        "    model.eval()\n",
        "\n",
        "    # Initialize variables\n",
        "    correct = 0\n",
        "    total = 0\n",
        "\n",
        "    with torch.no_grad():\n",
        "        for inputs, targets in val_loader:\n",
        "            outputs = model(inputs) # Forward pass\n",
        "            _, predicted = torch.max(outputs, 1) # Get the predicted class\n",
        "            total += targets.size(0) # Update the total count\n",
        "            correct += (predicted == targets).sum().item() # Update the number of correct predictions\n",
        "    \n",
        "    # Calculate validation accuracy\n",
        "    val_accuracy = correct / total * 100\n",
        "\n",
        "    if val_accuracy > best_val_accuracy:\n",
        "        best_val_accuracy = val_accuracy\n",
        "        best_params = (lr, width)\n",
        "\n",
        "print(f\"Best parameters found: Learning Rate = {best_params[0]}, Width = {best_params[1]}\")"
      ]
    },
    {
      "cell_type": "code",
      "execution_count": 54,
      "metadata": {},
      "outputs": [],
      "source": [
        "model = ShallowNet(n_x = 28 * 28, n_h = best_params[1], n_y = n_y)\n",
        "optimizer = torch.optim.SGD(model.parameters(), lr = best_params[0])"
      ]
    },
    {
      "cell_type": "code",
      "execution_count": 55,
      "metadata": {
        "colab": {
          "base_uri": "https://localhost:8080/"
        },
        "id": "KYwlWuqiAdTj",
        "outputId": "6c6c7db3-cdac-40a1-ac56-fc0e8d8eff34"
      },
      "outputs": [
        {
          "name": "stdout",
          "output_type": "stream",
          "text": [
            "Epoch [1 / 10], Train Loss: 0.4224\n",
            "Epoch [2 / 10], Train Loss: 0.2484\n",
            "Epoch [3 / 10], Train Loss: 0.2114\n",
            "Epoch [4 / 10], Train Loss: 0.1903\n",
            "Epoch [5 / 10], Train Loss: 0.1774\n",
            "Epoch [6 / 10], Train Loss: 0.1662\n",
            "Epoch [7 / 10], Train Loss: 0.1587\n",
            "Epoch [8 / 10], Train Loss: 0.1509\n",
            "Epoch [9 / 10], Train Loss: 0.1456\n",
            "Epoch [10 / 10], Train Loss: 0.1402\n"
          ]
        }
      ],
      "source": [
        "train_model(model, train_loader, criterion, optimizer)"
      ]
    },
    {
      "cell_type": "code",
      "execution_count": 56,
      "metadata": {},
      "outputs": [],
      "source": [
        "_, train_accuracy = predict_and_accuracy(model,train_loader)\n",
        "_, val_accuracy = predict_and_accuracy(model,val_loader)\n",
        "_, test_accuracy = predict_and_accuracy(model,test_loader)"
      ]
    },
    {
      "cell_type": "code",
      "execution_count": 57,
      "metadata": {
        "colab": {
          "base_uri": "https://localhost:8080/"
        },
        "id": "O_jIgMi5iTsT",
        "outputId": "fc52b4b3-a5e8-4f01-d25c-6cc567d37a0e"
      },
      "outputs": [
        {
          "name": "stdout",
          "output_type": "stream",
          "text": [
            "Training Accuracy: 0.9623\n",
            "Validation Accuracy: 0.9508\n",
            "Testing Accuracy: 0.9514\n"
          ]
        }
      ],
      "source": [
        "print(f\"Training Accuracy: {train_accuracy:.4f}\")\n",
        "print(f\"Validation Accuracy: {val_accuracy:.4f}\")\n",
        "print(f\"Testing Accuracy: {test_accuracy:.4f}\")"
      ]
    },
    {
      "cell_type": "markdown",
      "metadata": {},
      "source": [
        "---\n",
        "## Overparameterizaiton"
      ]
    },
    {
      "cell_type": "code",
      "execution_count": 58,
      "metadata": {},
      "outputs": [],
      "source": [
        "width = 2048\n",
        "model = ShallowNet(n_x = 28 * 28, n_h = width, n_y = 10)\n",
        "learning_rate = 1.0\n",
        "optimizer = torch.optim.SGD(model.parameters(), lr = learning_rate)\n",
        "criterion = nn.CrossEntropyLoss()"
      ]
    },
    {
      "cell_type": "code",
      "execution_count": 59,
      "metadata": {
        "colab": {
          "base_uri": "https://localhost:8080/"
        },
        "id": "Ici2d5fnnPxG",
        "outputId": "33033ef3-7721-442f-83d0-8ef0da1daa88"
      },
      "outputs": [
        {
          "name": "stdout",
          "output_type": "stream",
          "text": [
            "Training with Learning Rate = 1.0, Width = 2048\n"
          ]
        },
        {
          "name": "stdout",
          "output_type": "stream",
          "text": [
            "Epoch [1 / 10], Train Loss: 0.2435\n",
            "Epoch [2 / 10], Train Loss: 0.0850\n",
            "Epoch [3 / 10], Train Loss: 0.0530\n",
            "Epoch [4 / 10], Train Loss: 0.0359\n",
            "Epoch [5 / 10], Train Loss: 0.0230\n",
            "Epoch [6 / 10], Train Loss: 0.0146\n",
            "Epoch [7 / 10], Train Loss: 0.0100\n",
            "Epoch [8 / 10], Train Loss: 0.0054\n",
            "Epoch [9 / 10], Train Loss: 0.0025\n",
            "Epoch [10 / 10], Train Loss: 0.0014\n"
          ]
        }
      ],
      "source": [
        "print(f\"Training with Learning Rate = {learning_rate}, Width = {width}\")\n",
        "train_model(model, train_loader, criterion, optimizer, num_epochs = 10)"
      ]
    },
    {
      "cell_type": "code",
      "execution_count": 60,
      "metadata": {},
      "outputs": [],
      "source": [
        "_, train_accuracy = predict_and_accuracy(model,train_loader)\n",
        "_, val_accuracy = predict_and_accuracy(model,val_loader)\n",
        "_, test_accuracy = predict_and_accuracy(model,test_loader)"
      ]
    },
    {
      "cell_type": "code",
      "execution_count": 61,
      "metadata": {
        "colab": {
          "base_uri": "https://localhost:8080/"
        },
        "id": "KH-e9Q3ur2RC",
        "outputId": "a40fa675-3a79-4e1d-f875-f6846a1a6bc2"
      },
      "outputs": [
        {
          "name": "stdout",
          "output_type": "stream",
          "text": [
            "Training Accuracy: 1.0000\n",
            "Validation Accuracy: 0.9830\n",
            "Testing Accuracy: 0.9853\n"
          ]
        }
      ],
      "source": [
        "print(f\"Training Accuracy: {train_accuracy:.4f}\")\n",
        "print(f\"Validation Accuracy: {val_accuracy:.4f}\")\n",
        "print(f\"Testing Accuracy: {test_accuracy:.4f}\")"
      ]
    },
    {
      "cell_type": "code",
      "execution_count": null,
      "metadata": {
        "id": "JOHrFm-n8vna"
      },
      "outputs": [],
      "source": []
    }
  ],
  "metadata": {
    "accelerator": "GPU",
    "colab": {
      "gpuType": "T4",
      "provenance": [],
      "toc_visible": true
    },
    "kernelspec": {
      "display_name": "Python 3",
      "name": "python3"
    },
    "language_info": {
      "codemirror_mode": {
        "name": "ipython",
        "version": 3
      },
      "file_extension": ".py",
      "mimetype": "text/x-python",
      "name": "python",
      "nbconvert_exporter": "python",
      "pygments_lexer": "ipython3",
      "version": "3.9.11"
    }
  },
  "nbformat": 4,
  "nbformat_minor": 0
}
